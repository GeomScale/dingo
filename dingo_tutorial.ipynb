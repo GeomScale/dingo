{
  "nbformat": 4,
  "nbformat_minor": 0,
  "metadata": {
    "colab": {
      "name": "dingo-tutorial.ipynb",
      "provenance": [],
      "collapsed_sections": [],
      "toc_visible": true,
      "include_colab_link": true
    },
    "kernelspec": {
      "display_name": "Python 3",
      "name": "python3"
    },
    "language_info": {
      "name": "python"
    }
  },
  "cells": [
    {
      "cell_type": "markdown",
      "metadata": {
        "id": "view-in-github",
        "colab_type": "text"
      },
      "source": [
        "<a href=\"https://colab.research.google.com/github/hariszaf/dingo/blob/dingo_tutorial/dingo_tutorial.ipynb\" target=\"_parent\"><img src=\"https://colab.research.google.com/assets/colab-badge.svg\" alt=\"Open In Colab\"/></a>"
      ]
    },
    {
      "cell_type": "markdown",
      "metadata": {
        "id": "XsGorJWn4Q6U"
      },
      "source": [
        "#  `dingo` : A python library for metabolic networks sampling and analysis"
      ]
    },
    {
      "cell_type": "markdown",
      "metadata": {
        "id": "04-ezSozK3QT"
      },
      "source": [
        "\n",
        "## About this Colab notebook "
      ]
    },
    {
      "cell_type": "markdown",
      "metadata": {
        "id": "-IBI5DoLMDCn"
      },
      "source": [
        "Aim of this notebook is to highlight the importance of metabolic networks analysis and the insight it may provide, as well as to demonstrate how to use the `dingo` Python library for the analysis of metabolic networks.  \n"
      ]
    },
    {
      "cell_type": "markdown",
      "metadata": {
        "id": "L-pK94S-GPYG"
      },
      "source": [
        "For your convenience, we suggest to make a copy of the notebook \n",
        "by saving this notebook on your Google Drive \n",
        "\n",
        "(`File > Save a copy in Drive`). \n",
        "\n",
        "This way you can change things on the notebook, and make your own experiments as you like!"
      ]
    },
    {
      "cell_type": "markdown",
      "metadata": {
        "id": "zUpwu6ue1MEG"
      },
      "source": [
        "* The `&> /dev/null` in the end of a command is so you do not see all the messages returned when the command is executed.\n",
        "* The `%%capture` is a flag so Google Colab not to prin the output of the chunk of code in a cell. We have used it in some cases to avoid long warning messages. "
      ]
    },
    {
      "cell_type": "markdown",
      "metadata": {
        "id": "8CKAQaoN1ORJ"
      },
      "source": [
        "In case an error comes up when running a notebook's command, you may click \n",
        "\n",
        "`Runtime > Factory reset runtime` \n",
        "\n",
        "and run the notebook from scratch."
      ]
    },
    {
      "cell_type": "markdown",
      "metadata": {
        "id": "3MVGIeyfFItc"
      },
      "source": [
        "### Installation "
      ]
    },
    {
      "cell_type": "markdown",
      "metadata": {
        "id": "WrAMCM444ZIX"
      },
      "source": [
        "Regarding installation of `dingo` you may either follow the instructions described above or those described on [GitHub](https://github.com/GeomScale/dingo). In the latter, we use the [`poetry`](https://github.com/GeomScale/dingo) tool for dependency management and packaging of Python packages.\n",
        "Here we don't. "
      ]
    },
    {
      "cell_type": "markdown",
      "metadata": {
        "id": "oDTOu161Fz_d"
      },
      "source": [
        "In case you will follow the instruction described here, you need to remember that when working on a normal console (terminal) you will have to remove any `!` and `%` characters from the begining of the following commands; these allow to Google Colab work as a terminal console. "
      ]
    },
    {
      "cell_type": "markdown",
      "metadata": {
        "id": "ADo6JEHHcQGc"
      },
      "source": [
        "**Requirements:**\n",
        "\n",
        "* a Unix like environment, e.g Linux, MacOS etc.\n",
        "* a computer machine with at least 4GB of RAM; `dingo` requires about 4GB to compile "
      ]
    },
    {
      "cell_type": "markdown",
      "metadata": {
        "id": "7CwAe0jxD5aB"
      },
      "source": [
        "## Introduction"
      ]
    },
    {
      "cell_type": "markdown",
      "metadata": {
        "id": "nzzDw-EJKZpy"
      },
      "source": [
        "### Genome scale metabolic network reconstruction"
      ]
    },
    {
      "cell_type": "markdown",
      "metadata": {
        "id": "UdP-wtlwHdpZ"
      },
      "source": [
        "🧬 🧬 Over the last decades, vast amounts of data have been gathered mostly thanks to the High Throuput technologies developed. \n",
        "\n",
        "As a result, the complete sequencing of a bacterial (strain) **genome** is now considered trivial. \n",
        "\n",
        "Global efforts have lead to large databases supporting the **annotation** of the genes found in a genome."
      ]
    },
    {
      "cell_type": "markdown",
      "metadata": {
        "id": "H2UE0ORSS_sQ"
      },
      "source": [
        "\n",
        "<img src='https://drive.google.com/uc?id=1v-BnN3Rsnc8_UuLTUo2rwGvP9oUWvcYW' height=350>\n",
        "<img src='https://drive.google.com/uc?id=1D62Xxc_X5DRW5naMfY6rCyLm4v98FXMC' height=350>"
      ]
    },
    {
      "cell_type": "markdown",
      "metadata": {
        "id": "6ZG3nbgBN34k"
      },
      "source": [
        "From the genome annotation we can now get the **enzymes** and therefore, the **reactions** that potentially take place in our strain (along with their stoichiometry)."
      ]
    },
    {
      "cell_type": "markdown",
      "metadata": {
        "id": "ZwJEvcTfY_fC"
      },
      "source": [
        "<img src='https://drive.google.com/uc?id=1_vuamqeEzjvJMw5_hR4XuLnjj0KJn1x0' height=200 wirth=300>\n",
        "<img src='https://drive.google.com/uc?id=1sw7nCeVJQfIc6oiDCGvfKFIqXg_so3Eb' height=\"200\" width=250>"
      ]
    },
    {
      "cell_type": "markdown",
      "metadata": {
        "id": "hKPc6n9Xd5PK"
      },
      "source": [
        "And from the sum of the reactions present, along with their corresponding constraints, we can now get the metabolic network of the species. \n",
        "Thus, we have now software tools that enable automatic genome-scale reconstructions (e.g. [carveme](https://carveme.readthedocs.io/en/latest/))"
      ]
    },
    {
      "cell_type": "markdown",
      "metadata": {
        "id": "QWnL4ZQxOcTb"
      },
      "source": [
        "The corresponding metabolic model is the *mathematical representation* of what happens in the organism along with the intaractions between it and its environmnet. Here is a toy example:"
      ]
    },
    {
      "cell_type": "markdown",
      "metadata": {
        "id": "l7YlhJjSPFRo"
      },
      "source": [
        "<img src='https://drive.google.com/uc?id=1x20oGpf8ACikdAR7lxAORNfw8QFPwCom'>"
      ]
    },
    {
      "cell_type": "markdown",
      "metadata": {
        "id": "8V56ZZCY7aic"
      },
      "source": [
        "And here is what metabolic networks allow us to see! "
      ]
    },
    {
      "cell_type": "code",
      "metadata": {
        "id": "G5m2-7t7fUkf",
        "colab": {
          "base_uri": "https://localhost:8080/",
          "height": 357
        },
        "outputId": "92a79a5d-ac6d-4732-ba7a-f6c4da7ad375"
      },
      "source": [
        "#@title Pathway reactions fluxes representation{ display-mode: \"form\" }\n",
        "from IPython.display import HTML\n",
        "HTML('<video width=\"40%\" height=\"25%\" loop autoplay><source src=\"https://gibbons-lab.github.io/isb_course_2020/micom/assets/fluxes.mp4\" type=\"video/mp4\"></video>')\n",
        "\n"
      ],
      "execution_count": null,
      "outputs": [
        {
          "output_type": "execute_result",
          "data": {
            "text/html": [
              "<video width=\"40%\" height=\"25%\" loop autoplay><source src=\"https://gibbons-lab.github.io/isb_course_2020/micom/assets/fluxes.mp4\" type=\"video/mp4\"></video>"
            ],
            "text/plain": [
              "<IPython.core.display.HTML object>"
            ]
          },
          "metadata": {
            "tags": []
          },
          "execution_count": 1
        }
      ]
    },
    {
      "cell_type": "markdown",
      "metadata": {
        "id": "nKY2gxKcf_zg"
      },
      "source": [
        "This GIFF is from a [presentation](https://gibbons-lab.github.io/isb_course_2020/micom/) from Christian Diener at Gibbons Lab!\n",
        "  🤓 "
      ]
    },
    {
      "cell_type": "markdown",
      "metadata": {
        "id": "DrikcKuf7hjt"
      },
      "source": [
        "### Metabolic networks analysis"
      ]
    },
    {
      "cell_type": "markdown",
      "metadata": {
        "id": "N5elFWq-7q6p"
      },
      "source": [
        "Now that we do have a metabolic model, the question is *how could someone investigate its properties?*"
      ]
    },
    {
      "cell_type": "markdown",
      "metadata": {
        "id": "v8cgveHyHdmq"
      },
      "source": [
        "So, from each metabolic model we can get a stoichiometric matrix ($S$) of the reactions that take place in the organism along with their corresponding constraints. \n",
        "As you can guess, $S$ is nothing but a matrix with $m$ metabolites and $n$ reactions!"
      ]
    },
    {
      "cell_type": "markdown",
      "metadata": {
        "id": "e4rCPCwghY_6"
      },
      "source": [
        "$S_{m,n} =\n",
        " \\begin{pmatrix}\n",
        "  a_{1,1} & a_{1,2} & \\cdots & a_{1,n} \\\\\n",
        "  a_{2,1} & a_{2,2} & \\cdots & a_{2,n} \\\\\n",
        "  \\vdots  & \\vdots  & \\ddots & \\vdots  \\\\\n",
        "  a_{m,1} & a_{m,2} & \\cdots & a_{m,n}\n",
        " \\end{pmatrix}$"
      ]
    },
    {
      "cell_type": "markdown",
      "metadata": {
        "id": "BSXWJ5U8hdUK"
      },
      "source": [
        "Where each line is a **metabolite** and each column a **reaction**. "
      ]
    },
    {
      "cell_type": "markdown",
      "metadata": {
        "id": "K5-JGM6jeend"
      },
      "source": [
        "Considering our system is at steady state, the flux through each reaction is given by the following equation: \n",
        "\n",
        "$Sv = 0$ \n",
        "\n",
        "which defines a system of linear equations. "
      ]
    },
    {
      "cell_type": "markdown",
      "metadata": {
        "id": "y76vXL78oEKP"
      },
      "source": [
        "The solution space for that system is a **polytope**; a geometric object with \"flat\" sides that lives in a large number of dimensions. \n",
        "\n",
        "<img src=\"https://drive.google.com/uc?id=1CF_XbO5w89E6hXDXotNuApQXylfWRW5P\" height=350>\n"
      ]
    },
    {
      "cell_type": "markdown",
      "metadata": {
        "id": "n6NZrAVttexG"
      },
      "source": [
        "**Flux Balance Analysis (FBA)** is commonly used to identify an optimal flux distribution by optimizing a linear objective function; e.g the biomass value of the organism. You may see more about FBA [here](https://www.nature.com/articles/nbt.1614/).\n",
        "\n",
        "\n",
        "<img src=\"https://drive.google.com/uc?id=1gxKIvpFOpfHdJ4YCA5OlMzDmgyEU72KU\">\n",
        "\n",
        "Figure from: [Libourel, I. G., & Shachar-Hill, Y.. Annu. Rev. Plant Biol. 59 (2008)](10.1146/annurev.arplant.58.032806.103822)\n"
      ]
    },
    {
      "cell_type": "markdown",
      "metadata": {
        "id": "Ywwrs7BOtkYY"
      },
      "source": [
        "**Flux Variability Analysis (FVA)** evaluates the minimum and maximum range of each reaction flux that can still satisfy the constraints of the metabolic model. \n",
        "\n",
        "To this end FVA uses a double linear programming problem, a maximization and a subsequent minimization for each reaction.\n",
        "\n",
        "<img src=\"https://drive.google.com/uc?id=1xL66uYMTxRvM4qjrqYbQhxGqrvOLn27z\" height=300>\n",
        "\n",
        "Figure by a presentation of [Lizbeth Hampton](https://slideplayer.com/slide/13509212/)."
      ]
    },
    {
      "cell_type": "markdown",
      "metadata": {
        "id": "3CvfTpQw44FT"
      },
      "source": [
        "Both FBA and FVA are biased methods as they require an objective function and they return either a single or a pair of flux values respectively. \n",
        "**Flux sampling** on the other hand is an unbiased method for metabolic network analysis, providing a thorough description of the potential values a flux might get, along with the probability to get it. "
      ]
    },
    {
      "cell_type": "markdown",
      "metadata": {
        "id": "meBkuCBUogRJ"
      },
      "source": [
        "Our goal is to perform **uniform sampling** on this solution space (also called **flux space**) to gain an unbiased overview of the model's global features but also to investigate how the model responses in various situations. "
      ]
    },
    {
      "cell_type": "markdown",
      "metadata": {
        "id": "CRPoqy2jpvIa"
      },
      "source": [
        "However, sampling can be a rather challenging task both from the computational and the geometical point of view. \n",
        "\n",
        "💪 To this end, `dingo` makes use of the [Multiphase Monte Carlo Sampling algorithm (MMCS)](https://drops.dagstuhl.de/opus/volltexte/2021/13798/pdf/lipics-vol189-socg2021-complete.pdf) developed by the [GeomScale Org.](https://geomscale.github.io/) too. \n",
        "\n",
        "💪 Our method splits sampling in phases and makes use of **rounding** steps; this way it is both efficient and returns high quality samples. \n",
        "\n",
        "\n",
        "<img src=\"https://drive.google.com/uc?id=1QsrAuRc3f7KpldevzqHy4I1-7y_Lx6Vn\">\n",
        "  "
      ]
    },
    {
      "cell_type": "markdown",
      "metadata": {
        "id": "2XOkRFcXsm6u"
      },
      "source": [
        "In addition, the MMCS algorithm uses an optimized variant of Billiard Walk with faster arithmetic complexity per step. \n",
        "\n",
        "Here is an example of how a new point is found. "
      ]
    },
    {
      "cell_type": "markdown",
      "metadata": {
        "id": "WX5_VagweffU"
      },
      "source": [
        "\n",
        "<img src=\"https://drive.google.com/uc?id=15M4J6qiJnFl7T-WgUTentVdyhoeN4_85\" height= 200>\n",
        "\n",
        "<img src=\"https://drive.google.com/uc?id=1ApFtNGqEpe3lWugJnbZ9SL4pGPnOD6zj\" height= 200>\n",
        "\n",
        "<img src=\"https://drive.google.com/uc?id=1adYF5SUZMDbFTrj0zet-kMeqFgsVqfWA\" height= 200>\n",
        "\n",
        "\n",
        "<img src=\"https://drive.google.com/uc?id=1v3zcJQ4Nj4jdUpKESDdmP-zrOBxGOJpf\" height= 200>\n",
        "\n",
        "<img src=\"https://drive.google.com/uc?id=1HU30rfJoC8nmrlv_Ibblmygh_ZL6KoHN\" height= 200>\n",
        "\n",
        "\n",
        "\n",
        "<img src=\"https://drive.google.com/uc?id=1MmuZgNMQajqSufiHRUgJh3x--L77jAd4\" height= 200>\n",
        "\n",
        "\n"
      ]
    },
    {
      "cell_type": "markdown",
      "metadata": {
        "id": "0pGWGH9Yefhx"
      },
      "source": [
        "Finally, the modular design of the method enables the use of any random walk.\n"
      ]
    },
    {
      "cell_type": "markdown",
      "metadata": {
        "id": "akAjYEubCrTY"
      },
      "source": [
        "-------------------------------------------------"
      ]
    },
    {
      "cell_type": "markdown",
      "metadata": {
        "id": "PqWGwdr9Cs-H"
      },
      "source": [
        "## Get and install *dingo*"
      ]
    },
    {
      "cell_type": "markdown",
      "metadata": {
        "id": "UkdSbnJQwJSm"
      },
      "source": [
        "Here we will see how to install `dingo` and all its dependecies manually. \n",
        "However, you can also install `dingo` via `poetry`; for more you may see [here](https://github.com/GeomScale/dingo)."
      ]
    },
    {
      "cell_type": "markdown",
      "metadata": {
        "id": "dqa089jFDXaH"
      },
      "source": [
        "Install the dependencies for PySPQR library; for debian/ubuntu linux run:"
      ]
    },
    {
      "cell_type": "code",
      "metadata": {
        "id": "0eBtFIaIzZ66"
      },
      "source": [
        "!apt-get install libsuitesparse-dev &> /dev/null\n",
        "!pip install sparseqr &> /dev/null\n",
        "!pip install Cython &> /dev/null"
      ],
      "execution_count": null,
      "outputs": []
    },
    {
      "cell_type": "markdown",
      "metadata": {
        "id": "yYqOnx7_4ZRN"
      },
      "source": [
        "Get the `dingo` repo."
      ]
    },
    {
      "cell_type": "code",
      "metadata": {
        "id": "A6Mcqrqt3_Sa",
        "colab": {
          "base_uri": "https://localhost:8080/"
        },
        "outputId": "a1f1a4e7-9acb-44b3-f168-c28192f04180"
      },
      "source": [
        "!git clone https://github.com/GeomScale/dingo.git"
      ],
      "execution_count": null,
      "outputs": [
        {
          "output_type": "stream",
          "text": [
            "Cloning into 'dingo'...\n",
            "remote: Enumerating objects: 141, done.\u001b[K\n",
            "remote: Counting objects: 100% (125/125), done.\u001b[K\n",
            "remote: Compressing objects: 100% (107/107), done.\u001b[K\n",
            "remote: Total 141 (delta 58), reused 65 (delta 16), pack-reused 16\u001b[K\n",
            "Receiving objects: 100% (141/141), 181.31 KiB | 3.70 MiB/s, done.\n",
            "Resolving deltas: 100% (58/58), done.\n"
          ],
          "name": "stdout"
        }
      ]
    },
    {
      "cell_type": "markdown",
      "metadata": {
        "id": "qePKvNyVFrHG"
      },
      "source": [
        "To load the submodules that `dingo` uses, run:"
      ]
    },
    {
      "cell_type": "code",
      "metadata": {
        "id": "n-zpDmAy9V-8",
        "colab": {
          "base_uri": "https://localhost:8080/"
        },
        "outputId": "c3587cfd-2462-44ed-91fc-ece5c585f71c"
      },
      "source": [
        "%cd dingo/\n",
        "!git submodule update --init"
      ],
      "execution_count": null,
      "outputs": [
        {
          "output_type": "stream",
          "text": [
            "/content/dingo\n",
            "Submodule 'eigen' (https://gitlab.com/libeigen/eigen.git) registered for path 'eigen'\n",
            "Submodule 'volume_approximation' (https://github.com/TolisChal/volume_approximation.git) registered for path 'volume_approximation'\n",
            "Cloning into '/content/dingo/eigen'...\n",
            "Cloning into '/content/dingo/volume_approximation'...\n",
            "Submodule path 'eigen': checked out '53a7864c48a2b2fc226c69e9184d7cc8e6b36b6d'\n",
            "Submodule path 'volume_approximation': checked out 'facbe630f435d187416e34f5dcfa5e391c54105a'\n"
          ],
          "name": "stdout"
        }
      ]
    },
    {
      "cell_type": "markdown",
      "metadata": {
        "id": "jb6XxVcbF0h3"
      },
      "source": [
        "Then, download and unzip the `boost` library:"
      ]
    },
    {
      "cell_type": "code",
      "metadata": {
        "id": "vkjI-YD69dkw"
      },
      "source": [
        "!wget -O boost_1_76_0.tar.bz2 https://boostorg.jfrog.io/artifactory/main/release/1.76.0/source/boost_1_76_0.tar.bz2 &> /dev/null\n",
        "!tar xjf boost_1_76_0.tar.bz2 &> /dev/null\n",
        "!rm boost_1_76_0.tar.bz2 &> /dev/null"
      ],
      "execution_count": null,
      "outputs": []
    },
    {
      "cell_type": "markdown",
      "metadata": {
        "id": "RK_xgnsYAfOr"
      },
      "source": [
        "Install `dingo`"
      ]
    },
    {
      "cell_type": "markdown",
      "metadata": {
        "id": "Gu9E7fidgjnW"
      },
      "source": [
        "The following command will install `dingo` and it will take a while to compile. \n",
        "\n",
        "Remember that about 4GB of RAM are required to do so. "
      ]
    },
    {
      "cell_type": "code",
      "metadata": {
        "id": "hMNc6tbiwhG1",
        "colab": {
          "base_uri": "https://localhost:8080/"
        },
        "outputId": "ada3f6cc-c938-4afb-d08a-479972d29258"
      },
      "source": [
        "!python setup.py install --user &> /dev/null\n",
        "print('dingo is ready to go!')"
      ],
      "execution_count": null,
      "outputs": [
        {
          "output_type": "stream",
          "text": [
            "dingo is ready to go!\n"
          ],
          "name": "stdout"
        }
      ]
    },
    {
      "cell_type": "markdown",
      "metadata": {
        "id": "PLCBCsYiGEXz"
      },
      "source": [
        "We have made some tests for you so you can make sure `dingo` has been installed properly.\n",
        "\n",
        "You may have a look at these [test files](https://github.com/GeomScale/dingo/tree/develop/tests) so you can run `dingo` from your terminal."
      ]
    },
    {
      "cell_type": "code",
      "metadata": {
        "id": "f7q8A5TDxtOS"
      },
      "source": [
        "%%capture\n",
        "!python tests/unit_tests.py"
      ],
      "execution_count": null,
      "outputs": []
    },
    {
      "cell_type": "markdown",
      "metadata": {
        "id": "rWJ00dGySfol"
      },
      "source": [
        "Remember that in order for `dingo` to perform the best way possible, you need to get the `gurobi` solver. \n",
        "\n",
        "To do so, you need to get the solver by running:\n",
        "\n",
        "`\n",
        "pip3 install -i https://pypi.gurobi.com gurobipy\n",
        "`\n",
        "\n",
        "and download a (academic) [license](https://www.gurobi.com/downloads/end-user-license-agreement-academic/). "
      ]
    },
    {
      "cell_type": "markdown",
      "metadata": {
        "id": "iwZEvB6tC6jc"
      },
      "source": [
        "--------------------------------------------------------------------------"
      ]
    },
    {
      "cell_type": "markdown",
      "metadata": {
        "id": "rLfOQgaQuULC"
      },
      "source": [
        "The following command is to make Colab have access to the `dingo` library that was just compiled. \n",
        "This will be probably **no need for you**. \n",
        "In case Python does not find `dingo`, just check the \n",
        "semifinal line on the complilation step, in this case:\n",
        "\n",
        "`Writing /root/.local/lib/python3.7/site-packages/dingo-0.1.0.egg-info`\n",
        "\n",
        "This is the path where `dingo` was compiled. "
      ]
    },
    {
      "cell_type": "code",
      "metadata": {
        "id": "ojsTmKVZYocZ"
      },
      "source": [
        "import sys\n",
        "_ = (sys.path.append(\"/root/.local/lib/python3.7/site-packages/\"))"
      ],
      "execution_count": null,
      "outputs": []
    },
    {
      "cell_type": "markdown",
      "metadata": {
        "id": "Ua5lGNc8C8QE"
      },
      "source": [
        "-------------------------------------------------------------------------------"
      ]
    },
    {
      "cell_type": "markdown",
      "metadata": {
        "id": "2dtcobmYQOWp"
      },
      "source": [
        "## Run `dingo` to analyse your metabolic network"
      ]
    },
    {
      "cell_type": "markdown",
      "metadata": {
        "id": "AiFwL4lRugVC"
      },
      "source": [
        "Now we know that our Python console has been installed fine, we may ipmort `dingo`! "
      ]
    },
    {
      "cell_type": "code",
      "metadata": {
        "id": "FahzUpQFommK"
      },
      "source": [
        "import dingo"
      ],
      "execution_count": null,
      "outputs": []
    },
    {
      "cell_type": "markdown",
      "metadata": {
        "id": "AzFd-qTWryBW"
      },
      "source": [
        "Let us now have a look about how we can use `dingo`"
      ]
    },
    {
      "cell_type": "markdown",
      "metadata": {
        "id": "Hdx3hl-aw6sF"
      },
      "source": [
        "The `ess` stands for the effective sample size (ESS) (default value is `1000`) and the `psrf` is a flag to request an upper bound equal to `1.1` for the value of the *potential scale reduction factor* (PSRF) of each marginal flux (default option is `False`)."
      ]
    },
    {
      "cell_type": "code",
      "metadata": {
        "id": "ppBskvLpr22w"
      },
      "source": [
        "from dingo import MetabolicNetwork\n",
        "\n",
        "model = MetabolicNetwork.from_json('dingo/ext_data/e_coli_core.json')"
      ],
      "execution_count": null,
      "outputs": []
    },
    {
      "cell_type": "markdown",
      "metadata": {
        "id": "8BU8YYL9PC-z"
      },
      "source": [
        "Let's see what the model consists from. "
      ]
    },
    {
      "cell_type": "markdown",
      "metadata": {
        "id": "jxLug5xuPMcB"
      },
      "source": [
        "First of all, let's see the metabolites ($m$) included in our model. \n",
        "Here is the first 10 of them. "
      ]
    },
    {
      "cell_type": "code",
      "metadata": {
        "id": "_1r63O_AXzTO",
        "colab": {
          "base_uri": "https://localhost:8080/"
        },
        "outputId": "ed5bce3b-9431-4df7-d360-9ee0e73d33dd"
      },
      "source": [
        "print('Number of metabolites in my model: ', len(model.metabolites))\n",
        "print('Here are the first 10 metabolites in your model: ', model.metabolites[:9])"
      ],
      "execution_count": null,
      "outputs": [
        {
          "output_type": "stream",
          "text": [
            "Number of metabolites in my model:  72\n",
            "Here are the first 10 metabolites in your model:  ['adp_c', 'atp_c', 'f6p_c', 'fdp_c', 'h_c', 'accoa_c', 'coa_c', 'for_c', 'pyr_c']\n"
          ],
          "name": "stdout"
        }
      ]
    },
    {
      "cell_type": "markdown",
      "metadata": {
        "id": "sxaWOTJ-Paoq"
      },
      "source": [
        "And now, let us have a look in the reactions ($n$) that occur. \n",
        "Again, here is the first 10 reactions. "
      ]
    },
    {
      "cell_type": "code",
      "metadata": {
        "id": "oEYN_hbeXjpy",
        "colab": {
          "base_uri": "https://localhost:8080/"
        },
        "outputId": "c74f2ff7-f358-43c6-c4cf-2e654fdd4db4"
      },
      "source": [
        "print('Number of reactions in my model: ', len(model.reactions))\n",
        "print('Here are the first 10 reactions in your model: ', model.reactions[:9])"
      ],
      "execution_count": null,
      "outputs": [
        {
          "output_type": "stream",
          "text": [
            "Number of reactions in my model:  95\n",
            "Here are the first 10 reactions in your model:  ['PFK', 'PFL', 'PGI', 'PGK', 'PGL', 'ACALD', 'AKGt2r', 'PGM', 'PIt2r']\n"
          ],
          "name": "stdout"
        }
      ]
    },
    {
      "cell_type": "markdown",
      "metadata": {
        "id": "qZk9H2aBPrFj"
      },
      "source": [
        "Moreover, let us see the stoichiometrix matrix ($S$) of our model."
      ]
    },
    {
      "cell_type": "code",
      "metadata": {
        "id": "DurJhomTPzO1",
        "colab": {
          "base_uri": "https://localhost:8080/"
        },
        "outputId": "9f8de1cc-0a17-4070-e449-1e468a456ac9"
      },
      "source": [
        "model.S"
      ],
      "execution_count": null,
      "outputs": [
        {
          "output_type": "execute_result",
          "data": {
            "text/plain": [
              "array([[ 1.,  0.,  0., ...,  0.,  0.,  0.],\n",
              "       [-1.,  0.,  0., ...,  0.,  0.,  0.],\n",
              "       [-1.,  0.,  1., ...,  0.,  0.,  0.],\n",
              "       ...,\n",
              "       [ 0.,  0.,  0., ...,  0.,  0.,  0.],\n",
              "       [ 0.,  0.,  0., ...,  1.,  0.,  0.],\n",
              "       [ 0.,  0.,  0., ...,  0.,  0.,  0.]])"
            ]
          },
          "metadata": {
            "tags": []
          },
          "execution_count": 12
        }
      ]
    },
    {
      "cell_type": "markdown",
      "metadata": {
        "id": "wHkrYqfTemnW"
      },
      "source": [
        "And its dimensions are of course $m*n$."
      ]
    },
    {
      "cell_type": "code",
      "metadata": {
        "id": "Tl52cmuaenlY",
        "colab": {
          "base_uri": "https://localhost:8080/"
        },
        "outputId": "56c6abb2-cad6-4e3e-e1ba-37e6b581fae2"
      },
      "source": [
        "model.S.shape"
      ],
      "execution_count": null,
      "outputs": [
        {
          "output_type": "execute_result",
          "data": {
            "text/plain": [
              "(72, 95)"
            ]
          },
          "metadata": {
            "tags": []
          },
          "execution_count": 13
        }
      ]
    },
    {
      "cell_type": "markdown",
      "metadata": {
        "id": "nsGLu7c0d3Ra"
      },
      "source": [
        "Last but not least, let us have a look at the **biomass** or **objective function** of our model. "
      ]
    },
    {
      "cell_type": "code",
      "metadata": {
        "id": "hpnbfsBVeCFK",
        "colab": {
          "base_uri": "https://localhost:8080/"
        },
        "outputId": "4b190abb-6bcf-4c33-ebab-869fef66d33c"
      },
      "source": [
        "model.biomass_function"
      ],
      "execution_count": null,
      "outputs": [
        {
          "output_type": "execute_result",
          "data": {
            "text/plain": [
              "array([0., 0., 0., 0., 0., 0., 0., 0., 0., 0., 0., 0., 0., 0., 0., 0., 0.,\n",
              "       0., 0., 0., 0., 0., 0., 0., 1., 0., 0., 0., 0., 0., 0., 0., 0., 0.,\n",
              "       0., 0., 0., 0., 0., 0., 0., 0., 0., 0., 0., 0., 0., 0., 0., 0., 0.,\n",
              "       0., 0., 0., 0., 0., 0., 0., 0., 0., 0., 0., 0., 0., 0., 0., 0., 0.,\n",
              "       0., 0., 0., 0., 0., 0., 0., 0., 0., 0., 0., 0., 0., 0., 0., 0., 0.,\n",
              "       0., 0., 0., 0., 0., 0., 0., 0., 0., 0.])"
            ]
          },
          "metadata": {
            "tags": []
          },
          "execution_count": 14
        }
      ]
    },
    {
      "cell_type": "markdown",
      "metadata": {
        "id": "MLXZt3umeGJm"
      },
      "source": [
        "As you can see, this array has only a single `1` in index `24`.\n",
        "Let's see which function is this. "
      ]
    },
    {
      "cell_type": "code",
      "metadata": {
        "id": "-04jUh1veQNt",
        "colab": {
          "base_uri": "https://localhost:8080/",
          "height": 35
        },
        "outputId": "30122bce-5847-4e7f-a82c-94c7f1109bd4"
      },
      "source": [
        "model.reactions[24]"
      ],
      "execution_count": null,
      "outputs": [
        {
          "output_type": "execute_result",
          "data": {
            "application/vnd.google.colaboratory.intrinsic+json": {
              "type": "string"
            },
            "text/plain": [
              "'BIOMASS_Ecoli_core_w_GAM'"
            ]
          },
          "metadata": {
            "tags": []
          },
          "execution_count": 15
        }
      ]
    },
    {
      "cell_type": "markdown",
      "metadata": {
        "id": "dLi2HZWTjS0e"
      },
      "source": [
        "Ok, so what exactly is the biommas function? 🤔 \n",
        "\n",
        "Let's print the `24` column of our $S$ matrix to see what we have there."
      ]
    },
    {
      "cell_type": "code",
      "metadata": {
        "id": "1c93OKZ7eUPX"
      },
      "source": [
        "# We import numpy and set the threshold parameter to max to enable the display of all the elements of the array\n",
        "import numpy\n",
        "numpy.set_printoptions(threshold=sys.maxsize)\n",
        "model.S[:,24]"
      ],
      "execution_count": null,
      "outputs": []
    },
    {
      "cell_type": "markdown",
      "metadata": {
        "id": "iJa3YQr7jq2-"
      },
      "source": [
        "And just to make sure, let's print the length of this array too. "
      ]
    },
    {
      "cell_type": "code",
      "metadata": {
        "id": "wFTLZewLiAH-",
        "colab": {
          "base_uri": "https://localhost:8080/"
        },
        "outputId": "eddc1adb-461f-4b27-ac2c-6e9a48567d38"
      },
      "source": [
        "model.S[:,24].shape"
      ],
      "execution_count": null,
      "outputs": [
        {
          "output_type": "execute_result",
          "data": {
            "text/plain": [
              "(72,)"
            ]
          },
          "metadata": {
            "tags": []
          },
          "execution_count": 18
        }
      ]
    },
    {
      "cell_type": "markdown",
      "metadata": {
        "id": "6TlgVCJijyCO"
      },
      "source": [
        "As expected, the length of the biomass array equals to the number of the metabolites of our model. "
      ]
    },
    {
      "cell_type": "code",
      "metadata": {
        "id": "EjD7uBgfhYu0",
        "colab": {
          "base_uri": "https://localhost:8080/"
        },
        "outputId": "91ef3109-04d5-4734-dcf4-6cc4578f4f58"
      },
      "source": [
        "len(model.metabolites)"
      ],
      "execution_count": null,
      "outputs": [
        {
          "output_type": "execute_result",
          "data": {
            "text/plain": [
              "72"
            ]
          },
          "metadata": {
            "tags": []
          },
          "execution_count": 19
        }
      ]
    },
    {
      "cell_type": "markdown",
      "metadata": {
        "id": "Pq0IOSSdkECR"
      },
      "source": [
        "Moreover, you need to remember that the indexes of those 2 arrays are in order, meaning that the actual biomass function would be as follows:"
      ]
    },
    {
      "cell_type": "markdown",
      "metadata": {
        "id": "oQ6GhgTblIND"
      },
      "source": [
        "$ 59.81*adp\\_c - 59.81*atp\\_c -0.0709*f6p\\_c + ...  -0.8977*r5p\\_c$"
      ]
    },
    {
      "cell_type": "markdown",
      "metadata": {
        "id": "NmVjo47VP8xj"
      },
      "source": [
        "You can also have a look on the `dingo` related parameters of the model you just built."
      ]
    },
    {
      "cell_type": "code",
      "metadata": {
        "id": "NuVrc64WYJbJ",
        "colab": {
          "base_uri": "https://localhost:8080/"
        },
        "outputId": "4c275328-795d-4b83-9d53-f5524b325fec"
      },
      "source": [
        "model.parameters"
      ],
      "execution_count": null,
      "outputs": [
        {
          "output_type": "execute_result",
          "data": {
            "text/plain": [
              "{'distribution': 'uniform',\n",
              " 'fast_computations': False,\n",
              " 'nullspace_method': 'sparseQR',\n",
              " 'opt_percentage': 100}"
            ]
          },
          "metadata": {
            "tags": []
          },
          "execution_count": 20
        }
      ]
    },
    {
      "cell_type": "markdown",
      "metadata": {
        "id": "Bzol1NZmTAco"
      },
      "source": [
        "### Run `dingo` to sample the flux space of your model"
      ]
    },
    {
      "cell_type": "markdown",
      "metadata": {
        "id": "gH3q_ImwT8H_"
      },
      "source": [
        "Once your `model` is set, you can go sampling using the [`PolytopeSampler`](https://github.com/GeomScale/dingo/blob/a76b4be22f33feac86dff38746c7f2706afb2b67/dingo/PolytopeSampler.py#L28) class of `dingo`. \n",
        "\n",
        "So, you first build an instance of this class based on your `model`"
      ]
    },
    {
      "cell_type": "code",
      "metadata": {
        "id": "HHXSrEelXh4o"
      },
      "source": [
        "from dingo import PolytopeSampler\n",
        "sampler = PolytopeSampler(model)"
      ],
      "execution_count": null,
      "outputs": []
    },
    {
      "cell_type": "markdown",
      "metadata": {
        "id": "ALKDxEMXUVgk"
      },
      "source": [
        "and then you run the `generate_steady_states` method of it. "
      ]
    },
    {
      "cell_type": "markdown",
      "metadata": {
        "id": "TqJZftR1kMgC"
      },
      "source": [
        "The [`generate_steady_states`](https://github.com/GeomScale/dingo/blob/a76b4be22f33feac86dff38746c7f2706afb2b67/dingo/PolytopeSampler.py#L119) method can be used with no arguments, i.e.\n",
        "\n",
        "`steady_states = sampler.generate_steady_states()`\n",
        "\n",
        "In the command we run in the following cell though, we use both the two parameters the method can get: \n",
        "\n",
        "* the **effective sample size (ESS)** asked (by default `ESS = 1000`). ESS is the number of effectively independent draws from the posterior distribution that the Markov chain is equivalent to.\n",
        " \n",
        "* the **Potential Scale Reduction Factor (PSRF)** of each marginal flux to  \n",
        " get an upper bound equal to 1.1 (by default that is set as `False`)"
      ]
    },
    {
      "cell_type": "code",
      "metadata": {
        "id": "0y_TOtcGUmAW"
      },
      "source": [
        "%%capture\n",
        "steady_states = sampler.generate_steady_states(ess = 1000, psrf = True) # this took a little bit more than 5 minutes"
      ],
      "execution_count": null,
      "outputs": []
    },
    {
      "cell_type": "markdown",
      "metadata": {
        "id": "gy25rKbHUsVS"
      },
      "source": [
        "Now that we have our samples, let's have a closer look to some of them!\n",
        "\n",
        "What we actually did is that we computed a great number of values of the flux of each reaction given that our system is always at a steady state. \n",
        "\n",
        "That means that we now have a **flux distribution** (all the values computed for the flux of a specif reaction) for each reaction of our model!"
      ]
    },
    {
      "cell_type": "markdown",
      "metadata": {
        "id": "P-qbALhEY7lu"
      },
      "source": [
        "Obviously, we have as many flux distributions as the reactions of our model:"
      ]
    },
    {
      "cell_type": "code",
      "metadata": {
        "id": "5F1MNZZHZCU0",
        "colab": {
          "base_uri": "https://localhost:8080/"
        },
        "outputId": "a312c4e9-5279-41d1-8638-7d0426679b15"
      },
      "source": [
        "print('Number of reactions in my model: ', len(model.reactions))\n",
        "print('Number of flux distributions sampled: ', steady_states.shape[0])"
      ],
      "execution_count": null,
      "outputs": [
        {
          "output_type": "stream",
          "text": [
            "Number of reactions in my model:  95\n",
            "Number of flux distributions sampled:  95\n"
          ],
          "name": "stdout"
        }
      ]
    },
    {
      "cell_type": "markdown",
      "metadata": {
        "id": "MOG6YGueZzpO"
      },
      "source": [
        "And each flux distribution has as many flux values as `dingo` required to reach the ESS asked. "
      ]
    },
    {
      "cell_type": "code",
      "metadata": {
        "id": "767f9ouRagU5"
      },
      "source": [
        "print('Number of flux values of the flux distributions returned: ', steady_states.shape[1])"
      ],
      "execution_count": null,
      "outputs": []
    },
    {
      "cell_type": "markdown",
      "metadata": {
        "id": "svc47hxNbo6L"
      },
      "source": [
        "Let us now assume that we are interested in a certain reaction of our model, for example the last reaction of the glycolysis which is catalyzed by the Pyruvate kinase (PYK) enzyme. \n",
        "\n",
        "We first need to look in the `model.reactions` list and find the index of the `PYK` reaction; the enzyme is usually the name of reaction. "
      ]
    },
    {
      "cell_type": "code",
      "metadata": {
        "id": "-im2Cgq5b3oS",
        "colab": {
          "base_uri": "https://localhost:8080/"
        },
        "outputId": "a0b24427-8368-49b0-ef8a-40d6d5af0f61"
      },
      "source": [
        "model.reactions.index('PYK')"
      ],
      "execution_count": null,
      "outputs": [
        {
          "output_type": "execute_result",
          "data": {
            "text/plain": [
              "23"
            ]
          },
          "metadata": {
            "tags": []
          },
          "execution_count": 16
        }
      ]
    },
    {
      "cell_type": "markdown",
      "metadata": {
        "id": "k6uheDpHfiHq"
      },
      "source": [
        "Now that we know the index of the reaction of our interest, we can use the [`plot_histogram`](https://github.com/GeomScale/dingo/blob/a76b4be22f33feac86dff38746c7f2706afb2b67/dingo/utils.py#L177) function of `dingo` to plot its corresponding flux distribution. "
      ]
    },
    {
      "cell_type": "code",
      "metadata": {
        "id": "-n2HKr82yKyh",
        "colab": {
          "base_uri": "https://localhost:8080/",
          "height": 467
        },
        "outputId": "b4d6e8ff-6f7e-4c45-a478-9f7208db57a9"
      },
      "source": [
        "from dingo import plot_histogram\n",
        "\n",
        "reactions = model.reactions\n",
        "plot_histogram(\n",
        "        steady_states[23],  # here we set which reaction's flux we need to get \n",
        "        reactions[23],      # here we provide the name of the reaction\n",
        "        n_bins = 60,\n",
        ")"
      ],
      "execution_count": null,
      "outputs": [
        {
          "output_type": "display_data",
          "data": {
            "image/png": "[encoded data removed]",
            "text/plain": [
              "<Figure size 504x504 with 1 Axes>"
            ]
          },
          "metadata": {
            "tags": [],
            "needs_background": "light"
          }
        }
      ]
    },
    {
      "cell_type": "markdown",
      "metadata": {
        "id": "jl7tJ-ObS6L3"
      },
      "source": [
        "From the flux distribution of PYK we can that it has a range of values between 1.7 and 1.9 and that it follows the normal distribution, with a mean value at 1.775 mmol/gDW/h (millimoles per gram dry weight per hour).\n"
      ]
    },
    {
      "cell_type": "markdown",
      "metadata": {
        "id": "IFsATtLyl6ak"
      },
      "source": [
        "Applications of flux sampling can provide great insight in many ways. \n",
        "\n",
        "Based on the [iAB-AMØ-1410](https://doi.org/10.1038/msb.2010.68) genome-scale metabolic model of human alveolar macrophages and the SARS-CoV-2 virus biomass objective function (VBOF) they built, [Renz et al. (2020)](https://doi.org/10.1093/bioinformatics/btaa813) investigated for alterations in the metabolism to come up with potential antiviral targets. "
      ]
    },
    {
      "cell_type": "markdown",
      "metadata": {
        "id": "EgImVdw8sFk_"
      },
      "source": [
        "In line with the findings of Renz et al. (2020), flux sampling in the metabolic model built from the macrophage model and the VBOF using `dingo` indicates **guanylate kinase (GK1)** as a potential antiviral target. \n",
        "Flux sampling was perfored first with no objective function for the virus and then after maximizing the VBOF built by Renz et al. (2020). \n",
        "\n",
        "<img src=\"https://drive.google.com/uc?id=1IOdSscVP0HoTRctQuSCywgIXokUNE-_v\" height=400>\n",
        "\n"
      ]
    },
    {
      "cell_type": "markdown",
      "metadata": {
        "id": "ctpZFRndQGrb"
      },
      "source": [
        "### Run FBA with `dingo`"
      ]
    },
    {
      "cell_type": "markdown",
      "metadata": {
        "id": "uccGKr_hSJCM"
      },
      "source": [
        "Again, to perform FBA with `dingo`, you just need to call the according method ([`fba`](https://github.com/GeomScale/dingo/blob/a76b4be22f33feac86dff38746c7f2706afb2b67/dingo/MetabolicNetwork.py#L107)) of the `model` you built using the [`MetabolicNetwork`](https://github.com/GeomScale/dingo/blob/a76b4be22f33feac86dff38746c7f2706afb2b67/dingo/MetabolicNetwork.py#L21) class. \n",
        "\n",
        "FBA is a lot easier both from the computational and the geometical point of view and it takes much less time. "
      ]
    },
    {
      "cell_type": "code",
      "metadata": {
        "id": "kWFbcJumShgh"
      },
      "source": [
        "%%capture\n",
        "fba_output = model.fba()"
      ],
      "execution_count": null,
      "outputs": []
    },
    {
      "cell_type": "markdown",
      "metadata": {
        "id": "Ql-cIs8JxLuJ"
      },
      "source": [
        "As already mentioned, FBA identifies an **optimal** flux distribution by optimizing a linear **objective function**.\n",
        "\n",
        "So the output of FBA can be considered as a single sample of the flux sampling method described above. Thus, if we check on the output this time we will see that it has 2 attributes:\n",
        "* the **flux vector** (meaning the set of the reactions flux values in the same solution) when the objective function maximizes.\n",
        "* the **flux value** that the objective function gets when it is maximun"
      ]
    },
    {
      "cell_type": "code",
      "metadata": {
        "id": "Nxk0qI0ISmOB"
      },
      "source": [
        "numpy.set_printoptions(threshold=None)\n",
        "\n",
        "max_biomass_flux_vector = fba_output[0]\n",
        "max_biomass_objective = fba_output[1]\n",
        "\n",
        "print('This is the optimal flux vector according to the biomass objective function: ', max_biomass_flux_vector)\n",
        "print('----------')\n",
        "print('This is the value of that optimal solution of the objective function: ', max_biomass_objective)"
      ],
      "execution_count": null,
      "outputs": []
    },
    {
      "cell_type": "markdown",
      "metadata": {
        "id": "rKBVhQI9SlbO"
      },
      "source": [
        "💪 Even it is quite common that the objective function is the biomass function of a model, **you can change your objective function** as you wish and use any reaction as your objective function.\n",
        "\n",
        "For example, to maximize the 1st reaction of the model, we first build an array with the number of reactions of our model with `0`s and then we set only its first elemet equal to `1`:"
      ]
    },
    {
      "cell_type": "code",
      "metadata": {
        "id": "fdLlAbhA0Ylg"
      },
      "source": [
        "import numpy as np\n",
        "n = model.num_of_reactions()\n",
        "obj_fun = np.zeros(n)\n",
        "obj_fun[0] = 1"
      ],
      "execution_count": null,
      "outputs": []
    },
    {
      "cell_type": "markdown",
      "metadata": {
        "id": "jWEhcWmJm1Qu"
      },
      "source": [
        "Now we can replace the `biomass_function` parameter of our model with our new objective function"
      ]
    },
    {
      "cell_type": "code",
      "metadata": {
        "id": "jrASE_SS2Nst"
      },
      "source": [
        "model.biomass_function = obj_fun"
      ],
      "execution_count": null,
      "outputs": []
    },
    {
      "cell_type": "markdown",
      "metadata": {
        "id": "YXt-5pFlnCcm"
      },
      "source": [
        "And if we know ask to see our new objective function: "
      ]
    },
    {
      "cell_type": "code",
      "metadata": {
        "id": "Lf8jpTrU1dEr"
      },
      "source": [
        "model.biomass_function"
      ],
      "execution_count": null,
      "outputs": []
    },
    {
      "cell_type": "markdown",
      "metadata": {
        "id": "_63UO5TqnMlp"
      },
      "source": [
        "You see that the `1` is now not in the `24` index but in the first. 🎉"
      ]
    },
    {
      "cell_type": "markdown",
      "metadata": {
        "id": "YTd07QyGnZwX"
      },
      "source": [
        "So if we run now a FBA here is what we will get. "
      ]
    },
    {
      "cell_type": "code",
      "metadata": {
        "id": "f11M0AClnfhZ"
      },
      "source": [
        "%%capture\n",
        "fba_output_new_obj = model.fba()"
      ],
      "execution_count": null,
      "outputs": []
    },
    {
      "cell_type": "code",
      "metadata": {
        "id": "80op83f4noZK"
      },
      "source": [
        "max_biomass_flux_vector_new_obj = fba_output_new_obj[0]\n",
        "max_biomass_objective_new_obj = fba_output_new_obj[1]\n",
        "print('This is the optimal flux vector according to my objective function: ', max_biomass_flux_vector_new_obj)\n",
        "print('----------')\n",
        "print('This is the value of that optimal solution of the new objective function: ', max_biomass_objective_new_obj)"
      ],
      "execution_count": null,
      "outputs": []
    },
    {
      "cell_type": "markdown",
      "metadata": {
        "id": "b1ZAlpHY6Ifm"
      },
      "source": [
        "### Run FVA with `dingo` "
      ]
    },
    {
      "cell_type": "markdown",
      "metadata": {
        "id": "ex3H0OXtpGr1"
      },
      "source": [
        "As we said earlier, FVA gets the min and max value of each reaction flux that can still satisfy the constraints of the metabolic model.\n",
        "\n",
        "**Remember!** \n",
        "\n",
        "In the previous step, we replaced the `biomass_function` of our model. So if we run FVA in our current model, then the first reaction of our model "
      ]
    },
    {
      "cell_type": "code",
      "metadata": {
        "id": "OaxWPyakpriX"
      },
      "source": [
        "model.reactions[0]"
      ],
      "execution_count": null,
      "outputs": []
    },
    {
      "cell_type": "markdown",
      "metadata": {
        "id": "qE-x4hitp4H-"
      },
      "source": [
        "will be used as the objective function!\n",
        "\n",
        "Let's run FVA using that; this will take a while 😉"
      ]
    },
    {
      "cell_type": "code",
      "metadata": {
        "id": "AK5OdFU4yZZL"
      },
      "source": [
        "%%capture\n",
        "# Run FVA\n",
        "fva_output = model.fva()\n",
        "\n",
        "# Get min and max flux values\n",
        "pfk_min_fluxes = fva_output[0]\n",
        "pfk_max_fluxes = fva_output[1]\n",
        "\n",
        "# Get the max flux distribution and the max biomass value when the objective function is maximum\n",
        "pfk_max_biomass_flux_vector = fva_output[2]\n",
        "pfk_max_biomass_objective = fva_output[3]"
      ],
      "execution_count": null,
      "outputs": []
    },
    {
      "cell_type": "markdown",
      "metadata": {
        "id": "qGVto8ckp7LS"
      },
      "source": [
        "We can go with that or if we need to go back in using the actual biomass function of our model, we can either do the same process as before to change again the `biomass_function` or we can just build a new instance of the `MetabolicNetwork` class. "
      ]
    },
    {
      "cell_type": "code",
      "metadata": {
        "id": "Mk-CtSOJLWo8"
      },
      "source": [
        "%%capture\n",
        "# Build new instance of the model\n",
        "new_model = MetabolicNetwork.from_json('ext_data/e_coli_core.json')\n",
        "\n",
        "# Run FVA\n",
        "fva_output = new_model.fva()\n",
        "\n",
        "# Get min and max flux values\n",
        "min_fluxes = fva_output[0]\n",
        "max_fluxes = fva_output[1]\n",
        "\n",
        "# Get the max flux distribution and the max biomass value when the objective function is maximum\n",
        "max_biomass_flux_vector = fva_output[2]\n",
        "max_biomass_objective = fva_output[3]"
      ],
      "execution_count": null,
      "outputs": []
    },
    {
      "cell_type": "markdown",
      "metadata": {
        "id": "UuztyngJ3tr_"
      },
      "source": [
        "Let's see how they're different!"
      ]
    },
    {
      "cell_type": "code",
      "metadata": {
        "id": "SqkFPgCyQoHZ"
      },
      "source": [
        "print('This is the flux vector with the minimum values of each flux when the PFK reaction gets maximum: ', pfk_min_fluxes)\n",
        "print('This is the flux vector with the minimum values of each flux when the biomass function gets maximum: ', min_fluxes)\n",
        "\n",
        "print('----------')\n",
        "\n",
        "print('This is the flux vector with the maximum values of each flux when the PFK reaction gets maximum: ', pfk_max_fluxes)\n",
        "print('This is the flux vector with the maximum values of each flux when the biomass function gets maximum: ', max_fluxes)"
      ],
      "execution_count": null,
      "outputs": []
    },
    {
      "cell_type": "markdown",
      "metadata": {
        "id": "TS1Q31NLrdiU"
      },
      "source": [
        "Appanrently (and obviously) they are quite different!\n",
        "\n",
        "The same thing is with the flux vector and the max biomas objective."
      ]
    },
    {
      "cell_type": "code",
      "metadata": {
        "id": "MtJSpgIXrbpJ"
      },
      "source": [
        "print('This is the optimal flux vector according to the PFK reaction as objective function: \\n', pfk_max_biomass_flux_vector)\n",
        "print('This is the optimal flux vector according to the biomass as objective function: \\n', max_biomass_flux_vector)\n",
        "\n",
        "\n",
        "print('\\n----------\\n')\n",
        "\n",
        "print('This is value of the optimal solution when PFK is the objective function: ', pfk_max_biomass_objective)\n",
        "print('This is value of the optimal solution when biomass is the objective function: ', max_biomass_objective)"
      ],
      "execution_count": null,
      "outputs": []
    },
    {
      "cell_type": "markdown",
      "metadata": {
        "id": "VJNLNLsw9sup"
      },
      "source": [
        "This way, someone can investigate how a metabolic network responds under different circumstances. \n",
        "\n",
        "We hope you will find `dingo` usefull and easy-to-use! \n",
        "\n",
        "For anything might be needed, don't hesitate to [open an issue](https://github.com/GeomScale/dingo/issues) on the project's GitHub repo!"
      ]
    },
    {
      "cell_type": "markdown",
      "metadata": {
        "id": "s7fDRc18Eocn"
      },
      "source": [
        "## Run `dingo` at the community level"
      ]
    },
    {
      "cell_type": "markdown",
      "metadata": {
        "id": "-fsvWvQ4E2tq"
      },
      "source": [
        "Just like in the case of a single metabolic network, when a community is under study, `dingo` uses 2 main classes; the `CommunityMetabolicNetwork`\n",
        "and the `CommunityPolytopeSampler`. To sapmle the flux space of a series of metabolic networks (we will call this set a \"community\") you will have to provide the path to a directory with all the models of your community and those alone.\n"
      ]
    },
    {
      "cell_type": "code",
      "metadata": {
        "id": "9uoej6gFOYmS"
      },
      "source": [
        "from dingo import CommunityMetabolicNetwork\n",
        "from dingo import CommunityPolytopeSampler\n",
        "\n",
        "path  = os.getcwd() + \"/community_models/\"\n",
        "model = CommunityMetabolicNetwork.buildModelList(path, \"json\")\n",
        "sampler = CommunityPolytopeSampler(model)\n",
        "steady_states = sampler.generate_steady_states()"
      ],
      "execution_count": null,
      "outputs": []
    },
    {
      "cell_type": "markdown",
      "metadata": {
        "id": "sKCfJo5rOwyF"
      },
      "source": [
        "You may also run the same analysis from a terminal, by running the following command"
      ]
    },
    {
      "cell_type": "code",
      "metadata": {
        "id": "_zwMapxrO26N"
      },
      "source": [
        "# format could be either json or mat\n",
        " python -m dingo -cmd  path_to_dir_with_models  --format json"
      ],
      "execution_count": null,
      "outputs": []
    },
    {
      "cell_type": "markdown",
      "metadata": {
        "id": "B_PX14fFqdBy"
      },
      "source": [
        "## References"
      ]
    },
    {
      "cell_type": "markdown",
      "metadata": {
        "id": "jYNJd6K9qgHB"
      },
      "source": [
        "* Palsson Bernhard. [Systems biology](https://www.cambridge.org/core/books/systems-biology/7F8445BC87019806B3625DFC4B5C27D4). Cambridge university press, 2015. \n",
        "\n",
        "* Orth Jeffrey D., Ines Thiele, and Bernhard Ø. Palsson. [\"What is flux balance analysis?.\"](https://doi.org/10.1038/nbt.1614) Nature biotechnology 28.3 (2010): 245-248.\n",
        "\n",
        "*  Chalkis Apostolos, Fisikopoulos Vissarion, Tsigaridas Elias and Zafeiropoulos Haris [\"Geometric Algorithms for Sampling the Flux Space of Metabolic Networks\"](https://drops.dagstuhl.de/opus/volltexte/2021/13820/pdf/LIPIcs-SoCG-2021-21.pdf)\n",
        "\n",
        "* Schellenberger, Jan, and Bernhard Ø. Palsson. [\"Use of randomized sampling for analysis of metabolic networks.\"](https://doi.org/10.1074/jbc.R800048200) Journal of biological chemistry 284, no. 9 (2009): 5457-5461."
      ]
    },
    {
      "cell_type": "markdown",
      "metadata": {
        "id": "dpn2LsGIIpTV"
      },
      "source": [
        "## The GeomScale Org. project"
      ]
    },
    {
      "cell_type": "markdown",
      "metadata": {
        "id": "qjgmQMNcItsV"
      },
      "source": [
        "[Geomscale Org](https://geomscale.github.io/) is a research and development \n",
        "project that delivers open source code for state-of-the-art algorithms at the intersection of data science, optimization, geometric, and statistical computing. \n",
        "\n",
        "`dingo` is based on the `volesti` package; an open source project, [C++ library](https://github.com/GeomScale/volume_approximation) for volume approximation and sampling of convex bodies.\n",
        "\n",
        "GeomScale is part of [NumFOCUS](https://numfocus.org/) and a Google Summer of Code [(GSoC) organization](https://summerofcode.withgoogle.com/organizations/5553085268623360/). \n",
        "\n",
        "<br/>\n",
        "\n",
        "<img src=\"https://drive.google.com/uc?id=1PTSnQi7ev1Dv0BwffvFWz4jT5zdtCmqL\" height=200>\n"
      ]
    }
  ]
}