{
 "cells": [
  {
   "cell_type": "markdown",
   "metadata": {},
   "source": [
    "## Testing for `hopsy` with random data"
   ]
  },
  {
   "cell_type": "code",
   "execution_count": 1,
   "metadata": {},
   "outputs": [],
   "source": [
    "import hopsy\n",
    "import numpy as np"
   ]
  },
  {
   "cell_type": "code",
   "execution_count": 2,
   "metadata": {},
   "outputs": [],
   "source": [
    "# the polytope is defined as\n",
    "#          P := {x : Ax <= b}\n",
    "# thus we need to define A and b. these constraints form the simple box [0,1]^2.\n",
    "A = np.array([[1, 0], [0, 1], [-1, 0], [0, -1]])\n",
    "b = np.array([[1], [1], [0], [0]]);\n",
    "\n",
    "# next we define our target distribution as an isotropic Gaussian with mean 0 and\n",
    "# identity covariance.\n",
    "mu = np.zeros((2,1))\n",
    "cov = np.identity(2)\n",
    "\n",
    "model = hopsy.MultivariateGaussianModel(mu, cov)\n",
    "\n",
    "# the complete problem is defined by the target distribution and the constrained domain,\n",
    "# defined by the above mentioned inequality\n",
    "problem = hopsy.Problem(A, b, model)"
   ]
  },
  {
   "cell_type": "code",
   "execution_count": 3,
   "metadata": {},
   "outputs": [
    {
     "name": "stdout",
     "output_type": "stream",
     "text": [
      "Academic license - for non-commercial use only - expires 2021-11-23\n",
      "Using license file /opt/gurobi912/gurobi.lic\n"
     ]
    }
   ],
   "source": [
    "# the run object contains and constructs the markov chains. in the default case, the\n",
    "# Run object will have a single chain using the Hit-and-Run proposal algorithm and is\n",
    "# set to produce 10,000 samples.\n",
    "run = hopsy.Run(problem)\n",
    "\n",
    "# we finally sample\n",
    "run.sample()"
   ]
  },
  {
   "cell_type": "code",
   "execution_count": 4,
   "metadata": {},
   "outputs": [],
   "source": [
    "# from the run, we can now extract the produced data\n",
    "data = run.data\n",
    "\n",
    "# the states is a list of lists of numpy.ndarrays, which can be casted to a numpy.ndarray\n",
    "# which then has the shape (m,n,d), where m is the number of chains, n the number of samples\n",
    "# and d the dimenion\n",
    "states  = data.states"
   ]
  },
  {
   "cell_type": "markdown",
   "metadata": {},
   "source": [
    "Now we neend to plot "
   ]
  },
  {
   "cell_type": "code",
   "execution_count": 5,
   "metadata": {},
   "outputs": [],
   "source": [
    "import matplotlib.pyplot as plt\n",
    "import pandas as pd\n",
    "import seaborn as sns"
   ]
  },
  {
   "cell_type": "markdown",
   "metadata": {},
   "source": [
    "The `states` variable is a **list** of arrays. \n",
    "Usint the `pandas` library we can make a `DataFrame` out of it. "
   ]
  },
  {
   "cell_type": "code",
   "execution_count": 6,
   "metadata": {},
   "outputs": [
    {
     "data": {
      "text/html": [
       "<div>\n",
       "<style scoped>\n",
       "    .dataframe tbody tr th:only-of-type {\n",
       "        vertical-align: middle;\n",
       "    }\n",
       "\n",
       "    .dataframe tbody tr th {\n",
       "        vertical-align: top;\n",
       "    }\n",
       "\n",
       "    .dataframe thead th {\n",
       "        text-align: right;\n",
       "    }\n",
       "</style>\n",
       "<table border=\"1\" class=\"dataframe\">\n",
       "  <thead>\n",
       "    <tr style=\"text-align: right;\">\n",
       "      <th></th>\n",
       "      <th>0</th>\n",
       "      <th>1</th>\n",
       "    </tr>\n",
       "  </thead>\n",
       "  <tbody>\n",
       "    <tr>\n",
       "      <th>0</th>\n",
       "      <td>0.527353</td>\n",
       "      <td>0.882257</td>\n",
       "    </tr>\n",
       "    <tr>\n",
       "      <th>1</th>\n",
       "      <td>0.983544</td>\n",
       "      <td>0.895377</td>\n",
       "    </tr>\n",
       "    <tr>\n",
       "      <th>2</th>\n",
       "      <td>0.966116</td>\n",
       "      <td>0.957163</td>\n",
       "    </tr>\n",
       "    <tr>\n",
       "      <th>3</th>\n",
       "      <td>0.511486</td>\n",
       "      <td>0.989361</td>\n",
       "    </tr>\n",
       "    <tr>\n",
       "      <th>4</th>\n",
       "      <td>0.868993</td>\n",
       "      <td>0.870392</td>\n",
       "    </tr>\n",
       "    <tr>\n",
       "      <th>...</th>\n",
       "      <td>...</td>\n",
       "      <td>...</td>\n",
       "    </tr>\n",
       "    <tr>\n",
       "      <th>995</th>\n",
       "      <td>0.175812</td>\n",
       "      <td>0.310576</td>\n",
       "    </tr>\n",
       "    <tr>\n",
       "      <th>996</th>\n",
       "      <td>0.609898</td>\n",
       "      <td>0.302661</td>\n",
       "    </tr>\n",
       "    <tr>\n",
       "      <th>997</th>\n",
       "      <td>0.280251</td>\n",
       "      <td>0.934239</td>\n",
       "    </tr>\n",
       "    <tr>\n",
       "      <th>998</th>\n",
       "      <td>0.008388</td>\n",
       "      <td>0.689737</td>\n",
       "    </tr>\n",
       "    <tr>\n",
       "      <th>999</th>\n",
       "      <td>0.020761</td>\n",
       "      <td>0.772523</td>\n",
       "    </tr>\n",
       "  </tbody>\n",
       "</table>\n",
       "<p>1000 rows × 2 columns</p>\n",
       "</div>"
      ],
      "text/plain": [
       "            0         1\n",
       "0    0.527353  0.882257\n",
       "1    0.983544  0.895377\n",
       "2    0.966116  0.957163\n",
       "3    0.511486  0.989361\n",
       "4    0.868993  0.870392\n",
       "..        ...       ...\n",
       "995  0.175812  0.310576\n",
       "996  0.609898  0.302661\n",
       "997  0.280251  0.934239\n",
       "998  0.008388  0.689737\n",
       "999  0.020761  0.772523\n",
       "\n",
       "[1000 rows x 2 columns]"
      ]
     },
     "execution_count": 6,
     "metadata": {},
     "output_type": "execute_result"
    }
   ],
   "source": [
    "df_data = pd.DataFrame(np.concatenate(states))\n",
    "df_data"
   ]
  },
  {
   "cell_type": "markdown",
   "metadata": {},
   "source": [
    "### Some visualizations "
   ]
  },
  {
   "cell_type": "code",
   "execution_count": 7,
   "metadata": {},
   "outputs": [
    {
     "data": {
      "text/plain": [
       "<AxesSubplot:ylabel='Count'>"
      ]
     },
     "execution_count": 7,
     "metadata": {},
     "output_type": "execute_result"
    },
    {
     "data": {
      "image/png": "[encoded data removed]",
      "text/plain": [
       "<Figure size 432x288 with 1 Axes>"
      ]
     },
     "metadata": {},
     "output_type": "display_data"
    }
   ],
   "source": [
    "sns.set_style('darkgrid')\n",
    "sns.histplot(df_data)"
   ]
  },
  {
   "cell_type": "markdown",
   "metadata": {},
   "source": [
    "A better visualization. "
   ]
  },
  {
   "cell_type": "code",
   "execution_count": 8,
   "metadata": {},
   "outputs": [
    {
     "data": {
      "text/html": [
       "<div>\n",
       "<style scoped>\n",
       "    .dataframe tbody tr th:only-of-type {\n",
       "        vertical-align: middle;\n",
       "    }\n",
       "\n",
       "    .dataframe tbody tr th {\n",
       "        vertical-align: top;\n",
       "    }\n",
       "\n",
       "    .dataframe thead th {\n",
       "        text-align: right;\n",
       "    }\n",
       "</style>\n",
       "<table border=\"1\" class=\"dataframe\">\n",
       "  <thead>\n",
       "    <tr style=\"text-align: right;\">\n",
       "      <th></th>\n",
       "      <th>x</th>\n",
       "      <th>y</th>\n",
       "    </tr>\n",
       "  </thead>\n",
       "  <tbody>\n",
       "    <tr>\n",
       "      <th>0</th>\n",
       "      <td>0.527353</td>\n",
       "      <td>0.882257</td>\n",
       "    </tr>\n",
       "    <tr>\n",
       "      <th>1</th>\n",
       "      <td>0.983544</td>\n",
       "      <td>0.895377</td>\n",
       "    </tr>\n",
       "    <tr>\n",
       "      <th>2</th>\n",
       "      <td>0.966116</td>\n",
       "      <td>0.957163</td>\n",
       "    </tr>\n",
       "    <tr>\n",
       "      <th>3</th>\n",
       "      <td>0.511486</td>\n",
       "      <td>0.989361</td>\n",
       "    </tr>\n",
       "    <tr>\n",
       "      <th>4</th>\n",
       "      <td>0.868993</td>\n",
       "      <td>0.870392</td>\n",
       "    </tr>\n",
       "    <tr>\n",
       "      <th>...</th>\n",
       "      <td>...</td>\n",
       "      <td>...</td>\n",
       "    </tr>\n",
       "    <tr>\n",
       "      <th>995</th>\n",
       "      <td>0.175812</td>\n",
       "      <td>0.310576</td>\n",
       "    </tr>\n",
       "    <tr>\n",
       "      <th>996</th>\n",
       "      <td>0.609898</td>\n",
       "      <td>0.302661</td>\n",
       "    </tr>\n",
       "    <tr>\n",
       "      <th>997</th>\n",
       "      <td>0.280251</td>\n",
       "      <td>0.934239</td>\n",
       "    </tr>\n",
       "    <tr>\n",
       "      <th>998</th>\n",
       "      <td>0.008388</td>\n",
       "      <td>0.689737</td>\n",
       "    </tr>\n",
       "    <tr>\n",
       "      <th>999</th>\n",
       "      <td>0.020761</td>\n",
       "      <td>0.772523</td>\n",
       "    </tr>\n",
       "  </tbody>\n",
       "</table>\n",
       "<p>1000 rows × 2 columns</p>\n",
       "</div>"
      ],
      "text/plain": [
       "            x         y\n",
       "0    0.527353  0.882257\n",
       "1    0.983544  0.895377\n",
       "2    0.966116  0.957163\n",
       "3    0.511486  0.989361\n",
       "4    0.868993  0.870392\n",
       "..        ...       ...\n",
       "995  0.175812  0.310576\n",
       "996  0.609898  0.302661\n",
       "997  0.280251  0.934239\n",
       "998  0.008388  0.689737\n",
       "999  0.020761  0.772523\n",
       "\n",
       "[1000 rows x 2 columns]"
      ]
     },
     "execution_count": 8,
     "metadata": {},
     "output_type": "execute_result"
    }
   ],
   "source": [
    "df_data = pd.DataFrame(np.concatenate(states), columns=['x', 'y'])\n",
    "df_data"
   ]
  },
  {
   "cell_type": "code",
   "execution_count": 9,
   "metadata": {},
   "outputs": [],
   "source": [
    "x = df_data[\"x\"]\n",
    "y = df_data[\"y\"]"
   ]
  },
  {
   "cell_type": "code",
   "execution_count": 10,
   "metadata": {},
   "outputs": [
    {
     "data": {
      "image/png": "[encoded data removed]",
      "text/plain": [
       "<Figure size 432x288 with 1 Axes>"
      ]
     },
     "metadata": {},
     "output_type": "display_data"
    }
   ],
   "source": [
    "for col in 'xy':\n",
    "    sns.kdeplot(df_data[col], shade=True)"
   ]
  },
  {
   "cell_type": "markdown",
   "metadata": {},
   "source": [
    "### Plotting joint and marginal distributions"
   ]
  },
  {
   "cell_type": "markdown",
   "metadata": {},
   "source": [
    "The first is `jointplot()`, which augments a bivariate relatonal or distribution plot with the marginal distributions of the two variables. \n",
    "\n",
    "By default, `jointplot()` represents the bivariate distribution using `scatterplot()` and the marginal distributions using `histplot()`"
   ]
  },
  {
   "cell_type": "code",
   "execution_count": 11,
   "metadata": {},
   "outputs": [
    {
     "data": {
      "image/png": "[encoded data removed]",
      "text/plain": [
       "<Figure size 432x432 with 3 Axes>"
      ]
     },
     "metadata": {},
     "output_type": "display_data"
    }
   ],
   "source": [
    "with sns.axes_style('white'):\n",
    "    sns.jointplot(x=x, y=y, kind='kde');"
   ]
  },
  {
   "cell_type": "code",
   "execution_count": 12,
   "metadata": {},
   "outputs": [
    {
     "data": {
      "image/png": "[encoded data removed]",
      "text/plain": [
       "<Figure size 432x432 with 3 Axes>"
      ]
     },
     "metadata": {},
     "output_type": "display_data"
    }
   ],
   "source": [
    "with sns.axes_style('white'):\n",
    "    sns.jointplot(x=x, y=y, kind='hex')"
   ]
  },
  {
   "cell_type": "code",
   "execution_count": 13,
   "metadata": {},
   "outputs": [
    {
     "data": {
      "image/png": "[encoded data removed]",
      "text/plain": [
       "<Figure size 432x432 with 3 Axes>"
      ]
     },
     "metadata": {},
     "output_type": "display_data"
    }
   ],
   "source": [
    "with sns.axes_style('white'):\n",
    "    sns.jointplot(x=x, y=y, kind='reg')"
   ]
  },
  {
   "cell_type": "markdown",
   "metadata": {},
   "source": [
    "## Testing for `PolyRound` using a BIGG model"
   ]
  },
  {
   "cell_type": "code",
   "execution_count": 14,
   "metadata": {},
   "outputs": [],
   "source": [
    "import os\n",
    "from PolyRound.api import PolyRoundApi\n",
    "from PolyRound.static_classes.lp_utils import ChebyshevFinder\n",
    "from PolyRound.settings import PolyRoundSettings\n",
    "from pathlib import Path"
   ]
  },
  {
   "cell_type": "code",
   "execution_count": 15,
   "metadata": {},
   "outputs": [],
   "source": [
    "model_path = \"/home/haris/Desktop/polyround_SI/PolyRound/PolyRound/models/e_coli_core.xml\""
   ]
  },
  {
   "cell_type": "code",
   "execution_count": 16,
   "metadata": {},
   "outputs": [],
   "source": [
    "# Create a settings object with the default settings.\n",
    "settings = PolyRoundSettings()"
   ]
  },
  {
   "cell_type": "code",
   "execution_count": 17,
   "metadata": {},
   "outputs": [
    {
     "data": {
      "text/plain": [
       "'gurobi'"
      ]
     },
     "execution_count": 17,
     "metadata": {},
     "output_type": "execute_result"
    }
   ],
   "source": [
    "settings.backend"
   ]
  },
  {
   "cell_type": "code",
   "execution_count": 18,
   "metadata": {},
   "outputs": [
    {
     "data": {
      "text/plain": [
       "False"
      ]
     },
     "execution_count": 18,
     "metadata": {},
     "output_type": "execute_result"
    }
   ],
   "source": [
    "settings.check_lps"
   ]
  },
  {
   "cell_type": "code",
   "execution_count": 19,
   "metadata": {},
   "outputs": [
    {
     "data": {
      "text/plain": [
       "{'FeasibilityTol': 1e-09, 'OptimalityTol': 1e-08}"
      ]
     },
     "execution_count": 19,
     "metadata": {},
     "output_type": "execute_result"
    }
   ],
   "source": [
    "settings.hp_flags"
   ]
  },
  {
   "cell_type": "code",
   "execution_count": 20,
   "metadata": {},
   "outputs": [
    {
     "data": {
      "text/plain": [
       "False"
      ]
     },
     "execution_count": 20,
     "metadata": {},
     "output_type": "execute_result"
    }
   ],
   "source": [
    "settings.presolve"
   ]
  },
  {
   "cell_type": "code",
   "execution_count": 21,
   "metadata": {},
   "outputs": [
    {
     "data": {
      "text/plain": [
       "True"
      ]
     },
     "execution_count": 21,
     "metadata": {},
     "output_type": "execute_result"
    }
   ],
   "source": [
    "settings.reduce"
   ]
  },
  {
   "cell_type": "code",
   "execution_count": 22,
   "metadata": {},
   "outputs": [],
   "source": [
    "# Import model and create Polytope object\n",
    "polytope = PolyRoundApi.sbml_to_polytope(model_path)"
   ]
  },
  {
   "cell_type": "code",
   "execution_count": 23,
   "metadata": {},
   "outputs": [
    {
     "data": {
      "text/plain": [
       "(190, 95)"
      ]
     },
     "execution_count": 23,
     "metadata": {},
     "output_type": "execute_result"
    }
   ],
   "source": [
    "polytope.A.shape"
   ]
  },
  {
   "cell_type": "code",
   "execution_count": 78,
   "metadata": {},
   "outputs": [
    {
     "data": {
      "text/html": [
       "<div>\n",
       "<style scoped>\n",
       "    .dataframe tbody tr th:only-of-type {\n",
       "        vertical-align: middle;\n",
       "    }\n",
       "\n",
       "    .dataframe tbody tr th {\n",
       "        vertical-align: top;\n",
       "    }\n",
       "\n",
       "    .dataframe thead th {\n",
       "        text-align: right;\n",
       "    }\n",
       "</style>\n",
       "<table border=\"1\" class=\"dataframe\">\n",
       "  <thead>\n",
       "    <tr style=\"text-align: right;\">\n",
       "      <th></th>\n",
       "      <th>ACALD</th>\n",
       "      <th>ACALDt</th>\n",
       "      <th>ACKr</th>\n",
       "      <th>ACONTa</th>\n",
       "      <th>ACONTb</th>\n",
       "      <th>ACt2r</th>\n",
       "      <th>ADK1</th>\n",
       "      <th>AKGDH</th>\n",
       "      <th>AKGt2r</th>\n",
       "      <th>ALCD2x</th>\n",
       "      <th>...</th>\n",
       "      <th>RPI</th>\n",
       "      <th>SUCCt2_2</th>\n",
       "      <th>SUCCt3</th>\n",
       "      <th>SUCDi</th>\n",
       "      <th>SUCOAS</th>\n",
       "      <th>TALA</th>\n",
       "      <th>THD2</th>\n",
       "      <th>TKT1</th>\n",
       "      <th>TKT2</th>\n",
       "      <th>TPI</th>\n",
       "    </tr>\n",
       "  </thead>\n",
       "  <tbody>\n",
       "    <tr>\n",
       "      <th>13dpg_c</th>\n",
       "      <td>0.0</td>\n",
       "      <td>0.0</td>\n",
       "      <td>0.0</td>\n",
       "      <td>0.0</td>\n",
       "      <td>0.0</td>\n",
       "      <td>0.0</td>\n",
       "      <td>0.0</td>\n",
       "      <td>0.0</td>\n",
       "      <td>0.0</td>\n",
       "      <td>0.0</td>\n",
       "      <td>...</td>\n",
       "      <td>0.0</td>\n",
       "      <td>0.0</td>\n",
       "      <td>0.0</td>\n",
       "      <td>0.0</td>\n",
       "      <td>0.0</td>\n",
       "      <td>0.0</td>\n",
       "      <td>0.0</td>\n",
       "      <td>0.0</td>\n",
       "      <td>0.0</td>\n",
       "      <td>0.0</td>\n",
       "    </tr>\n",
       "    <tr>\n",
       "      <th>2pg_c</th>\n",
       "      <td>0.0</td>\n",
       "      <td>0.0</td>\n",
       "      <td>0.0</td>\n",
       "      <td>0.0</td>\n",
       "      <td>0.0</td>\n",
       "      <td>0.0</td>\n",
       "      <td>0.0</td>\n",
       "      <td>0.0</td>\n",
       "      <td>0.0</td>\n",
       "      <td>0.0</td>\n",
       "      <td>...</td>\n",
       "      <td>0.0</td>\n",
       "      <td>0.0</td>\n",
       "      <td>0.0</td>\n",
       "      <td>0.0</td>\n",
       "      <td>0.0</td>\n",
       "      <td>0.0</td>\n",
       "      <td>0.0</td>\n",
       "      <td>0.0</td>\n",
       "      <td>0.0</td>\n",
       "      <td>0.0</td>\n",
       "    </tr>\n",
       "    <tr>\n",
       "      <th>3pg_c</th>\n",
       "      <td>0.0</td>\n",
       "      <td>0.0</td>\n",
       "      <td>0.0</td>\n",
       "      <td>0.0</td>\n",
       "      <td>0.0</td>\n",
       "      <td>0.0</td>\n",
       "      <td>0.0</td>\n",
       "      <td>0.0</td>\n",
       "      <td>0.0</td>\n",
       "      <td>0.0</td>\n",
       "      <td>...</td>\n",
       "      <td>0.0</td>\n",
       "      <td>0.0</td>\n",
       "      <td>0.0</td>\n",
       "      <td>0.0</td>\n",
       "      <td>0.0</td>\n",
       "      <td>0.0</td>\n",
       "      <td>0.0</td>\n",
       "      <td>0.0</td>\n",
       "      <td>0.0</td>\n",
       "      <td>0.0</td>\n",
       "    </tr>\n",
       "    <tr>\n",
       "      <th>6pgc_c</th>\n",
       "      <td>0.0</td>\n",
       "      <td>0.0</td>\n",
       "      <td>0.0</td>\n",
       "      <td>0.0</td>\n",
       "      <td>0.0</td>\n",
       "      <td>0.0</td>\n",
       "      <td>0.0</td>\n",
       "      <td>0.0</td>\n",
       "      <td>0.0</td>\n",
       "      <td>0.0</td>\n",
       "      <td>...</td>\n",
       "      <td>0.0</td>\n",
       "      <td>0.0</td>\n",
       "      <td>0.0</td>\n",
       "      <td>0.0</td>\n",
       "      <td>0.0</td>\n",
       "      <td>0.0</td>\n",
       "      <td>0.0</td>\n",
       "      <td>0.0</td>\n",
       "      <td>0.0</td>\n",
       "      <td>0.0</td>\n",
       "    </tr>\n",
       "    <tr>\n",
       "      <th>6pgl_c</th>\n",
       "      <td>0.0</td>\n",
       "      <td>0.0</td>\n",
       "      <td>0.0</td>\n",
       "      <td>0.0</td>\n",
       "      <td>0.0</td>\n",
       "      <td>0.0</td>\n",
       "      <td>0.0</td>\n",
       "      <td>0.0</td>\n",
       "      <td>0.0</td>\n",
       "      <td>0.0</td>\n",
       "      <td>...</td>\n",
       "      <td>0.0</td>\n",
       "      <td>0.0</td>\n",
       "      <td>0.0</td>\n",
       "      <td>0.0</td>\n",
       "      <td>0.0</td>\n",
       "      <td>0.0</td>\n",
       "      <td>0.0</td>\n",
       "      <td>0.0</td>\n",
       "      <td>0.0</td>\n",
       "      <td>0.0</td>\n",
       "    </tr>\n",
       "    <tr>\n",
       "      <th>...</th>\n",
       "      <td>...</td>\n",
       "      <td>...</td>\n",
       "      <td>...</td>\n",
       "      <td>...</td>\n",
       "      <td>...</td>\n",
       "      <td>...</td>\n",
       "      <td>...</td>\n",
       "      <td>...</td>\n",
       "      <td>...</td>\n",
       "      <td>...</td>\n",
       "      <td>...</td>\n",
       "      <td>...</td>\n",
       "      <td>...</td>\n",
       "      <td>...</td>\n",
       "      <td>...</td>\n",
       "      <td>...</td>\n",
       "      <td>...</td>\n",
       "      <td>...</td>\n",
       "      <td>...</td>\n",
       "      <td>...</td>\n",
       "      <td>...</td>\n",
       "    </tr>\n",
       "    <tr>\n",
       "      <th>s7p_c</th>\n",
       "      <td>0.0</td>\n",
       "      <td>0.0</td>\n",
       "      <td>0.0</td>\n",
       "      <td>0.0</td>\n",
       "      <td>0.0</td>\n",
       "      <td>0.0</td>\n",
       "      <td>0.0</td>\n",
       "      <td>0.0</td>\n",
       "      <td>0.0</td>\n",
       "      <td>0.0</td>\n",
       "      <td>...</td>\n",
       "      <td>0.0</td>\n",
       "      <td>0.0</td>\n",
       "      <td>0.0</td>\n",
       "      <td>0.0</td>\n",
       "      <td>0.0</td>\n",
       "      <td>-1.0</td>\n",
       "      <td>0.0</td>\n",
       "      <td>1.0</td>\n",
       "      <td>0.0</td>\n",
       "      <td>0.0</td>\n",
       "    </tr>\n",
       "    <tr>\n",
       "      <th>succ_c</th>\n",
       "      <td>0.0</td>\n",
       "      <td>0.0</td>\n",
       "      <td>0.0</td>\n",
       "      <td>0.0</td>\n",
       "      <td>0.0</td>\n",
       "      <td>0.0</td>\n",
       "      <td>0.0</td>\n",
       "      <td>0.0</td>\n",
       "      <td>0.0</td>\n",
       "      <td>0.0</td>\n",
       "      <td>...</td>\n",
       "      <td>0.0</td>\n",
       "      <td>1.0</td>\n",
       "      <td>-1.0</td>\n",
       "      <td>-1.0</td>\n",
       "      <td>-1.0</td>\n",
       "      <td>0.0</td>\n",
       "      <td>0.0</td>\n",
       "      <td>0.0</td>\n",
       "      <td>0.0</td>\n",
       "      <td>0.0</td>\n",
       "    </tr>\n",
       "    <tr>\n",
       "      <th>succ_e</th>\n",
       "      <td>0.0</td>\n",
       "      <td>0.0</td>\n",
       "      <td>0.0</td>\n",
       "      <td>0.0</td>\n",
       "      <td>0.0</td>\n",
       "      <td>0.0</td>\n",
       "      <td>0.0</td>\n",
       "      <td>0.0</td>\n",
       "      <td>0.0</td>\n",
       "      <td>0.0</td>\n",
       "      <td>...</td>\n",
       "      <td>0.0</td>\n",
       "      <td>-1.0</td>\n",
       "      <td>1.0</td>\n",
       "      <td>0.0</td>\n",
       "      <td>0.0</td>\n",
       "      <td>0.0</td>\n",
       "      <td>0.0</td>\n",
       "      <td>0.0</td>\n",
       "      <td>0.0</td>\n",
       "      <td>0.0</td>\n",
       "    </tr>\n",
       "    <tr>\n",
       "      <th>succoa_c</th>\n",
       "      <td>0.0</td>\n",
       "      <td>0.0</td>\n",
       "      <td>0.0</td>\n",
       "      <td>0.0</td>\n",
       "      <td>0.0</td>\n",
       "      <td>0.0</td>\n",
       "      <td>0.0</td>\n",
       "      <td>1.0</td>\n",
       "      <td>0.0</td>\n",
       "      <td>0.0</td>\n",
       "      <td>...</td>\n",
       "      <td>0.0</td>\n",
       "      <td>0.0</td>\n",
       "      <td>0.0</td>\n",
       "      <td>0.0</td>\n",
       "      <td>1.0</td>\n",
       "      <td>0.0</td>\n",
       "      <td>0.0</td>\n",
       "      <td>0.0</td>\n",
       "      <td>0.0</td>\n",
       "      <td>0.0</td>\n",
       "    </tr>\n",
       "    <tr>\n",
       "      <th>xu5p__D_c</th>\n",
       "      <td>0.0</td>\n",
       "      <td>0.0</td>\n",
       "      <td>0.0</td>\n",
       "      <td>0.0</td>\n",
       "      <td>0.0</td>\n",
       "      <td>0.0</td>\n",
       "      <td>0.0</td>\n",
       "      <td>0.0</td>\n",
       "      <td>0.0</td>\n",
       "      <td>0.0</td>\n",
       "      <td>...</td>\n",
       "      <td>0.0</td>\n",
       "      <td>0.0</td>\n",
       "      <td>0.0</td>\n",
       "      <td>0.0</td>\n",
       "      <td>0.0</td>\n",
       "      <td>0.0</td>\n",
       "      <td>0.0</td>\n",
       "      <td>-1.0</td>\n",
       "      <td>-1.0</td>\n",
       "      <td>0.0</td>\n",
       "    </tr>\n",
       "  </tbody>\n",
       "</table>\n",
       "<p>72 rows × 95 columns</p>\n",
       "</div>"
      ],
      "text/plain": [
       "           ACALD  ACALDt  ACKr  ACONTa  ACONTb  ACt2r  ADK1  AKGDH  AKGt2r  \\\n",
       "13dpg_c      0.0     0.0   0.0     0.0     0.0    0.0   0.0    0.0     0.0   \n",
       "2pg_c        0.0     0.0   0.0     0.0     0.0    0.0   0.0    0.0     0.0   \n",
       "3pg_c        0.0     0.0   0.0     0.0     0.0    0.0   0.0    0.0     0.0   \n",
       "6pgc_c       0.0     0.0   0.0     0.0     0.0    0.0   0.0    0.0     0.0   \n",
       "6pgl_c       0.0     0.0   0.0     0.0     0.0    0.0   0.0    0.0     0.0   \n",
       "...          ...     ...   ...     ...     ...    ...   ...    ...     ...   \n",
       "s7p_c        0.0     0.0   0.0     0.0     0.0    0.0   0.0    0.0     0.0   \n",
       "succ_c       0.0     0.0   0.0     0.0     0.0    0.0   0.0    0.0     0.0   \n",
       "succ_e       0.0     0.0   0.0     0.0     0.0    0.0   0.0    0.0     0.0   \n",
       "succoa_c     0.0     0.0   0.0     0.0     0.0    0.0   0.0    1.0     0.0   \n",
       "xu5p__D_c    0.0     0.0   0.0     0.0     0.0    0.0   0.0    0.0     0.0   \n",
       "\n",
       "           ALCD2x  ...  RPI  SUCCt2_2  SUCCt3  SUCDi  SUCOAS  TALA  THD2  \\\n",
       "13dpg_c       0.0  ...  0.0       0.0     0.0    0.0     0.0   0.0   0.0   \n",
       "2pg_c         0.0  ...  0.0       0.0     0.0    0.0     0.0   0.0   0.0   \n",
       "3pg_c         0.0  ...  0.0       0.0     0.0    0.0     0.0   0.0   0.0   \n",
       "6pgc_c        0.0  ...  0.0       0.0     0.0    0.0     0.0   0.0   0.0   \n",
       "6pgl_c        0.0  ...  0.0       0.0     0.0    0.0     0.0   0.0   0.0   \n",
       "...           ...  ...  ...       ...     ...    ...     ...   ...   ...   \n",
       "s7p_c         0.0  ...  0.0       0.0     0.0    0.0     0.0  -1.0   0.0   \n",
       "succ_c        0.0  ...  0.0       1.0    -1.0   -1.0    -1.0   0.0   0.0   \n",
       "succ_e        0.0  ...  0.0      -1.0     1.0    0.0     0.0   0.0   0.0   \n",
       "succoa_c      0.0  ...  0.0       0.0     0.0    0.0     1.0   0.0   0.0   \n",
       "xu5p__D_c     0.0  ...  0.0       0.0     0.0    0.0     0.0   0.0   0.0   \n",
       "\n",
       "           TKT1  TKT2  TPI  \n",
       "13dpg_c     0.0   0.0  0.0  \n",
       "2pg_c       0.0   0.0  0.0  \n",
       "3pg_c       0.0   0.0  0.0  \n",
       "6pgc_c      0.0   0.0  0.0  \n",
       "6pgl_c      0.0   0.0  0.0  \n",
       "...         ...   ...  ...  \n",
       "s7p_c       1.0   0.0  0.0  \n",
       "succ_c      0.0   0.0  0.0  \n",
       "succ_e      0.0   0.0  0.0  \n",
       "succoa_c    0.0   0.0  0.0  \n",
       "xu5p__D_c  -1.0  -1.0  0.0  \n",
       "\n",
       "[72 rows x 95 columns]"
      ]
     },
     "execution_count": 78,
     "metadata": {},
     "output_type": "execute_result"
    }
   ],
   "source": [
    "polytope.S"
   ]
  },
  {
   "cell_type": "code",
   "execution_count": 73,
   "metadata": {},
   "outputs": [
    {
     "name": "stdout",
     "output_type": "stream",
     "text": [
      "<class 'pandas.core.series.Series'>\n",
      "(72,)\n",
      "13dpg_c      0.0\n",
      "2pg_c        0.0\n",
      "3pg_c        0.0\n",
      "6pgc_c       0.0\n",
      "6pgl_c       0.0\n",
      "            ... \n",
      "s7p_c        0.0\n",
      "succ_c       0.0\n",
      "succ_e       0.0\n",
      "succoa_c     0.0\n",
      "xu5p__D_c    0.0\n",
      "Length: 72, dtype: float64\n"
     ]
    }
   ],
   "source": [
    "print(type(polytope.h))\n",
    "print(polytope.h.shape)\n",
    "print(polytope.h)"
   ]
  },
  {
   "cell_type": "markdown",
   "metadata": {},
   "source": [
    "From the documentation of the class `Polytope` on `PolyRound`:\n",
    "    \n",
    "Polytope class which holds a set of: \n",
    "\n",
    "* inequality constraints: $Ax<=b$\n",
    "* and equality constraints: $Sx=h$\n",
    "\n",
    "$A$ and $S$ are Pandas Dataframes and $b$ and $h$ are Pandas Series. \n",
    "\n",
    "Column names of $A$ and $S$ are the reaction names (preserved). \n",
    "\n",
    "The polytope can be transformed with `apply_shift` and `apply_transformation`. \n",
    "\n",
    "Each of these transformations applied are stored in the attributes `shift` and `transformation`, \n",
    "allowing to back transform points `x` to the original space using the method `back_transform`."
   ]
  },
  {
   "cell_type": "code",
   "execution_count": 25,
   "metadata": {},
   "outputs": [
    {
     "name": "stdout",
     "output_type": "stream",
     "text": [
      "(95, 1)\n",
      "[0.]\n"
     ]
    }
   ],
   "source": [
    "# Remove redundant constraints and refunction inequality constraints that are de-facto equalities.\n",
    "# Due to these inequalities, the polytope is empty (distance from chebyshev center to boundary is zero)\n",
    "x, dist = ChebyshevFinder.chebyshev_center(polytope, settings)\n",
    "\n",
    "# Is x the point ? ? ?  \n",
    "print(x.shape)\n",
    "print(dist)"
   ]
  },
  {
   "cell_type": "code",
   "execution_count": 26,
   "metadata": {},
   "outputs": [],
   "source": [
    "simplified_polytope = PolyRoundApi.simplify_polytope(polytope)"
   ]
  },
  {
   "cell_type": "code",
   "execution_count": 77,
   "metadata": {},
   "outputs": [
    {
     "data": {
      "text/html": [
       "<div>\n",
       "<style scoped>\n",
       "    .dataframe tbody tr th:only-of-type {\n",
       "        vertical-align: middle;\n",
       "    }\n",
       "\n",
       "    .dataframe tbody tr th {\n",
       "        vertical-align: top;\n",
       "    }\n",
       "\n",
       "    .dataframe thead th {\n",
       "        text-align: right;\n",
       "    }\n",
       "</style>\n",
       "<table border=\"1\" class=\"dataframe\">\n",
       "  <thead>\n",
       "    <tr style=\"text-align: right;\">\n",
       "      <th></th>\n",
       "      <th>ACALD</th>\n",
       "      <th>ACALDt</th>\n",
       "      <th>ACKr</th>\n",
       "      <th>ACONTa</th>\n",
       "      <th>ACONTb</th>\n",
       "      <th>ACt2r</th>\n",
       "      <th>ADK1</th>\n",
       "      <th>AKGDH</th>\n",
       "      <th>AKGt2r</th>\n",
       "      <th>ALCD2x</th>\n",
       "      <th>...</th>\n",
       "      <th>RPI</th>\n",
       "      <th>SUCCt2_2</th>\n",
       "      <th>SUCCt3</th>\n",
       "      <th>SUCDi</th>\n",
       "      <th>SUCOAS</th>\n",
       "      <th>TALA</th>\n",
       "      <th>THD2</th>\n",
       "      <th>TKT1</th>\n",
       "      <th>TKT2</th>\n",
       "      <th>TPI</th>\n",
       "    </tr>\n",
       "  </thead>\n",
       "  <tbody>\n",
       "    <tr>\n",
       "      <th>13dpg_c</th>\n",
       "      <td>0.0</td>\n",
       "      <td>0.0</td>\n",
       "      <td>0.0</td>\n",
       "      <td>0.0</td>\n",
       "      <td>0.0</td>\n",
       "      <td>0.0</td>\n",
       "      <td>0.0</td>\n",
       "      <td>0.000000</td>\n",
       "      <td>0.0</td>\n",
       "      <td>0.0</td>\n",
       "      <td>...</td>\n",
       "      <td>0.0</td>\n",
       "      <td>0.000000</td>\n",
       "      <td>0.000000</td>\n",
       "      <td>0.000000</td>\n",
       "      <td>0.000000</td>\n",
       "      <td>0.000000</td>\n",
       "      <td>0.0</td>\n",
       "      <td>0.000000</td>\n",
       "      <td>0.00000</td>\n",
       "      <td>0.0</td>\n",
       "    </tr>\n",
       "    <tr>\n",
       "      <th>2pg_c</th>\n",
       "      <td>0.0</td>\n",
       "      <td>0.0</td>\n",
       "      <td>0.0</td>\n",
       "      <td>0.0</td>\n",
       "      <td>0.0</td>\n",
       "      <td>0.0</td>\n",
       "      <td>0.0</td>\n",
       "      <td>0.000000</td>\n",
       "      <td>0.0</td>\n",
       "      <td>0.0</td>\n",
       "      <td>...</td>\n",
       "      <td>0.0</td>\n",
       "      <td>0.000000</td>\n",
       "      <td>0.000000</td>\n",
       "      <td>0.000000</td>\n",
       "      <td>0.000000</td>\n",
       "      <td>0.000000</td>\n",
       "      <td>0.0</td>\n",
       "      <td>0.000000</td>\n",
       "      <td>0.00000</td>\n",
       "      <td>0.0</td>\n",
       "    </tr>\n",
       "    <tr>\n",
       "      <th>3pg_c</th>\n",
       "      <td>0.0</td>\n",
       "      <td>0.0</td>\n",
       "      <td>0.0</td>\n",
       "      <td>0.0</td>\n",
       "      <td>0.0</td>\n",
       "      <td>0.0</td>\n",
       "      <td>0.0</td>\n",
       "      <td>0.000000</td>\n",
       "      <td>0.0</td>\n",
       "      <td>0.0</td>\n",
       "      <td>...</td>\n",
       "      <td>0.0</td>\n",
       "      <td>0.000000</td>\n",
       "      <td>0.000000</td>\n",
       "      <td>0.000000</td>\n",
       "      <td>0.000000</td>\n",
       "      <td>0.000000</td>\n",
       "      <td>0.0</td>\n",
       "      <td>0.000000</td>\n",
       "      <td>0.00000</td>\n",
       "      <td>0.0</td>\n",
       "    </tr>\n",
       "    <tr>\n",
       "      <th>6pgc_c</th>\n",
       "      <td>0.0</td>\n",
       "      <td>0.0</td>\n",
       "      <td>0.0</td>\n",
       "      <td>0.0</td>\n",
       "      <td>0.0</td>\n",
       "      <td>0.0</td>\n",
       "      <td>0.0</td>\n",
       "      <td>0.000000</td>\n",
       "      <td>0.0</td>\n",
       "      <td>0.0</td>\n",
       "      <td>...</td>\n",
       "      <td>0.0</td>\n",
       "      <td>0.000000</td>\n",
       "      <td>0.000000</td>\n",
       "      <td>0.000000</td>\n",
       "      <td>0.000000</td>\n",
       "      <td>0.000000</td>\n",
       "      <td>0.0</td>\n",
       "      <td>0.000000</td>\n",
       "      <td>0.00000</td>\n",
       "      <td>0.0</td>\n",
       "    </tr>\n",
       "    <tr>\n",
       "      <th>6pgl_c</th>\n",
       "      <td>0.0</td>\n",
       "      <td>0.0</td>\n",
       "      <td>0.0</td>\n",
       "      <td>0.0</td>\n",
       "      <td>0.0</td>\n",
       "      <td>0.0</td>\n",
       "      <td>0.0</td>\n",
       "      <td>0.000000</td>\n",
       "      <td>0.0</td>\n",
       "      <td>0.0</td>\n",
       "      <td>...</td>\n",
       "      <td>0.0</td>\n",
       "      <td>0.000000</td>\n",
       "      <td>0.000000</td>\n",
       "      <td>0.000000</td>\n",
       "      <td>0.000000</td>\n",
       "      <td>0.000000</td>\n",
       "      <td>0.0</td>\n",
       "      <td>0.000000</td>\n",
       "      <td>0.00000</td>\n",
       "      <td>0.0</td>\n",
       "    </tr>\n",
       "    <tr>\n",
       "      <th>...</th>\n",
       "      <td>...</td>\n",
       "      <td>...</td>\n",
       "      <td>...</td>\n",
       "      <td>...</td>\n",
       "      <td>...</td>\n",
       "      <td>...</td>\n",
       "      <td>...</td>\n",
       "      <td>...</td>\n",
       "      <td>...</td>\n",
       "      <td>...</td>\n",
       "      <td>...</td>\n",
       "      <td>...</td>\n",
       "      <td>...</td>\n",
       "      <td>...</td>\n",
       "      <td>...</td>\n",
       "      <td>...</td>\n",
       "      <td>...</td>\n",
       "      <td>...</td>\n",
       "      <td>...</td>\n",
       "      <td>...</td>\n",
       "      <td>...</td>\n",
       "    </tr>\n",
       "    <tr>\n",
       "      <th>s7p_c</th>\n",
       "      <td>0.0</td>\n",
       "      <td>0.0</td>\n",
       "      <td>0.0</td>\n",
       "      <td>0.0</td>\n",
       "      <td>0.0</td>\n",
       "      <td>0.0</td>\n",
       "      <td>0.0</td>\n",
       "      <td>0.000000</td>\n",
       "      <td>0.0</td>\n",
       "      <td>0.0</td>\n",
       "      <td>...</td>\n",
       "      <td>0.0</td>\n",
       "      <td>0.000000</td>\n",
       "      <td>0.000000</td>\n",
       "      <td>0.000000</td>\n",
       "      <td>0.000000</td>\n",
       "      <td>-0.707107</td>\n",
       "      <td>0.0</td>\n",
       "      <td>0.707107</td>\n",
       "      <td>0.00000</td>\n",
       "      <td>0.0</td>\n",
       "    </tr>\n",
       "    <tr>\n",
       "      <th>succ_c</th>\n",
       "      <td>0.0</td>\n",
       "      <td>0.0</td>\n",
       "      <td>0.0</td>\n",
       "      <td>0.0</td>\n",
       "      <td>0.0</td>\n",
       "      <td>0.0</td>\n",
       "      <td>0.0</td>\n",
       "      <td>0.000000</td>\n",
       "      <td>0.0</td>\n",
       "      <td>0.0</td>\n",
       "      <td>...</td>\n",
       "      <td>0.0</td>\n",
       "      <td>0.408248</td>\n",
       "      <td>-0.408248</td>\n",
       "      <td>-0.408248</td>\n",
       "      <td>-0.408248</td>\n",
       "      <td>0.000000</td>\n",
       "      <td>0.0</td>\n",
       "      <td>0.000000</td>\n",
       "      <td>0.00000</td>\n",
       "      <td>0.0</td>\n",
       "    </tr>\n",
       "    <tr>\n",
       "      <th>succ_e</th>\n",
       "      <td>0.0</td>\n",
       "      <td>0.0</td>\n",
       "      <td>0.0</td>\n",
       "      <td>0.0</td>\n",
       "      <td>0.0</td>\n",
       "      <td>0.0</td>\n",
       "      <td>0.0</td>\n",
       "      <td>0.000000</td>\n",
       "      <td>0.0</td>\n",
       "      <td>0.0</td>\n",
       "      <td>...</td>\n",
       "      <td>0.0</td>\n",
       "      <td>-0.577350</td>\n",
       "      <td>0.577350</td>\n",
       "      <td>0.000000</td>\n",
       "      <td>0.000000</td>\n",
       "      <td>0.000000</td>\n",
       "      <td>0.0</td>\n",
       "      <td>0.000000</td>\n",
       "      <td>0.00000</td>\n",
       "      <td>0.0</td>\n",
       "    </tr>\n",
       "    <tr>\n",
       "      <th>succoa_c</th>\n",
       "      <td>0.0</td>\n",
       "      <td>0.0</td>\n",
       "      <td>0.0</td>\n",
       "      <td>0.0</td>\n",
       "      <td>0.0</td>\n",
       "      <td>0.0</td>\n",
       "      <td>0.0</td>\n",
       "      <td>0.707107</td>\n",
       "      <td>0.0</td>\n",
       "      <td>0.0</td>\n",
       "      <td>...</td>\n",
       "      <td>0.0</td>\n",
       "      <td>0.000000</td>\n",
       "      <td>0.000000</td>\n",
       "      <td>0.000000</td>\n",
       "      <td>0.707107</td>\n",
       "      <td>0.000000</td>\n",
       "      <td>0.0</td>\n",
       "      <td>0.000000</td>\n",
       "      <td>0.00000</td>\n",
       "      <td>0.0</td>\n",
       "    </tr>\n",
       "    <tr>\n",
       "      <th>xu5p__D_c</th>\n",
       "      <td>0.0</td>\n",
       "      <td>0.0</td>\n",
       "      <td>0.0</td>\n",
       "      <td>0.0</td>\n",
       "      <td>0.0</td>\n",
       "      <td>0.0</td>\n",
       "      <td>0.0</td>\n",
       "      <td>0.000000</td>\n",
       "      <td>0.0</td>\n",
       "      <td>0.0</td>\n",
       "      <td>...</td>\n",
       "      <td>0.0</td>\n",
       "      <td>0.000000</td>\n",
       "      <td>0.000000</td>\n",
       "      <td>0.000000</td>\n",
       "      <td>0.000000</td>\n",
       "      <td>0.000000</td>\n",
       "      <td>0.0</td>\n",
       "      <td>-0.577350</td>\n",
       "      <td>-0.57735</td>\n",
       "      <td>0.0</td>\n",
       "    </tr>\n",
       "  </tbody>\n",
       "</table>\n",
       "<p>72 rows × 95 columns</p>\n",
       "</div>"
      ],
      "text/plain": [
       "           ACALD  ACALDt  ACKr  ACONTa  ACONTb  ACt2r  ADK1     AKGDH  AKGt2r  \\\n",
       "13dpg_c      0.0     0.0   0.0     0.0     0.0    0.0   0.0  0.000000     0.0   \n",
       "2pg_c        0.0     0.0   0.0     0.0     0.0    0.0   0.0  0.000000     0.0   \n",
       "3pg_c        0.0     0.0   0.0     0.0     0.0    0.0   0.0  0.000000     0.0   \n",
       "6pgc_c       0.0     0.0   0.0     0.0     0.0    0.0   0.0  0.000000     0.0   \n",
       "6pgl_c       0.0     0.0   0.0     0.0     0.0    0.0   0.0  0.000000     0.0   \n",
       "...          ...     ...   ...     ...     ...    ...   ...       ...     ...   \n",
       "s7p_c        0.0     0.0   0.0     0.0     0.0    0.0   0.0  0.000000     0.0   \n",
       "succ_c       0.0     0.0   0.0     0.0     0.0    0.0   0.0  0.000000     0.0   \n",
       "succ_e       0.0     0.0   0.0     0.0     0.0    0.0   0.0  0.000000     0.0   \n",
       "succoa_c     0.0     0.0   0.0     0.0     0.0    0.0   0.0  0.707107     0.0   \n",
       "xu5p__D_c    0.0     0.0   0.0     0.0     0.0    0.0   0.0  0.000000     0.0   \n",
       "\n",
       "           ALCD2x  ...  RPI  SUCCt2_2    SUCCt3     SUCDi    SUCOAS      TALA  \\\n",
       "13dpg_c       0.0  ...  0.0  0.000000  0.000000  0.000000  0.000000  0.000000   \n",
       "2pg_c         0.0  ...  0.0  0.000000  0.000000  0.000000  0.000000  0.000000   \n",
       "3pg_c         0.0  ...  0.0  0.000000  0.000000  0.000000  0.000000  0.000000   \n",
       "6pgc_c        0.0  ...  0.0  0.000000  0.000000  0.000000  0.000000  0.000000   \n",
       "6pgl_c        0.0  ...  0.0  0.000000  0.000000  0.000000  0.000000  0.000000   \n",
       "...           ...  ...  ...       ...       ...       ...       ...       ...   \n",
       "s7p_c         0.0  ...  0.0  0.000000  0.000000  0.000000  0.000000 -0.707107   \n",
       "succ_c        0.0  ...  0.0  0.408248 -0.408248 -0.408248 -0.408248  0.000000   \n",
       "succ_e        0.0  ...  0.0 -0.577350  0.577350  0.000000  0.000000  0.000000   \n",
       "succoa_c      0.0  ...  0.0  0.000000  0.000000  0.000000  0.707107  0.000000   \n",
       "xu5p__D_c     0.0  ...  0.0  0.000000  0.000000  0.000000  0.000000  0.000000   \n",
       "\n",
       "           THD2      TKT1     TKT2  TPI  \n",
       "13dpg_c     0.0  0.000000  0.00000  0.0  \n",
       "2pg_c       0.0  0.000000  0.00000  0.0  \n",
       "3pg_c       0.0  0.000000  0.00000  0.0  \n",
       "6pgc_c      0.0  0.000000  0.00000  0.0  \n",
       "6pgl_c      0.0  0.000000  0.00000  0.0  \n",
       "...         ...       ...      ...  ...  \n",
       "s7p_c       0.0  0.707107  0.00000  0.0  \n",
       "succ_c      0.0  0.000000  0.00000  0.0  \n",
       "succ_e      0.0  0.000000  0.00000  0.0  \n",
       "succoa_c    0.0  0.000000  0.00000  0.0  \n",
       "xu5p__D_c   0.0 -0.577350 -0.57735  0.0  \n",
       "\n",
       "[72 rows x 95 columns]"
      ]
     },
     "execution_count": 77,
     "metadata": {},
     "output_type": "execute_result"
    }
   ],
   "source": [
    "simplified_polytope.S"
   ]
  },
  {
   "cell_type": "markdown",
   "metadata": {},
   "source": [
    "**Question:** How can it be to add rows in $S$ ? "
   ]
  },
  {
   "cell_type": "code",
   "execution_count": 28,
   "metadata": {},
   "outputs": [
    {
     "data": {
      "text/plain": [
       "(36, 95)"
      ]
     },
     "execution_count": 28,
     "metadata": {},
     "output_type": "execute_result"
    }
   ],
   "source": [
    "simplified_polytope.A.shape"
   ]
  },
  {
   "cell_type": "code",
   "execution_count": 29,
   "metadata": {},
   "outputs": [
    {
     "name": "stdout",
     "output_type": "stream",
     "text": [
      "[0.58198972]\n"
     ]
    }
   ],
   "source": [
    "# The simplified polytope has non-zero border distance\n",
    "x, dist = ChebyshevFinder.chebyshev_center(simplified_polytope, settings)\n",
    "print(dist)"
   ]
  },
  {
   "cell_type": "code",
   "execution_count": 30,
   "metadata": {},
   "outputs": [],
   "source": [
    "transformed_polytope = PolyRoundApi.transform_polytope(simplified_polytope)"
   ]
  },
  {
   "cell_type": "code",
   "execution_count": 31,
   "metadata": {},
   "outputs": [
    {
     "name": "stdout",
     "output_type": "stream",
     "text": [
      "[2.94777315]\n"
     ]
    }
   ],
   "source": [
    "# The distance from the chebyshev center to the boundary changes in the new coordinate system\n",
    "x, dist = ChebyshevFinder.chebyshev_center(transformed_polytope, settings)\n",
    "print(dist)"
   ]
  },
  {
   "cell_type": "code",
   "execution_count": 32,
   "metadata": {},
   "outputs": [
    {
     "name": "stdout",
     "output_type": "stream",
     "text": [
      "[1.00000001]\n",
      "0.03925295155234657\n"
     ]
    }
   ],
   "source": [
    "rounded_polytope = PolyRoundApi.round_polytope(transformed_polytope)\n",
    "\n",
    "# After rounding, the distance from the chebyshev center to the boundary is set to be close to 1\n",
    "x, dist = ChebyshevFinder.chebyshev_center(rounded_polytope, settings)\n",
    "print(dist)\n",
    "\n",
    "# The chebyshev center can be back transformed into an interior point in the simplified space.\n",
    "print(simplified_polytope.border_distance(rounded_polytope.back_transform(x)))\n"
   ]
  },
  {
   "cell_type": "code",
   "execution_count": 33,
   "metadata": {},
   "outputs": [],
   "source": [
    "# simplify, transform and round in one call\n",
    "one_step_rounded_polytope = PolyRoundApi.simplify_transform_and_round(polytope)"
   ]
  },
  {
   "cell_type": "code",
   "execution_count": 34,
   "metadata": {},
   "outputs": [
    {
     "data": {
      "text/plain": [
       "'\\n# Here are the features of the one_step_rounded_polytope object\\n# These features stand for any polytope object of the PolyRound\\n\\none_step_rounded_polytope.A\\n\\none_step_rounded_polytope.apply_shift\\n\\none_step_rounded_polytope.b\\n\\none_step_rounded_polytope.back_transform    ==> Backtransforms x to the original space of the Polytope.\\n                                                :param x: Numpy array\\none_step_rounded_polytope.border_distance   ==>\\n\\none_step_rounded_polytope.copy              ==>\\n\\none_step_rounded_polytope.h                 ==>\\n\\none_step_rounded_polytope.inequality_only   ==>\\n\\none_step_rounded_polytope.normalize         ==>  Normalizes each row sum of self.A to 1. \\n                                                 Does not change feasible space.\\none_step_rounded_polytope.normalize_system  ==>\\n\\none_step_rounded_polytope.remove_zero_rows  ==>\\n\\none_step_rounded_polytope.S                 ==>\\n\\none_step_rounded_polytope.shift             ==>\\n\\none_step_rounded_polytope.transformation    ==>\\n'"
      ]
     },
     "execution_count": 34,
     "metadata": {},
     "output_type": "execute_result"
    }
   ],
   "source": [
    "\"\"\"\n",
    "# Here are the features of the one_step_rounded_polytope object\n",
    "# These features stand for any polytope object of the PolyRound\n",
    "\n",
    "one_step_rounded_polytope.A                     ==>  The A matrix\n",
    "\n",
    "one_step_rounded_polytope.b                     ==>  The b vector\n",
    "\n",
    "one_step_rounded_polytope.S                     ==>  The stoichiometric matrix\n",
    "\n",
    "one_step_rounded_polytope.apply_shift           ==>  Shifts Polytope region without altering the shape\n",
    "\n",
    "one_step_rounded_polytope.apply_transformation  ==>  Applies transformation matrix to Polytope. \n",
    "                                                     If non-symmetric transformation, assumes reduction to \n",
    "                                                     system of only inequlity constraints (not checked).\n",
    "                                                     :param transformation: Numpy Array or Pandas Dataframe\n",
    "\n",
    "one_step_rounded_polytope.back_transform        ==>  Backtransforms x to the original space of the Polytope.\n",
    "                                                     :param x: Numpy array\n",
    "\n",
    "one_step_rounded_polytope.border_distance       ==>  Computes shortest distance from x to polytope border\n",
    "\n",
    "one_step_rounded_polytope.copy                  ==>  Deep copy of Polytope.\n",
    "\n",
    "one_step_rounded_polytope.h                     ==>  a flux vector MAYBE...? \n",
    "\n",
    "one_step_rounded_polytope.inequality_only       ==>\n",
    "\n",
    "one_step_rounded_polytope.normalize             ==>  Normalizes each row sum of self.A to 1. \n",
    "                                                     Does not change feasible space.\n",
    "\n",
    "one_step_rounded_polytope.normalize_system      ==>  staticmethod: A = (A.T / row_norm).T where\n",
    "                                                     row_norm = np.linalg.norm(A, axis=1)\n",
    "\n",
    "one_step_rounded_polytope.remove_zero_rows      ==>  staticmethod: \n",
    "\n",
    "one_step_rounded_polytope.shift                 ==>  attribute: initially the zero vector. \n",
    "\n",
    "one_step_rounded_polytope.transformation        ==>  attribute: \n",
    "\"\"\""
   ]
  },
  {
   "cell_type": "code",
   "execution_count": 35,
   "metadata": {},
   "outputs": [],
   "source": [
    "#save to hdf5\n",
    "out_hdf5 = \"/home/haris/Desktop/rounded_e_coli_core.hdf5\"\n",
    "PolyRoundApi.polytope_to_hdf5(one_step_rounded_polytope, out_hdf5)\n",
    "\n",
    "#save to csv\n",
    "out_csv_dir = \"/home/haris/Desktop/testing_polyround_algo\"\n",
    "Path(out_csv_dir).mkdir(parents=True, exist_ok=True)\n",
    "PolyRoundApi.polytope_to_csvs(one_step_rounded_polytope, out_csv_dir)\n"
   ]
  },
  {
   "cell_type": "code",
   "execution_count": 36,
   "metadata": {},
   "outputs": [
    {
     "name": "stdout",
     "output_type": "stream",
     "text": [
      "[0.]\n",
      "[0.]\n"
     ]
    }
   ],
   "source": [
    "# Special use case: remove redundant constraints without removing zero facettes. \n",
    "# This will leave th polytope with its original border distance.\n",
    "x, dist = ChebyshevFinder.chebyshev_center(polytope, settings)\n",
    "print(dist)\n",
    "settings.simplify_only = True\n",
    "simplified_polytope = PolyRoundApi.simplify_polytope(polytope, settings=settings)\n",
    "\n",
    "# The simplified polytope still has zero border distance\n",
    "x, dist = ChebyshevFinder.chebyshev_center(simplified_polytope, settings)\n",
    "print(dist)\n"
   ]
  },
  {
   "cell_type": "markdown",
   "metadata": {},
   "source": [
    "## Sampling using `hopsy` after rounding with `PolyRound`"
   ]
  },
  {
   "cell_type": "code",
   "execution_count": 37,
   "metadata": {},
   "outputs": [
    {
     "data": {
      "text/plain": [
       "(36, 24)"
      ]
     },
     "execution_count": 37,
     "metadata": {},
     "output_type": "execute_result"
    }
   ],
   "source": [
    "one_step_rounded_polytope.A.shape"
   ]
  },
  {
   "cell_type": "code",
   "execution_count": 38,
   "metadata": {},
   "outputs": [
    {
     "data": {
      "text/plain": [
       "(36,)"
      ]
     },
     "execution_count": 38,
     "metadata": {},
     "output_type": "execute_result"
    }
   ],
   "source": [
    "one_step_rounded_polytope.b.shape"
   ]
  },
  {
   "cell_type": "code",
   "execution_count": 39,
   "metadata": {},
   "outputs": [],
   "source": [
    "problem = hopsy.Problem(one_step_rounded_polytope.A, one_step_rounded_polytope.b, model)"
   ]
  },
  {
   "cell_type": "code",
   "execution_count": 40,
   "metadata": {},
   "outputs": [],
   "source": [
    "run = hopsy.Run(problem)\n",
    "# we finally sample\n",
    "run.sample()"
   ]
  },
  {
   "cell_type": "code",
   "execution_count": 41,
   "metadata": {},
   "outputs": [],
   "source": [
    "data = run.data\n",
    "\n",
    "# the states is a list of lists of numpy.ndarrays, which can be casted to a numpy.ndarray\n",
    "# which then has the shape (m,n,d), where m is the number of chains, n the number of samples\n",
    "# and d the dimenion\n",
    "states  = data.states"
   ]
  },
  {
   "cell_type": "code",
   "execution_count": 42,
   "metadata": {},
   "outputs": [
    {
     "name": "stdout",
     "output_type": "stream",
     "text": [
      "<class 'numpy.ndarray'>\n",
      "(24,)\n"
     ]
    }
   ],
   "source": [
    "print(type(states[0][0]))\n",
    "print(states[0][0].shape)"
   ]
  },
  {
   "cell_type": "markdown",
   "metadata": {},
   "source": [
    "We now need to map backwards the samples in the initial polytope... "
   ]
  },
  {
   "cell_type": "code",
   "execution_count": 43,
   "metadata": {},
   "outputs": [],
   "source": [
    "non_mapped_samples = np.concatenate(states)"
   ]
  },
  {
   "cell_type": "code",
   "execution_count": 44,
   "metadata": {},
   "outputs": [
    {
     "data": {
      "text/plain": [
       "(1000, 24)"
      ]
     },
     "execution_count": 44,
     "metadata": {},
     "output_type": "execute_result"
    }
   ],
   "source": [
    "non_mapped_samples.shape"
   ]
  },
  {
   "cell_type": "code",
   "execution_count": 46,
   "metadata": {},
   "outputs": [],
   "source": [
    "mapped_samples = one_step_rounded_polytope.back_transform(non_mapped_samples.T)"
   ]
  },
  {
   "cell_type": "code",
   "execution_count": null,
   "metadata": {},
   "outputs": [],
   "source": [
    "one_step_rounded_polytope."
   ]
  },
  {
   "cell_type": "code",
   "execution_count": 52,
   "metadata": {},
   "outputs": [
    {
     "data": {
      "text/plain": [
       "(95, 1000)"
      ]
     },
     "execution_count": 52,
     "metadata": {},
     "output_type": "execute_result"
    }
   ],
   "source": [
    "mapped_samples.shape"
   ]
  },
  {
   "cell_type": "code",
   "execution_count": 57,
   "metadata": {},
   "outputs": [
    {
     "data": {
      "text/plain": [
       "<seaborn.axisgrid.FacetGrid at 0x7fd4a5ce89a0>"
      ]
     },
     "execution_count": 57,
     "metadata": {},
     "output_type": "execute_result"
    },
    {
     "data": {
      "image/png": "[encoded data removed]",
      "text/plain": [
       "<Figure size 360x360 with 1 Axes>"
      ]
     },
     "metadata": {},
     "output_type": "display_data"
    }
   ],
   "source": [
    "sns.set_theme(style=\"darkgrid\")\n",
    "df = mapped_samples[4]\n",
    "sns.displot(\n",
    "    df\n",
    ")"
   ]
  },
  {
   "cell_type": "markdown",
   "metadata": {},
   "source": [
    "**I am really not sure that I am doing this right....**"
   ]
  }
 ],
 "metadata": {
  "kernelspec": {
   "display_name": "Python 3",
   "language": "python",
   "name": "python3"
  },
  "language_info": {
   "codemirror_mode": {
    "name": "ipython",
    "version": 3
   },
   "file_extension": ".py",
   "mimetype": "text/x-python",
   "name": "python",
   "nbconvert_exporter": "python",
   "pygments_lexer": "ipython3",
   "version": "3.8.5"
  }
 },
 "nbformat": 4,
 "nbformat_minor": 4
}
