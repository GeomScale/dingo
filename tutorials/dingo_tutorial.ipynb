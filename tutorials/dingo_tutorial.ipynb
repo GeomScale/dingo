{
  "cells": [
    {
      "cell_type": "markdown",
      "metadata": {
        "colab_type": "text",
        "id": "view-in-github"
      },
      "source": [
        "<a href=\"https://colab.research.google.com/github/GeomScale/dingo/blob/develop/tutorials/dingo_tutorial.ipynb\" target=\"_parent\"><img src=\"https://colab.research.google.com/assets/colab-badge.svg\" alt=\"Open In Colab\"/></a>"
      ]
    },
    {
      "cell_type": "markdown",
      "metadata": {
        "id": "XsGorJWn4Q6U"
      },
      "source": [
        "#  `dingo` : A python library for metabolic networks sampling and analysis"
      ]
    },
    {
      "cell_type": "markdown",
      "metadata": {
        "id": "04-ezSozK3QT"
      },
      "source": [
        "\n",
        "## About this Colab notebook "
      ]
    },
    {
      "cell_type": "markdown",
      "metadata": {
        "id": "-IBI5DoLMDCn"
      },
      "source": [
        "The aim of this notebook is to highlight the importance of metabolic networks analysis and the insight it may provide, as well as to demonstrate how to use the `dingo` Python library for the analysis of metabolic networks.  \n"
      ]
    },
    {
      "cell_type": "markdown",
      "metadata": {
        "id": "L-pK94S-GPYG"
      },
      "source": [
        "For your convenience, we suggest making a copy of the notebook on your Google Drive \n",
        "\n",
        "(`File > Save a copy in Drive`). \n",
        "\n",
        "This way you can change things on the notebook and make your own experiments as you like!"
      ]
    },
    {
      "cell_type": "markdown",
      "metadata": {
        "id": "zUpwu6ue1MEG"
      },
      "source": [
        "* The `&> /dev/null` in the end of a command is so you do not see all the messages returned when the command is executed.\n",
        "* The `%%capture` flag is so Google Colab does not print the output of the chunk of code in a cell. We have used it in some cases to avoid long warning messages. "
      ]
    },
    {
      "cell_type": "markdown",
      "metadata": {
        "id": "8CKAQaoN1ORJ"
      },
      "source": [
        "In case an error comes up when running a notebook's command, you may click \n",
        "\n",
        "`Runtime > Factory reset runtime` \n",
        "\n",
        "and run the notebook from scratch."
      ]
    },
    {
      "cell_type": "markdown",
      "metadata": {
        "id": "7CwAe0jxD5aB"
      },
      "source": [
        "## Introduction"
      ]
    },
    {
      "cell_type": "markdown",
      "metadata": {
        "id": "nzzDw-EJKZpy"
      },
      "source": [
        "### Genome scale metabolic network reconstruction"
      ]
    },
    {
      "cell_type": "markdown",
      "metadata": {
        "id": "UdP-wtlwHdpZ"
      },
      "source": [
        "🧬 🧬 Over the last decades, vast amounts of data have been gathered mostly thanks to the High Throughput technologies developed. \n",
        "\n",
        "As a result, the complete sequencing of a bacterial (strain) **genome** is now considered trivial. \n",
        "\n",
        "Global efforts have lead to large databases supporting the **annotation** of the genes found in a genome."
      ]
    },
    {
      "cell_type": "markdown",
      "metadata": {
        "id": "H2UE0ORSS_sQ"
      },
      "source": [
        "<img src='https://drive.google.com/uc?id=1v-BnN3Rsnc8_UuLTUo2rwGvP9oUWvcYW' height=350>\n",
        "<img src='https://drive.google.com/uc?id=1D62Xxc_X5DRW5naMfY6rCyLm4v98FXMC' height=350>"
      ]
    },
    {
      "cell_type": "markdown",
      "metadata": {
        "id": "6ZG3nbgBN34k"
      },
      "source": [
        "From the genome annotation we can now get the **enzymes** and therefore, the **reactions** that potentially take place in our strain (along with their stoichiometry)."
      ]
    },
    {
      "cell_type": "markdown",
      "metadata": {
        "id": "ZwJEvcTfY_fC"
      },
      "source": [
        "<img src='https://drive.google.com/uc?id=1_vuamqeEzjvJMw5_hR4XuLnjj0KJn1x0' height=200 width=300>\n",
        "<img src='https://drive.google.com/uc?id=1sw7nCeVJQfIc6oiDCGvfKFIqXg_so3Eb' height=\"200\" width=250>"
      ]
    },
    {
      "cell_type": "markdown",
      "metadata": {
        "id": "hKPc6n9Xd5PK"
      },
      "source": [
        "And from the sum of the reactions present, along with their corresponding constraints, we can now get the metabolic network of the species. \n",
        "Thus, we have now software tools that enable automatic genome-scale reconstructions (e.g. [carveme](https://carveme.readthedocs.io/en/latest/))"
      ]
    },
    {
      "cell_type": "markdown",
      "metadata": {
        "id": "QWnL4ZQxOcTb"
      },
      "source": [
        "The corresponding metabolic model is the *mathematical representation* of what happens in the organism along with the interactions between it and its environment. Here is a toy example:"
      ]
    },
    {
      "cell_type": "markdown",
      "metadata": {
        "id": "l7YlhJjSPFRo"
      },
      "source": [
        "<img src='https://drive.google.com/uc?id=1x20oGpf8ACikdAR7lxAORNfw8QFPwCom'>"
      ]
    },
    {
      "cell_type": "markdown",
      "metadata": {
        "id": "8V56ZZCY7aic"
      },
      "source": [
        "And here is what metabolic networks allow us to see! "
      ]
    },
    {
      "cell_type": "code",
      "execution_count": null,
      "metadata": {
        "colab": {
          "base_uri": "https://localhost:8080/",
          "height": 357
        },
        "id": "G5m2-7t7fUkf",
        "outputId": "92a79a5d-ac6d-4732-ba7a-f6c4da7ad375"
      },
      "outputs": [],
      "source": [
        "#@title Pathway reactions fluxes representation{ display-mode: \"form\" }\n",
        "from IPython.display import HTML\n",
        "HTML('<video width=\"40%\" height=\"25%\" loop autoplay><source src=\"https://gibbons-lab.github.io/isb_course_2020/micom/assets/fluxes.mp4\" type=\"video/mp4\"></video>')"
      ]
    },
    {
      "cell_type": "markdown",
      "metadata": {
        "id": "nKY2gxKcf_zg"
      },
      "source": [
        "This GIF is from a [presentation](https://gibbons-lab.github.io/isb_course_2020/micom/) from Christian Diener at Gibbons Lab!\n",
        "  🤓 "
      ]
    },
    {
      "cell_type": "markdown",
      "metadata": {
        "id": "DrikcKuf7hjt"
      },
      "source": [
        "### Metabolic networks analysis"
      ]
    },
    {
      "cell_type": "markdown",
      "metadata": {
        "id": "N5elFWq-7q6p"
      },
      "source": [
        "Now that we do have a metabolic model, the question is *how could someone investigate its properties?*"
      ]
    },
    {
      "cell_type": "markdown",
      "metadata": {
        "id": "v8cgveHyHdmq"
      },
      "source": [
        "So, from each metabolic model we can get a stoichiometric matrix ($S$) of the reactions that take place in the organism along with their corresponding constraints. \n",
        "As you can guess, $S$ is nothing but a matrix with $m$ metabolites and $n$ reactions!"
      ]
    },
    {
      "cell_type": "markdown",
      "metadata": {
        "id": "e4rCPCwghY_6"
      },
      "source": [
        "$S_{m,n} =\n",
        " \\begin{pmatrix}\n",
        "  a_{1,1} & a_{1,2} & \\cdots & a_{1,n} \\\\\n",
        "  a_{2,1} & a_{2,2} & \\cdots & a_{2,n} \\\\\n",
        "  \\vdots  & \\vdots  & \\ddots & \\vdots  \\\\\n",
        "  a_{m,1} & a_{m,2} & \\cdots & a_{m,n}\n",
        " \\end{pmatrix}$"
      ]
    },
    {
      "cell_type": "markdown",
      "metadata": {
        "id": "BSXWJ5U8hdUK"
      },
      "source": [
        "Where each line is a **metabolite** and each column a **reaction**. "
      ]
    },
    {
      "cell_type": "markdown",
      "metadata": {
        "id": "K5-JGM6jeend"
      },
      "source": [
        "Considering our system is at steady state, the flux through each reaction is given by the following equation: \n",
        "\n",
        "$Sv = 0$ \n",
        "\n",
        "which defines a system of linear equations. "
      ]
    },
    {
      "cell_type": "markdown",
      "metadata": {
        "id": "y76vXL78oEKP"
      },
      "source": [
        "The solution space for that system is a **polytope**; a geometric object with \"flat\" sides that lives in a large number of dimensions. \n",
        "\n",
        "<img src=\"https://drive.google.com/uc?id=1CF_XbO5w89E6hXDXotNuApQXylfWRW5P\" height=350>\n"
      ]
    },
    {
      "cell_type": "markdown",
      "metadata": {
        "id": "n6NZrAVttexG"
      },
      "source": [
        "**Flux Balance Analysis (FBA)** is commonly used to identify an optimal flux distribution by optimizing a linear objective function; e.g the biomass value of the organism. You may see more about FBA [here](https://www.nature.com/articles/nbt.1614/).\n",
        "\n",
        "\n",
        "<img src=\"https://drive.google.com/uc?id=1gxKIvpFOpfHdJ4YCA5OlMzDmgyEU72KU\">\n",
        "\n",
        "Figure from: [Libourel, I. G., & Shachar-Hill, Y.. Annu. Rev. Plant Biol. 59 (2008)](10.1146/annurev.arplant.58.032806.103822)\n"
      ]
    },
    {
      "cell_type": "markdown",
      "metadata": {
        "id": "Ywwrs7BOtkYY"
      },
      "source": [
        "**Flux Variability Analysis (FVA)** evaluates the minimum and maximum range of each reaction flux that can still satisfy the constraints of the metabolic model. \n",
        "\n",
        "To this end FVA uses a double linear programming problem, a maximization and a subsequent minimization for each reaction.\n",
        "\n",
        "<img src=\"https://drive.google.com/uc?id=1xL66uYMTxRvM4qjrqYbQhxGqrvOLn27z\" height=300>\n",
        "\n",
        "Figure by a presentation of [Lizbeth Hampton](https://slideplayer.com/slide/13509212/)."
      ]
    },
    {
      "cell_type": "markdown",
      "metadata": {
        "id": "3CvfTpQw44FT"
      },
      "source": [
        "Both FBA and FVA are biased methods as they require an objective function and they return either a single or a pair of flux values respectively. \n",
        "**Flux sampling** on the other hand is an unbiased method for metabolic network analysis, providing a thorough description of the potential values a flux might get, along with the probability to get it. "
      ]
    },
    {
      "cell_type": "markdown",
      "metadata": {
        "id": "meBkuCBUogRJ"
      },
      "source": [
        "Our goal is to perform **uniform sampling** on this solution space (also called **flux space**) to gain an unbiased overview of the model's global features but also to investigate how the model responses in various situations. "
      ]
    },
    {
      "cell_type": "markdown",
      "metadata": {
        "id": "CRPoqy2jpvIa"
      },
      "source": [
        "However, sampling can be a rather challenging task both from the computational and the geometical point of view. \n",
        "\n",
        "💪 To this end, `dingo` makes use of the [Multiphase Monte Carlo Sampling algorithm (MMCS)](https://drops.dagstuhl.de/opus/volltexte/2021/13798/pdf/lipics-vol189-socg2021-complete.pdf) developed by the [GeomScale Org.](https://geomscale.github.io/) too. \n",
        "\n",
        "💪 Our method splits sampling in phases and makes use of **rounding** steps; this way it is both efficient and returns high quality samples. \n",
        "\n",
        "\n",
        "<img src=\"https://drive.google.com/uc?id=1QsrAuRc3f7KpldevzqHy4I1-7y_Lx6Vn\" width=\"850\">\n",
        "  "
      ]
    },
    {
      "cell_type": "markdown",
      "metadata": {
        "id": "2XOkRFcXsm6u"
      },
      "source": [
        "In addition, the MMCS algorithm uses an optimized variant of Billiard Walk with faster arithmetic complexity per step. \n",
        "\n",
        "Here is an example of how a new point is found. "
      ]
    },
    {
      "cell_type": "markdown",
      "metadata": {
        "id": "WX5_VagweffU"
      },
      "source": [
        "<img src=\"https://drive.google.com/uc?id=15M4J6qiJnFl7T-WgUTentVdyhoeN4_85\" height= 200>\n",
        "\n",
        "<img src=\"https://drive.google.com/uc?id=1ApFtNGqEpe3lWugJnbZ9SL4pGPnOD6zj\" height= 200>\n",
        "\n",
        "<img src=\"https://drive.google.com/uc?id=1adYF5SUZMDbFTrj0zet-kMeqFgsVqfWA\" height= 200>\n",
        "\n",
        "\n",
        "<img src=\"https://drive.google.com/uc?id=1v3zcJQ4Nj4jdUpKESDdmP-zrOBxGOJpf\" height= 200>\n",
        "\n",
        "<img src=\"https://drive.google.com/uc?id=1HU30rfJoC8nmrlv_Ibblmygh_ZL6KoHN\" height= 200>\n",
        "\n",
        "\n",
        "\n",
        "<img src=\"https://drive.google.com/uc?id=1MmuZgNMQajqSufiHRUgJh3x--L77jAd4\" height= 200>"
      ]
    },
    {
      "cell_type": "markdown",
      "metadata": {
        "id": "0pGWGH9Yefhx"
      },
      "source": [
        "Finally, the modular design of the method enables the use of any random walk.\n"
      ]
    },
    {
      "cell_type": "markdown",
      "metadata": {
        "id": "akAjYEubCrTY"
      },
      "source": [
        "-------------------------------------------------"
      ]
    },
    {
      "cell_type": "markdown",
      "metadata": {
        "id": "PqWGwdr9Cs-H"
      },
      "source": [
        "## Get and install *dingo*"
      ]
    },
    {
      "cell_type": "markdown",
      "metadata": {},
      "source": [
        "### Requirements"
      ]
    },
    {
      "cell_type": "markdown",
      "metadata": {},
      "source": [
        "Mandatory:\n",
        "* a Unix-like environment, e.g Linux, MacOS etc.\n",
        "* a computer machine with at least 4GB of RAM; `dingo` requires about 4GB to compile \n",
        "\n",
        "Optional:\n",
        "* for better performance, you may use `dingo` with the [`gurobi`](https://www.gurobi.com) solver. To do so, a license is required (free for academic purposes)."
      ]
    },
    {
      "cell_type": "markdown",
      "metadata": {},
      "source": [
        "You can get the `gurobipy` Python interface of the `gurobi` solver by running:\n",
        "\n",
        "`\n",
        "pip3 install -i https://pypi.gurobi.com gurobipy\n",
        "`\n",
        "\n",
        "and download an academic license [from here](https://www.gurobi.com/downloads/end-user-license-agreement-academic/). \n",
        "\n",
        "For more information on how to get `gurobi` you may also have a look [here](https://support.gurobi.com/hc/en-us/articles/360044290292-How-do-I-install-Gurobi-for-Python-)."
      ]
    },
    {
      "cell_type": "markdown",
      "metadata": {
        "id": "UkdSbnJQwJSm"
      },
      "source": [
        "> **Remember!** <br/>\n",
        "When working on a normal console (terminal) you will have to remove any `!` and `%` characters from the beginning of the following commands; these allow Google Colab to work as a terminal console. "
      ]
    },
    {
      "cell_type": "markdown",
      "metadata": {},
      "source": [
        "### Installation"
      ]
    },
    {
      "cell_type": "markdown",
      "metadata": {
        "id": "dqa089jFDXaH"
      },
      "source": [
        "Install the dependencies for PySPQR library; for Debian/Ubuntu Linux, run"
      ]
    },
    {
      "cell_type": "code",
      "execution_count": null,
      "metadata": {
        "id": "0eBtFIaIzZ66"
      },
      "outputs": [],
      "source": [
        "!apt-get install libsuitesparse-dev &> /dev/null\n",
        "!pip install sparseqr &> /dev/null\n",
        "!pip install Cython &> /dev/null"
      ]
    },
    {
      "cell_type": "markdown",
      "metadata": {
        "id": "yYqOnx7_4ZRN"
      },
      "source": [
        "Get the `dingo` repo."
      ]
    },
    {
      "cell_type": "code",
      "execution_count": null,
      "metadata": {
        "colab": {
          "base_uri": "https://localhost:8080/"
        },
        "id": "A6Mcqrqt3_Sa",
        "outputId": "a1f1a4e7-9acb-44b3-f168-c28192f04180"
      },
      "outputs": [],
      "source": [
        "!git clone https://github.com/GeomScale/dingo.git"
      ]
    },
    {
      "cell_type": "markdown",
      "metadata": {
        "id": "qePKvNyVFrHG"
      },
      "source": [
        "To load the submodules that `dingo` uses, run:"
      ]
    },
    {
      "cell_type": "code",
      "execution_count": null,
      "metadata": {
        "colab": {
          "base_uri": "https://localhost:8080/"
        },
        "id": "n-zpDmAy9V-8",
        "outputId": "c3587cfd-2462-44ed-91fc-ece5c585f71c"
      },
      "outputs": [],
      "source": [
        "%cd dingo/\n",
        "!git submodule update --init"
      ]
    },
    {
      "cell_type": "markdown",
      "metadata": {
        "id": "jb6XxVcbF0h3"
      },
      "source": [
        "Then, download and unzip the `boost` library:"
      ]
    },
    {
      "cell_type": "code",
      "execution_count": null,
      "metadata": {
        "id": "vkjI-YD69dkw"
      },
      "outputs": [],
      "source": [
        "!wget -O boost_1_76_0.tar.bz2 https://boostorg.jfrog.io/artifactory/main/release/1.76.0/source/boost_1_76_0.tar.bz2 &> /dev/null\n",
        "!tar xjf boost_1_76_0.tar.bz2 &> /dev/null\n",
        "!rm boost_1_76_0.tar.bz2 &> /dev/null"
      ]
    },
    {
      "cell_type": "markdown",
      "metadata": {
        "id": "RK_xgnsYAfOr"
      },
      "source": [
        "Install `dingo`"
      ]
    },
    {
      "cell_type": "markdown",
      "metadata": {
        "id": "Gu9E7fidgjnW"
      },
      "source": [
        "The following command will install `dingo` and it will take a while to compile. \n",
        "\n",
        "Remember that about 4GB of RAM are required to do so. "
      ]
    },
    {
      "cell_type": "code",
      "execution_count": null,
      "metadata": {
        "colab": {
          "base_uri": "https://localhost:8080/"
        },
        "id": "hMNc6tbiwhG1",
        "outputId": "ada3f6cc-c938-4afb-d08a-479972d29258"
      },
      "outputs": [],
      "source": [
        "!python setup.py install --user &> /dev/null\n",
        "print('dingo is ready to go!')"
      ]
    },
    {
      "cell_type": "markdown",
      "metadata": {},
      "source": [
        "### Run tests"
      ]
    },
    {
      "cell_type": "markdown",
      "metadata": {
        "id": "PLCBCsYiGEXz"
      },
      "source": [
        "We have made some tests for you so you can make sure `dingo` has been installed properly.\n",
        "\n",
        "You may have a look at these [test files](https://github.com/GeomScale/dingo/tree/develop/tests) so you can run `dingo` from your terminal."
      ]
    },
    {
      "cell_type": "code",
      "execution_count": null,
      "metadata": {
        "id": "f7q8A5TDxtOS"
      },
      "outputs": [],
      "source": [
        "%%capture\n",
        "!python -m unittest discover tests \"*.py\""
      ]
    },
    {
      "cell_type": "markdown",
      "metadata": {
        "id": "rWJ00dGySfol"
      },
      "source": [
        "If you look at the output of that command, you should see that every test passed, with the possible exception of `fast_implementation_test` if you haven't installed Gurobi.\n"
      ]
    },
    {
      "cell_type": "markdown",
      "metadata": {
        "id": "iwZEvB6tC6jc"
      },
      "source": [
        "--------------------------------------------------------------------------"
      ]
    },
    {
      "cell_type": "markdown",
      "metadata": {
        "id": "rLfOQgaQuULC"
      },
      "source": [
        "The following command is to make Colab have access to the `dingo` library that was just compiled. \n",
        "There will probably be **no need for you to do this**. \n",
        "In case Python does not find `dingo`, just check the \n",
        "semifinal line of the compilation step, in this case:\n",
        "\n",
        "`Writing /root/.local/lib/python3.7/site-packages/dingo-0.1.0.egg-info`\n",
        "\n",
        "This is the path where `dingo` was compiled. "
      ]
    },
    {
      "cell_type": "code",
      "execution_count": null,
      "metadata": {
        "id": "ojsTmKVZYocZ"
      },
      "outputs": [],
      "source": [
        "import sys\n",
        "_ = (sys.path.append(\"/root/.local/lib/python3.7/site-packages/\"))"
      ]
    },
    {
      "cell_type": "markdown",
      "metadata": {
        "id": "Ua5lGNc8C8QE"
      },
      "source": [
        "-------------------------------------------------------------------------------"
      ]
    },
    {
      "cell_type": "markdown",
      "metadata": {
        "id": "2dtcobmYQOWp"
      },
      "source": [
        "## Run `dingo`.."
      ]
    },
    {
      "cell_type": "markdown",
      "metadata": {},
      "source": [
        "### ..to manipulate your model"
      ]
    },
    {
      "cell_type": "markdown",
      "metadata": {},
      "source": [
        "Get the path to the `dingo` directory. "
      ]
    },
    {
      "cell_type": "code",
      "execution_count": 17,
      "metadata": {},
      "outputs": [
        {
          "name": "stdout",
          "output_type": "stream",
          "text": [
            "/home/luna.kuleuven.be/u0156635/github_repos/dingo\n"
          ]
        }
      ],
      "source": [
        "import os\n",
        "import numpy as np\n",
        "main_path = '/'.join(os.getcwd().split(\"/\")[:-1])\n",
        "print(main_path)"
      ]
    },
    {
      "cell_type": "markdown",
      "metadata": {
        "id": "AiFwL4lRugVC"
      },
      "source": [
        "And import the `MetabolicNetwork` class of `dingo`! "
      ]
    },
    {
      "cell_type": "code",
      "execution_count": 3,
      "metadata": {
        "id": "FahzUpQFommK"
      },
      "outputs": [],
      "source": [
        "from dingo import MetabolicNetwork"
      ]
    },
    {
      "cell_type": "markdown",
      "metadata": {
        "id": "AzFd-qTWryBW"
      },
      "source": [
        "Now, you can load a metabolic model. \n",
        "Currently, `dingo` may get either a `.json` or a '.mat` model format."
      ]
    },
    {
      "cell_type": "code",
      "execution_count": 4,
      "metadata": {},
      "outputs": [],
      "source": [
        "model = MetabolicNetwork.from_json(main_path + '/ext_data/e_coli_core.json')"
      ]
    },
    {
      "cell_type": "markdown",
      "metadata": {
        "id": "8BU8YYL9PC-z"
      },
      "source": [
        "Let's see what the model comprises. "
      ]
    },
    {
      "cell_type": "markdown",
      "metadata": {
        "id": "jxLug5xuPMcB"
      },
      "source": [
        "First of all, let's see the metabolites ($m$) included in our model. \n",
        "Here is the first 10 of them. "
      ]
    },
    {
      "cell_type": "code",
      "execution_count": 5,
      "metadata": {
        "colab": {
          "base_uri": "https://localhost:8080/"
        },
        "id": "_1r63O_AXzTO",
        "outputId": "ed5bce3b-9431-4df7-d360-9ee0e73d33dd"
      },
      "outputs": [
        {
          "name": "stdout",
          "output_type": "stream",
          "text": [
            "Number of metabolites in my model:  72\n",
            "Here are the first 10 metabolites in your model:  ['adp_c', 'atp_c', 'f6p_c', 'fdp_c', 'h_c', 'accoa_c', 'coa_c', 'for_c', 'pyr_c']\n"
          ]
        }
      ],
      "source": [
        "print('Number of metabolites in my model: ', len(model.metabolites))\n",
        "print('Here are the first 10 metabolites in your model: ', model.metabolites[:9])"
      ]
    },
    {
      "cell_type": "markdown",
      "metadata": {
        "id": "sxaWOTJ-Paoq"
      },
      "source": [
        "And now, let us have a look in the reactions ($n$) that occur. \n",
        "Again, here is the first 10 reactions. "
      ]
    },
    {
      "cell_type": "code",
      "execution_count": 6,
      "metadata": {
        "colab": {
          "base_uri": "https://localhost:8080/"
        },
        "id": "oEYN_hbeXjpy",
        "outputId": "c74f2ff7-f358-43c6-c4cf-2e654fdd4db4"
      },
      "outputs": [
        {
          "name": "stdout",
          "output_type": "stream",
          "text": [
            "Number of reactions in my model:  95\n",
            "Here are the first 10 reactions in your model:  ['PFK', 'PFL', 'PGI', 'PGK', 'PGL', 'ACALD', 'AKGt2r', 'PGM', 'PIt2r']\n"
          ]
        }
      ],
      "source": [
        "print('Number of reactions in my model: ', len(model.reactions))\n",
        "print('Here are the first 10 reactions in your model: ', model.reactions[:9])"
      ]
    },
    {
      "cell_type": "markdown",
      "metadata": {
        "id": "qZk9H2aBPrFj"
      },
      "source": [
        "Moreover, let us see the stoichiometrix matrix ($S$) of our model."
      ]
    },
    {
      "cell_type": "code",
      "execution_count": 7,
      "metadata": {
        "colab": {
          "base_uri": "https://localhost:8080/"
        },
        "id": "DurJhomTPzO1",
        "outputId": "9f8de1cc-0a17-4070-e449-1e468a456ac9"
      },
      "outputs": [
        {
          "data": {
            "text/plain": [
              "array([[ 1.,  0.,  0., ...,  0.,  0.,  0.],\n",
              "       [-1.,  0.,  0., ...,  0.,  0.,  0.],\n",
              "       [-1.,  0.,  1., ...,  0.,  0.,  0.],\n",
              "       ...,\n",
              "       [ 0.,  0.,  0., ...,  0.,  0.,  0.],\n",
              "       [ 0.,  0.,  0., ...,  1.,  0.,  0.],\n",
              "       [ 0.,  0.,  0., ...,  0.,  0.,  0.]])"
            ]
          },
          "execution_count": 7,
          "metadata": {},
          "output_type": "execute_result"
        }
      ],
      "source": [
        "model.S"
      ]
    },
    {
      "cell_type": "markdown",
      "metadata": {
        "id": "wHkrYqfTemnW"
      },
      "source": [
        "And its dimensions are of course $m*n$."
      ]
    },
    {
      "cell_type": "code",
      "execution_count": 8,
      "metadata": {
        "colab": {
          "base_uri": "https://localhost:8080/"
        },
        "id": "Tl52cmuaenlY",
        "outputId": "56c6abb2-cad6-4e3e-e1ba-37e6b581fae2"
      },
      "outputs": [
        {
          "data": {
            "text/plain": [
              "(72, 95)"
            ]
          },
          "execution_count": 8,
          "metadata": {},
          "output_type": "execute_result"
        }
      ],
      "source": [
        "model.S.shape"
      ]
    },
    {
      "cell_type": "markdown",
      "metadata": {
        "id": "nsGLu7c0d3Ra"
      },
      "source": [
        "Last but not least, let us have a look at the **biomass** or **objective function** of our model. "
      ]
    },
    {
      "cell_type": "code",
      "execution_count": 9,
      "metadata": {
        "colab": {
          "base_uri": "https://localhost:8080/"
        },
        "id": "hpnbfsBVeCFK",
        "outputId": "4b190abb-6bcf-4c33-ebab-869fef66d33c"
      },
      "outputs": [
        {
          "data": {
            "text/plain": [
              "array([0., 0., 0., 0., 0., 0., 0., 0., 0., 0., 0., 0., 0., 0., 0., 0., 0.,\n",
              "       0., 0., 0., 0., 0., 0., 0., 1., 0., 0., 0., 0., 0., 0., 0., 0., 0.,\n",
              "       0., 0., 0., 0., 0., 0., 0., 0., 0., 0., 0., 0., 0., 0., 0., 0., 0.,\n",
              "       0., 0., 0., 0., 0., 0., 0., 0., 0., 0., 0., 0., 0., 0., 0., 0., 0.,\n",
              "       0., 0., 0., 0., 0., 0., 0., 0., 0., 0., 0., 0., 0., 0., 0., 0., 0.,\n",
              "       0., 0., 0., 0., 0., 0., 0., 0., 0., 0.])"
            ]
          },
          "execution_count": 9,
          "metadata": {},
          "output_type": "execute_result"
        }
      ],
      "source": [
        "model.biomass_function"
      ]
    },
    {
      "cell_type": "markdown",
      "metadata": {
        "id": "MLXZt3umeGJm"
      },
      "source": [
        "As you can see, this array has only a single `1` in index `24`.\n",
        "Let's see which function is this. "
      ]
    },
    {
      "cell_type": "code",
      "execution_count": 10,
      "metadata": {
        "colab": {
          "base_uri": "https://localhost:8080/",
          "height": 35
        },
        "id": "-04jUh1veQNt",
        "outputId": "30122bce-5847-4e7f-a82c-94c7f1109bd4"
      },
      "outputs": [
        {
          "data": {
            "text/plain": [
              "'BIOMASS_Ecoli_core_w_GAM'"
            ]
          },
          "execution_count": 10,
          "metadata": {},
          "output_type": "execute_result"
        }
      ],
      "source": [
        "model.reactions[24]"
      ]
    },
    {
      "cell_type": "markdown",
      "metadata": {
        "id": "dLi2HZWTjS0e"
      },
      "source": [
        "Ok, so what exactly is the biomass function? 🤔 \n",
        "\n",
        "Let's print the `24` column of our $S$ matrix to see what we have there."
      ]
    },
    {
      "cell_type": "code",
      "execution_count": 11,
      "metadata": {
        "id": "1c93OKZ7eUPX"
      },
      "outputs": [
        {
          "data": {
            "text/plain": [
              "array([ 59.81  , -59.81  ,  -0.0709,   0.    ,  59.81  ,  -3.7478,\n",
              "         3.7478,   0.    ,  -2.8328,  -0.205 ,   0.    ,  -1.496 ,\n",
              "         0.    ,   0.    , -59.81  ,   0.    ,  -3.547 ,   3.547 ,\n",
              "         4.1182,   0.    ,   0.    ,   0.    ,  59.81  ,   0.    ,\n",
              "         0.    ,   0.    ,   0.    ,   0.    ,   0.    ,  -1.7867,\n",
              "        -0.5191,   0.    ,   0.    ,   0.    ,   0.    ,   0.    ,\n",
              "         0.    ,  -0.361 ,  -0.129 ,  -0.2557,  -4.9414,  13.0279,\n",
              "       -13.0279,  -0.8977,   0.    ,   0.    ,   0.    ,   0.    ,\n",
              "         0.    ,   0.    ,   0.    ,   0.    ,   0.    ,   0.    ,\n",
              "         0.    ,   0.    ,   0.    ,   0.    ,   0.    ,   0.    ,\n",
              "         0.    ,   0.    ,   0.    ,   0.    ,   0.    ,   0.    ,\n",
              "         0.    ,   0.    ,   0.    ,   0.    ,   0.    ,   0.    ])"
            ]
          },
          "execution_count": 11,
          "metadata": {},
          "output_type": "execute_result"
        }
      ],
      "source": [
        "# We import numpy and set the threshold parameter to max to enable the display of all the elements of the array\n",
        "np.set_printoptions(threshold=sys.maxsize)\n",
        "model.S[:,24]"
      ]
    },
    {
      "cell_type": "markdown",
      "metadata": {
        "id": "iJa3YQr7jq2-"
      },
      "source": [
        "And just to make sure, let's print the length of this array too. "
      ]
    },
    {
      "cell_type": "code",
      "execution_count": 12,
      "metadata": {
        "colab": {
          "base_uri": "https://localhost:8080/"
        },
        "id": "wFTLZewLiAH-",
        "outputId": "eddc1adb-461f-4b27-ac2c-6e9a48567d38"
      },
      "outputs": [
        {
          "data": {
            "text/plain": [
              "(72,)"
            ]
          },
          "execution_count": 12,
          "metadata": {},
          "output_type": "execute_result"
        }
      ],
      "source": [
        "model.S[:,24].shape"
      ]
    },
    {
      "cell_type": "markdown",
      "metadata": {
        "id": "6TlgVCJijyCO"
      },
      "source": [
        "As expected, the length of the biomass array equals to the number of the metabolites of our model. "
      ]
    },
    {
      "cell_type": "code",
      "execution_count": 13,
      "metadata": {
        "colab": {
          "base_uri": "https://localhost:8080/"
        },
        "id": "EjD7uBgfhYu0",
        "outputId": "91ef3109-04d5-4734-dcf4-6cc4578f4f58"
      },
      "outputs": [
        {
          "data": {
            "text/plain": [
              "72"
            ]
          },
          "execution_count": 13,
          "metadata": {},
          "output_type": "execute_result"
        }
      ],
      "source": [
        "len(model.metabolites)"
      ]
    },
    {
      "cell_type": "markdown",
      "metadata": {
        "id": "Pq0IOSSdkECR"
      },
      "source": [
        "Moreover, you need to remember that the indexes of those 2 arrays are in order, meaning that the actual biomass function would be as follows:"
      ]
    },
    {
      "cell_type": "markdown",
      "metadata": {
        "id": "oQ6GhgTblIND"
      },
      "source": [
        "$ 59.81*adp\\_c - 59.81*atp\\_c -0.0709*f6p\\_c + ...  -0.8977*r5p\\_c$"
      ]
    },
    {
      "cell_type": "markdown",
      "metadata": {
        "id": "NmVjo47VP8xj"
      },
      "source": [
        "You can also have a look at the `dingo` related parameters of the model you just built."
      ]
    },
    {
      "cell_type": "code",
      "execution_count": 14,
      "metadata": {
        "colab": {
          "base_uri": "https://localhost:8080/"
        },
        "id": "NuVrc64WYJbJ",
        "outputId": "4c275328-795d-4b83-9d53-f5524b325fec"
      },
      "outputs": [
        {
          "data": {
            "text/plain": [
              "{'opt_percentage': 100,\n",
              " 'distribution': 'uniform',\n",
              " 'nullspace_method': 'sparseQR',\n",
              " 'fast_computations': True}"
            ]
          },
          "execution_count": 14,
          "metadata": {},
          "output_type": "execute_result"
        }
      ],
      "source": [
        "model.parameters"
      ]
    },
    {
      "cell_type": "markdown",
      "metadata": {
        "id": "ctpZFRndQGrb"
      },
      "source": [
        "### ..to optimize an objective function (FBA)"
      ]
    },
    {
      "cell_type": "markdown",
      "metadata": {
        "id": "uccGKr_hSJCM"
      },
      "source": [
        "To perform FBA with `dingo`, you just need to call the according method ([`fba`](https://github.com/GeomScale/dingo/blob/a76b4be22f33feac86dff38746c7f2706afb2b67/dingo/MetabolicNetwork.py#L107)) of the `model` you built using the [`MetabolicNetwork`](https://github.com/GeomScale/dingo/blob/a76b4be22f33feac86dff38746c7f2706afb2b67/dingo/MetabolicNetwork.py#L21) class. \n",
        "\n",
        "FBA is a lot easier both from the computational and the geometical point of view and it takes much less time. "
      ]
    },
    {
      "cell_type": "code",
      "execution_count": 15,
      "metadata": {
        "id": "kWFbcJumShgh"
      },
      "outputs": [],
      "source": [
        "%%capture\n",
        "fba_output = model.fba()"
      ]
    },
    {
      "cell_type": "markdown",
      "metadata": {
        "id": "Ql-cIs8JxLuJ"
      },
      "source": [
        "As already mentioned, FBA identifies an **optimal** flux distribution by optimizing a linear **objective function**.\n",
        "\n",
        "So the output of FBA can be considered as a single sample of the flux sampling method described above. Thus, if we check on the output this time we will see that it has 2 attributes:\n",
        "* the **flux vector** (meaning the set of the reactions flux values in the same solution) which maximizes the objective function.\n",
        "* the **flux value** that the objective function achieves at the maximum"
      ]
    },
    {
      "cell_type": "code",
      "execution_count": 18,
      "metadata": {
        "id": "Nxk0qI0ISmOB"
      },
      "outputs": [
        {
          "name": "stdout",
          "output_type": "stream",
          "text": [
            "This is the optimal flux vector according to the biomass objective function:  [ 7.47738196e+00  0.00000000e+00  4.86086115e+00 -1.60235261e+01\n",
            "  4.95998494e+00  0.00000000e+00  0.00000000e+00 -1.47161396e+01\n",
            "  3.21489505e+00  0.00000000e+00  0.00000000e+00  0.00000000e+00\n",
            "  2.50430947e+00  6.00724958e+00  6.00724958e+00  8.39000000e+00\n",
            "  0.00000000e+00  0.00000000e+00  0.00000000e+00  0.00000000e+00\n",
            "  5.06437566e+00  4.55140098e+01  0.00000000e+00  1.75817744e+00\n",
            "  8.73921507e-01  0.00000000e+00 -2.28098333e+01  2.67848185e+00\n",
            "  6.00724958e+00 -2.28150309e+00  0.00000000e+00  4.35989853e+01\n",
            "  0.00000000e+00  1.47161396e+01  0.00000000e+00  0.00000000e+00\n",
            "  1.00000000e+03 -5.06437566e+00  1.49698376e+00  0.00000000e+00\n",
            "  1.49698376e+00  1.18149809e+00  7.47738196e+00  0.00000000e+00\n",
            "  0.00000000e+00  0.00000000e+00  2.28098333e+01  0.00000000e+00\n",
            "  0.00000000e+00  0.00000000e+00  0.00000000e+00 -1.00000000e+01\n",
            "  0.00000000e+00  0.00000000e+00  1.75308654e+01  2.91758271e+01\n",
            "  0.00000000e+00  0.00000000e+00 -4.76531919e+00 -2.17994927e+01\n",
            " -3.21489505e+00  0.00000000e+00  0.00000000e+00  7.47738196e+00\n",
            "  0.00000000e+00  0.00000000e+00  0.00000000e+00  9.94935624e+02\n",
            "  0.00000000e+00  5.06437566e+00  0.00000000e+00  4.95998494e+00\n",
            "  1.60235261e+01  1.00000000e+01  2.23461729e-01  0.00000000e+00\n",
            " -4.54185746e+00  0.00000000e+00  0.00000000e+00  0.00000000e+00\n",
            "  4.95998494e+00 -2.91758271e+01  6.00724958e+00  0.00000000e+00\n",
            "  0.00000000e+00  0.00000000e+00  0.00000000e+00  5.06437566e+00\n",
            "  0.00000000e+00  0.00000000e+00  3.85346097e+01  0.00000000e+00\n",
            "  4.76531919e+00  2.17994927e+01  9.28253260e+00]\n",
            "----------\n",
            "This is the value of that optimal solution of the objective function:  0.8739215069684305\n"
          ]
        }
      ],
      "source": [
        "np.set_printoptions(threshold=None)\n",
        "\n",
        "max_biomass_flux_vector = fba_output[0]\n",
        "max_biomass_objective = fba_output[1]\n",
        "\n",
        "print('This is the optimal flux vector according to the biomass objective function: ', max_biomass_flux_vector)\n",
        "print('----------')\n",
        "print('This is the value of that optimal solution of the objective function: ', max_biomass_objective)"
      ]
    },
    {
      "cell_type": "markdown",
      "metadata": {
        "id": "rKBVhQI9SlbO"
      },
      "source": [
        "💪 Even it is quite common that the objective function is the biomass function of a model, **you can change your objective function** as you wish and use any reaction as your objective function.\n",
        "\n",
        "For example, to maximize the 1st reaction of the model, we first build an array with the number of reactions of our model with `0`s and then we set only its first elemet equal to `1`:"
      ]
    },
    {
      "cell_type": "code",
      "execution_count": 19,
      "metadata": {
        "id": "fdLlAbhA0Ylg"
      },
      "outputs": [],
      "source": [
        "n = model.num_of_reactions()\n",
        "obj_fun = np.zeros(n)\n",
        "obj_fun[0] = 1"
      ]
    },
    {
      "cell_type": "markdown",
      "metadata": {
        "id": "jWEhcWmJm1Qu"
      },
      "source": [
        "Now we can replace the `biomass_function` parameter of our model with our new objective function"
      ]
    },
    {
      "cell_type": "code",
      "execution_count": 20,
      "metadata": {
        "id": "jrASE_SS2Nst"
      },
      "outputs": [],
      "source": [
        "model.biomass_function = obj_fun"
      ]
    },
    {
      "cell_type": "markdown",
      "metadata": {
        "id": "YXt-5pFlnCcm"
      },
      "source": [
        "And if we now ask to see our new objective function: "
      ]
    },
    {
      "cell_type": "code",
      "execution_count": 21,
      "metadata": {
        "id": "Lf8jpTrU1dEr"
      },
      "outputs": [
        {
          "data": {
            "text/plain": [
              "array([1., 0., 0., 0., 0., 0., 0., 0., 0., 0., 0., 0., 0., 0., 0., 0., 0.,\n",
              "       0., 0., 0., 0., 0., 0., 0., 0., 0., 0., 0., 0., 0., 0., 0., 0., 0.,\n",
              "       0., 0., 0., 0., 0., 0., 0., 0., 0., 0., 0., 0., 0., 0., 0., 0., 0.,\n",
              "       0., 0., 0., 0., 0., 0., 0., 0., 0., 0., 0., 0., 0., 0., 0., 0., 0.,\n",
              "       0., 0., 0., 0., 0., 0., 0., 0., 0., 0., 0., 0., 0., 0., 0., 0., 0.,\n",
              "       0., 0., 0., 0., 0., 0., 0., 0., 0., 0.])"
            ]
          },
          "execution_count": 21,
          "metadata": {},
          "output_type": "execute_result"
        }
      ],
      "source": [
        "model.biomass_function"
      ]
    },
    {
      "cell_type": "markdown",
      "metadata": {
        "id": "_63UO5TqnMlp"
      },
      "source": [
        "You see that the `1` is now not in the `24` index but in the first. 🎉"
      ]
    },
    {
      "cell_type": "markdown",
      "metadata": {
        "id": "YTd07QyGnZwX"
      },
      "source": [
        "So if we run now a FBA here is what we will get. "
      ]
    },
    {
      "cell_type": "code",
      "execution_count": 22,
      "metadata": {
        "id": "f11M0AClnfhZ"
      },
      "outputs": [],
      "source": [
        "%%capture\n",
        "fba_output_new_obj = model.fba()"
      ]
    },
    {
      "cell_type": "code",
      "execution_count": 23,
      "metadata": {
        "id": "80op83f4noZK"
      },
      "outputs": [
        {
          "name": "stdout",
          "output_type": "stream",
          "text": [
            "This is the optimal flux vector according to my objective function:  [ 176.61    0.     10.    -20.      0.      0.      0.    -20.      0.\n",
            "    0.      0.      0.      0.     20.     20.      8.39    0.      0.\n",
            "    0.      0.     20.    135.      0.     10.      0.      0.    -60.\n",
            "    0.     20.      0.      0.    120.      0.     20.      0.      0.\n",
            " 1000.    -20.      0.      0.      0.      0.     10.      0.      0.\n",
            "    0.     60.      0.      0.      0.      0.    -10.      0.      0.\n",
            "    0.     60.      0.      0.      0.    -60.      0.      0.      0.\n",
            "   10.    166.61    0.      0.    980.      0.     20.      0.      0.\n",
            "   20.     10.      0.      0.      0.      0.      0.      0.      0.\n",
            "  -60.     20.      0.      0.      0.      0.     20.      0.      0.\n",
            "  100.     20.      0.     60.     20.  ]\n",
            "----------\n",
            "This is the value of that optimal solution of the new objective function:  176.60999999999996\n"
          ]
        }
      ],
      "source": [
        "max_biomass_flux_vector_new_obj = fba_output_new_obj[0]\n",
        "max_biomass_objective_new_obj = fba_output_new_obj[1]\n",
        "print('This is the optimal flux vector according to my objective function: ', max_biomass_flux_vector_new_obj)\n",
        "print('----------')\n",
        "print('This is the value of that optimal solution of the new objective function: ', max_biomass_objective_new_obj)"
      ]
    },
    {
      "cell_type": "markdown",
      "metadata": {
        "id": "b1ZAlpHY6Ifm"
      },
      "source": [
        "### ..to find the minimum and maximum flux for each reaction (FVA)"
      ]
    },
    {
      "cell_type": "markdown",
      "metadata": {},
      "source": [
        "Let's run FVA using that; this will take a while 😉"
      ]
    },
    {
      "cell_type": "code",
      "execution_count": 24,
      "metadata": {
        "id": "OaxWPyakpriX"
      },
      "outputs": [
        {
          "data": {
            "text/plain": [
              "'PFK'"
            ]
          },
          "execution_count": 24,
          "metadata": {},
          "output_type": "execute_result"
        }
      ],
      "source": [
        "model.reactions[0]"
      ]
    },
    {
      "cell_type": "markdown",
      "metadata": {
        "id": "ex3H0OXtpGr1"
      },
      "source": [
        "As we said earlier, FVA gets the min and max value of each reaction flux that can still satisfy the constraints of the metabolic model.\n",
        "\n",
        "**Remember!** \n",
        "\n",
        "In the previous step, we replaced the `biomass_function` of our model. So if we run FVA in our current model, then the first reaction of our model "
      ]
    },
    {
      "cell_type": "code",
      "execution_count": 25,
      "metadata": {
        "id": "AK5OdFU4yZZL"
      },
      "outputs": [],
      "source": [
        "%%capture\n",
        "# Run FVA\n",
        "fva_output = model.fva()\n",
        "\n",
        "# Get min and max flux values\n",
        "pfk_min_fluxes = fva_output[0]\n",
        "pfk_max_fluxes = fva_output[1]\n",
        "\n",
        "# Get the max flux distribution and the max biomass value when the objective function is maximum\n",
        "pfk_max_biomass_flux_vector = fva_output[2]\n",
        "pfk_max_biomass_objective = fva_output[3]"
      ]
    },
    {
      "cell_type": "markdown",
      "metadata": {
        "id": "qGVto8ckp7LS"
      },
      "source": [
        "We can go with that or if we need to go back in using the actual biomass function of our model, we can either do the same process as before to change again the `biomass_function` or we can just build a new instance of the `MetabolicNetwork` class. "
      ]
    },
    {
      "cell_type": "code",
      "execution_count": 26,
      "metadata": {
        "id": "Mk-CtSOJLWo8"
      },
      "outputs": [],
      "source": [
        "%%capture\n",
        "# Build new instance of the model\n",
        "new_model = MetabolicNetwork.from_json( main_path + '/ext_data/e_coli_core.json')\n",
        "\n",
        "# Run FVA\n",
        "fva_output = new_model.fva()\n",
        "\n",
        "# Get min and max flux values\n",
        "min_fluxes = fva_output[0]\n",
        "max_fluxes = fva_output[1]\n",
        "\n",
        "# Get the max flux distribution and the max biomass value when the objective function is maximum\n",
        "max_biomass_flux_vector = fva_output[2]\n",
        "max_biomass_objective = fva_output[3]"
      ]
    },
    {
      "cell_type": "markdown",
      "metadata": {},
      "source": [
        "Let's see how they're different!"
      ]
    },
    {
      "cell_type": "code",
      "execution_count": 27,
      "metadata": {},
      "outputs": [
        {
          "name": "stdout",
          "output_type": "stream",
          "text": [
            "This is the flux vector with the minimum values of each flux when the PFK reaction gets maximum:  [ 1.76609999e+02  0.00000000e+00  9.99999867e+00 -2.00000000e+01\n",
            "  0.00000000e+00 -1.53846148e-07 -9.30232495e-08 -2.00000000e+01\n",
            "  0.00000000e+00 -1.33333334e-07 -1.53846152e-07 -2.35294117e-07\n",
            "  0.00000000e+00  1.99999996e+01  1.99999996e+01  8.39000000e+00\n",
            "  0.00000000e+00 -2.35294117e-07  0.00000000e+00  0.00000000e+00\n",
            "  1.99999990e+01  1.34999999e+02  0.00000000e+00  9.99999900e+00\n",
            "  0.00000000e+00 -1.53846152e-07 -6.00000000e+01 -3.86129832e-09\n",
            "  1.99999996e+01 -4.44444448e-07  0.00000000e+00  1.19999999e+02\n",
            " -1.29032269e-07  1.99999996e+01  0.00000000e+00 -1.33333332e-07\n",
            "  1.99999996e+01 -2.00000000e+01 -9.46457685e-10  0.00000000e+00\n",
            " -9.61027071e-10 -2.85630243e-09  9.99999956e+00  0.00000000e+00\n",
            "  0.00000000e+00  0.00000000e+00  5.99999993e+01  0.00000000e+00\n",
            "  0.00000000e+00  0.00000000e+00  0.00000000e+00 -1.00000000e+01\n",
            "  0.00000000e+00  0.00000000e+00  0.00000000e+00  5.99999993e+01\n",
            "  0.00000000e+00  0.00000000e+00 -7.69230759e-08 -6.00000000e+01\n",
            " -1.97614689e-08  0.00000000e+00  0.00000000e+00  9.99999956e+00\n",
            "  1.66609999e+02 -7.99999971e-07 -3.99999999e-06  0.00000000e+00\n",
            " -5.40540537e-08  1.99999996e+01 -1.29032223e-07  0.00000000e+00\n",
            "  1.99999996e+01  9.99999995e+00  0.00000000e+00 -8.16326526e-08\n",
            " -8.33333331e-08  0.00000000e+00  0.00000000e+00 -8.33333331e-08\n",
            "  0.00000000e+00 -6.00000000e+01  1.99999990e+01  0.00000000e+00\n",
            " -1.29032262e-07  0.00000000e+00 -1.14285719e-07  1.99999990e+01\n",
            "  0.00000000e+00  0.00000000e+00  9.99999993e+01  1.99999990e+01\n",
            "  0.00000000e+00  5.99999995e+01  1.99999993e+01]\n",
            "This is the flux vector with the minimum values of each flux when the biomass function gets maximum:  [ 7.47730610e+00  0.00000000e+00  4.86063216e+00 -1.60236104e+01\n",
            "  4.95973618e+00 -1.47484815e-05 -8.29602083e-06 -1.47162246e+01\n",
            "  3.21489318e+00 -1.28454516e-05 -1.47484815e-05 -2.21227222e-05\n",
            "  2.50390981e+00  6.00718037e+00  6.00718037e+00  8.39000000e+00\n",
            "  0.00000000e+00 -2.21227222e-05  0.00000000e+00  0.00000000e+00\n",
            "  5.06390880e+00  4.55138011e+01  0.00000000e+00  1.75807836e+00\n",
            "  8.73921000e-01 -1.47484815e-05 -2.28098549e+01  2.67831637e+00\n",
            "  6.00718037e+00 -2.28157909e+00  0.00000000e+00  4.35989411e+01\n",
            " -1.24440312e-05  1.47160653e+01  0.00000000e+00 -1.28454516e-05\n",
            "  5.06430700e+00 -5.06446629e+00  1.49690093e+00  0.00000000e+00\n",
            "  1.49690093e+00  1.18141545e+00  7.47730610e+00  0.00000000e+00\n",
            "  0.00000000e+00  0.00000000e+00  2.28097885e+01  0.00000000e+00\n",
            "  0.00000000e+00  0.00000000e+00  0.00000000e+00 -1.00000000e+01\n",
            "  0.00000000e+00  0.00000000e+00  1.75308553e+01  2.91757786e+01\n",
            "  0.00000000e+00  0.00000000e+00 -4.76532380e+00 -2.17995148e+01\n",
            " -3.21489505e+00  0.00000000e+00  0.00000000e+00  7.47730610e+00\n",
            "  0.00000000e+00  0.00000000e+00 -3.98209000e-04  0.00000000e+00\n",
            "  0.00000000e+00  5.06430700e+00  0.00000000e+00  4.95973618e+00\n",
            "  1.60234511e+01  9.99999447e+00  2.23461600e-01  0.00000000e+00\n",
            " -4.54186220e+00  0.00000000e+00  0.00000000e+00 -7.37424074e-06\n",
            "  4.95973618e+00 -2.91758450e+01  6.00678216e+00  0.00000000e+00\n",
            " -1.24440312e-05  0.00000000e+00  0.00000000e+00  5.06428046e+00\n",
            "  0.00000000e+00  0.00000000e+00  3.85345633e+01  0.00000000e+00\n",
            "  4.76531643e+00  2.17994706e+01  9.28246150e+00]\n",
            "----------\n",
            "This is the flux vector with the maximum values of each flux when the PFK reaction gets maximum:  [ 1.76610000e+02  6.66666651e-07  1.00000000e+01 -1.99999996e+01\n",
            "  1.33333328e-06 -0.00000000e+00 -0.00000000e+00 -1.99999996e+01\n",
            "  1.97614973e-08 -0.00000000e+00 -0.00000000e+00 -0.00000000e+00\n",
            "  9.99999997e-07  2.00000000e+01  2.00000000e+01  8.39000100e+00\n",
            "  9.99999997e-07 -0.00000000e+00  9.99999997e-07  9.99999997e-07\n",
            "  2.00000000e+01  1.35000000e+02  2.35294117e-07  1.00000010e+01\n",
            "  5.29042865e-09 -0.00000000e+00 -5.99999993e+01  8.88888874e-07\n",
            "  2.00000000e+01 -0.00000000e+00  1.33333333e-06  1.20000000e+02\n",
            " -0.00000000e+00  2.00000000e+01  1.33333333e-06 -0.00000000e+00\n",
            "  1.00000000e+03 -1.99999990e+01  4.44444426e-07  1.99999999e-06\n",
            "  4.44444426e-07  4.44444426e-07  1.00000000e+01  2.35294124e-07\n",
            "  1.53846123e-07  8.51062794e-08  6.00000000e+01  1.33333325e-07\n",
            "  6.66666651e-07  5.40540555e-08 -0.00000000e+00 -9.99999995e+00\n",
            " -0.00000000e+00  7.69232607e-08  6.66666750e-07  6.00000000e+01\n",
            "  1.29032255e-07 -0.00000000e+00 -0.00000000e+00 -5.99999995e+01\n",
            " -0.00000000e+00  1.53846148e-07  1.21212111e-07  1.00000000e+01\n",
            "  1.66610000e+02  3.99999999e-06 -0.00000000e+00  9.80000000e+02\n",
            " -0.00000000e+00  2.00000000e+01 -0.00000000e+00  1.33333334e-06\n",
            "  2.00000000e+01  1.00000000e+01  9.99999969e-07 -0.00000000e+00\n",
            "  9.99999997e-07  9.99999997e-07  9.99999997e-07 -0.00000000e+00\n",
            "  1.33333334e-06 -5.99999992e+01  2.00000000e+01  9.99999997e-07\n",
            " -0.00000000e+00  9.99999903e-07 -0.00000000e+00  2.00000010e+01\n",
            "  9.99999898e-07  9.99999898e-07  1.00000000e+02  2.00000022e+01\n",
            "  1.77777782e-07  6.00000000e+01  2.00000010e+01]\n",
            "This is the flux vector with the maximum values of each flux when the biomass function gets maximum:  [ 7.47748530e+00  6.63681667e-05  4.86111001e+00 -1.60234511e+01\n",
            "  4.96021403e+00 -0.00000000e+00 -0.00000000e+00 -1.47160653e+01\n",
            "  3.21489505e+00 -0.00000000e+00 -0.00000000e+00 -0.00000000e+00\n",
            "  2.50444075e+00  6.00733965e+00  6.00733965e+00  8.39009955e+00\n",
            "  9.95522498e-05 -0.00000000e+00  9.95522498e-05  9.95522500e-05\n",
            "  5.06446629e+00  4.55141197e+01  2.21227222e-05  1.75850311e+00\n",
            "  8.73921507e-01 -0.00000000e+00 -2.28097885e+01  2.67863494e+00\n",
            "  6.00733965e+00 -2.28141981e+00  1.32736333e-04  4.35990296e+01\n",
            " -0.00000000e+00  1.47162246e+01  1.32736333e-04 -0.00000000e+00\n",
            "  1.00000000e+03 -5.06390880e+00  1.49706021e+00  3.98208999e-04\n",
            "  1.49706021e+00  1.18157473e+00  7.47746539e+00  2.21227222e-05\n",
            "  1.47484815e-05  8.29602083e-06  2.28098549e+01  1.28454516e-05\n",
            "  6.63681667e-05 -0.00000000e+00 -0.00000000e+00 -9.99999447e+00\n",
            " -0.00000000e+00  7.37424074e-06  1.75309216e+01  2.91758450e+01\n",
            "  1.24440312e-05 -0.00000000e+00 -4.76531643e+00 -2.17994706e+01\n",
            " -3.21489318e+00  1.47484815e-05  9.71241457e-06  7.47746539e+00\n",
            "  9.95522500e-05  3.98209000e-04 -0.00000000e+00  9.94935693e+02\n",
            " -0.00000000e+00  5.06446629e+00 -0.00000000e+00  4.96021403e+00\n",
            "  1.60236104e+01  1.00000000e+01  2.23561152e-01 -0.00000000e+00\n",
            " -4.54175528e+00  9.95522500e-05  9.95522500e-05 -0.00000000e+00\n",
            "  4.96021403e+00 -2.91757786e+01  6.00733965e+00  3.98209000e-04\n",
            " -0.00000000e+00  3.98209000e-04 -0.00000000e+00  5.06470521e+00\n",
            "  9.95522500e-05  1.32736333e-04  3.85347226e+01  3.98209000e-04\n",
            "  4.76532380e+00  2.17995148e+01  9.28285970e+00]\n"
          ]
        }
      ],
      "source": [
        "print('This is the flux vector with the minimum values of each flux when the PFK reaction gets maximum: ', pfk_min_fluxes)\n",
        "print('This is the flux vector with the minimum values of each flux when the biomass function gets maximum: ', min_fluxes)\n",
        "\n",
        "print('----------')\n",
        "\n",
        "print('This is the flux vector with the maximum values of each flux when the PFK reaction gets maximum: ', pfk_max_fluxes)\n",
        "print('This is the flux vector with the maximum values of each flux when the biomass function gets maximum: ', max_fluxes)"
      ]
    },
    {
      "cell_type": "markdown",
      "metadata": {},
      "source": [
        "Apparently (and obviously) they are quite different!\n",
        "\n",
        "The same thing is with the flux vector and the max biomass objective."
      ]
    },
    {
      "cell_type": "markdown",
      "metadata": {
        "id": "Bzol1NZmTAco"
      },
      "source": [
        "### ..to sample the flux space of your model"
      ]
    },
    {
      "cell_type": "markdown",
      "metadata": {
        "id": "gH3q_ImwT8H_"
      },
      "source": [
        "Finally, one may sample the model's flux space using the [`PolytopeSampler`](https://github.com/GeomScale/dingo/blob/a76b4be22f33feac86dff38746c7f2706afb2b67/dingo/PolytopeSampler.py#L28) class of `dingo`. \n",
        "\n",
        "To do so, you first build an instance of this class based on your `model`:"
      ]
    },
    {
      "cell_type": "code",
      "execution_count": 28,
      "metadata": {
        "id": "HHXSrEelXh4o"
      },
      "outputs": [],
      "source": [
        "from dingo import PolytopeSampler\n",
        "sampler = PolytopeSampler(model)"
      ]
    },
    {
      "cell_type": "markdown",
      "metadata": {
        "id": "TqJZftR1kMgC"
      },
      "source": [
        "Then, the [`generate_steady_states()`](https://github.com/GeomScale/dingo/blob/a76b4be22f33feac86dff38746c7f2706afb2b67/dingo/PolytopeSampler.py#L119) method can be used for flux sampling. \n",
        "\n",
        "This method optionally gets as arguments the following: \n",
        "\n",
        "* the **effective sample size (ESS)** asked (by default `ESS = 1000`). ESS is the number of effectively independent draws from the posterior distribution that the Markov chain is equivalent to.\n",
        " \n",
        "* the **Potential Scale Reduction Factor (PSRF)** of each marginal flux to  get an upper bound equal to 1.1 (by default that is set as `False`)"
      ]
    },
    {
      "cell_type": "markdown",
      "metadata": {},
      "source": [
        "So, let's sample!"
      ]
    },
    {
      "cell_type": "code",
      "execution_count": 29,
      "metadata": {
        "id": "0y_TOtcGUmAW"
      },
      "outputs": [
        {
          "name": "stdout",
          "output_type": "stream",
          "text": [
            "phase 1: number of correlated samples = 400, effective sample size = 2, ratio of the maximum singilar value over the minimum singular value = 533.193\n",
            "phase 2: number of correlated samples = 400, effective sample size = 18, ratio of the maximum singilar value over the minimum singular value = 169.159\n",
            "phase 3: number of correlated samples = 400, effective sample size = 4, ratio of the maximum singilar value over the minimum singular value = 314.855\n",
            "phase 4: number of correlated samples = 400, effective sample size = 11, ratio of the maximum singilar value over the minimum singular value = 290.75\n",
            "phase 5: number of correlated samples = 400, effective sample size = 102, ratio of the maximum singilar value over the minimum singular value = 15.0213\n",
            "phase 6: number of correlated samples = 400, effective sample size = 122, ratio of the maximum singilar value over the minimum singular value = 2.64729\n",
            "phase 7: number of correlated samples = 2000, effective sample size = 731\n",
            "phase 8: number of correlated samples = 100, effective sample size = 41\n",
            "[4]total ess 1031: number of correlated samples = 4500\n",
            "\n",
            "\n"
          ]
        },
        {
          "name": "stderr",
          "output_type": "stream",
          "text": [
            "[4]maximum marginal PSRF: 1.00172\n"
          ]
        }
      ],
      "source": [
        "%%capture\n",
        "steady_states = sampler.generate_steady_states(ess = 1000, psrf = True) # this took a little bit more than 5 minutes"
      ]
    },
    {
      "cell_type": "markdown",
      "metadata": {
        "id": "gy25rKbHUsVS"
      },
      "source": [
        "Above, a great number of values of the flux of each reaction is computed, given that the system is always at a steady state. \n",
        "\n",
        "That means that we now have a **flux distribution** (all the values computed for the flux of a specific reaction) for each reaction of our model!"
      ]
    },
    {
      "cell_type": "markdown",
      "metadata": {
        "id": "P-qbALhEY7lu"
      },
      "source": [
        "Obviously, we have as many flux distributions as the reactions of our model:"
      ]
    },
    {
      "cell_type": "code",
      "execution_count": 30,
      "metadata": {
        "colab": {
          "base_uri": "https://localhost:8080/"
        },
        "id": "5F1MNZZHZCU0",
        "outputId": "a312c4e9-5279-41d1-8638-7d0426679b15"
      },
      "outputs": [
        {
          "name": "stdout",
          "output_type": "stream",
          "text": [
            "Number of reactions in my model:  95\n",
            "Number of flux distributions sampled:  95\n"
          ]
        }
      ],
      "source": [
        "print('Number of reactions in my model: ', len(model.reactions))\n",
        "print('Number of flux distributions sampled: ', steady_states.shape[0])"
      ]
    },
    {
      "cell_type": "markdown",
      "metadata": {
        "id": "MOG6YGueZzpO"
      },
      "source": [
        "And each flux distribution has as many flux values as `dingo` required to reach the ESS asked. "
      ]
    },
    {
      "cell_type": "code",
      "execution_count": 31,
      "metadata": {
        "id": "767f9ouRagU5"
      },
      "outputs": [
        {
          "name": "stdout",
          "output_type": "stream",
          "text": [
            "Number of flux values of the flux distributions returned:  4500\n"
          ]
        }
      ],
      "source": [
        "print('Number of flux values of the flux distributions returned: ', steady_states.shape[1])"
      ]
    },
    {
      "cell_type": "markdown",
      "metadata": {
        "id": "svc47hxNbo6L"
      },
      "source": [
        "Let us now assume that we are interested in a certain reaction of our model, for example the last reaction of the glycolysis which is catalyzed by the Pyruvate kinase (PYK) enzyme. \n",
        "\n",
        "We first need to look in the `model.reactions` list and find the index of the `PYK` reaction; the enzyme is usually the name of reaction. "
      ]
    },
    {
      "cell_type": "code",
      "execution_count": 32,
      "metadata": {
        "colab": {
          "base_uri": "https://localhost:8080/"
        },
        "id": "-im2Cgq5b3oS",
        "outputId": "a0b24427-8368-49b0-ef8a-40d6d5af0f61"
      },
      "outputs": [
        {
          "data": {
            "text/plain": [
              "23"
            ]
          },
          "execution_count": 32,
          "metadata": {},
          "output_type": "execute_result"
        }
      ],
      "source": [
        "model.reactions.index('PYK')"
      ]
    },
    {
      "cell_type": "markdown",
      "metadata": {
        "id": "k6uheDpHfiHq"
      },
      "source": [
        "Now that we know the index of the reaction of our interest, we can use the [`plot_histogram`](https://github.com/GeomScale/dingo/blob/a76b4be22f33feac86dff38746c7f2706afb2b67/dingo/utils.py#L177) function of `dingo` to plot its corresponding flux distribution. "
      ]
    },
    {
      "cell_type": "code",
      "execution_count": 33,
      "metadata": {
        "colab": {
          "base_uri": "https://localhost:8080/",
          "height": 467
        },
        "id": "-n2HKr82yKyh",
        "outputId": "b4d6e8ff-6f7e-4c45-a478-9f7208db57a9"
      },
      "outputs": [
        {
          "data": {
            "image/png": "[encoded data removed]",
            "text/plain": [
              "<Figure size 700x700 with 1 Axes>"
            ]
          },
          "metadata": {},
          "output_type": "display_data"
        }
      ],
      "source": [
        "from dingo import plot_histogram\n",
        "\n",
        "reactions = model.reactions\n",
        "plot_histogram(\n",
        "        steady_states[23],  # here we set which reaction's flux we need to get \n",
        "        reactions[23],      # here we provide the name of the reaction\n",
        "        n_bins = 60,\n",
        ")"
      ]
    },
    {
      "cell_type": "markdown",
      "metadata": {
        "id": "jl7tJ-ObS6L3"
      },
      "source": [
        "From the flux distribution of PYK we can that most values fall between 1.7 and 1.9 and that it looks approximately normal, with a mean value at 1.775 mmol/gDW/h (millimoles per gram dry weight per hour).\n"
      ]
    },
    {
      "cell_type": "markdown",
      "metadata": {
        "id": "IFsATtLyl6ak"
      },
      "source": [
        "Applications of flux sampling can provide great insight in many ways. \n",
        "\n",
        "Based on the [iAB-AMØ-1410](https://doi.org/10.1038/msb.2010.68) genome-scale metabolic model of human alveolar macrophages and the SARS-CoV-2 virus biomass objective function (VBOF) they built, [Renz et al. (2020)](https://doi.org/10.1093/bioinformatics/btaa813) investigated for alterations in the metabolism to come up with potential antiviral targets. "
      ]
    },
    {
      "cell_type": "markdown",
      "metadata": {
        "id": "EgImVdw8sFk_"
      },
      "source": [
        "In line with the findings of Renz et al. (2020), flux sampling in the metabolic model built from the macrophage model and the VBOF using `dingo` indicates **guanylate kinase (GK1)** as a potential antiviral target. \n",
        "Flux sampling was perfored first with no objective function for the virus and then after maximizing the VBOF built by Renz et al. (2020). \n",
        "\n",
        "<img src=\"https://drive.google.com/uc?id=1IOdSscVP0HoTRctQuSCywgIXokUNE-_v\" height=400>\n",
        "\n"
      ]
    },
    {
      "cell_type": "markdown",
      "metadata": {},
      "source": [
        "\n",
        "------\n",
        "\n",
        "We hope you will find dingo useful and easy-to-use!\n",
        "\n",
        "For anything which might be needed, don't hesitate to open an issue on the project's GitHub repo!\n",
        "\n",
        "\n",
        "---"
      ]
    },
    {
      "cell_type": "markdown",
      "metadata": {},
      "source": [
        "## References"
      ]
    },
    {
      "cell_type": "markdown",
      "metadata": {
        "id": "jYNJd6K9qgHB"
      },
      "source": [
        "* Palsson Bernhard. [Systems biology](https://www.cambridge.org/core/books/systems-biology/7F8445BC87019806B3625DFC4B5C27D4). Cambridge university press, 2015. \n",
        "\n",
        "* Orth Jeffrey D., Ines Thiele, and Bernhard Ø. Palsson. [\"What is flux balance analysis?.\"](https://doi.org/10.1038/nbt.1614) Nature biotechnology 28.3 (2010): 245-248.\n",
        "\n",
        "*  Chalkis Apostolos, Fisikopoulos Vissarion, Tsigaridas Elias and Zafeiropoulos Haris [\"Geometric Algorithms for Sampling the Flux Space of Metabolic Networks\"](https://drops.dagstuhl.de/opus/volltexte/2021/13820/pdf/LIPIcs-SoCG-2021-21.pdf)\n",
        "\n",
        "* Schellenberger, Jan, and Bernhard Ø. Palsson. [\"Use of randomized sampling for analysis of metabolic networks.\"](https://doi.org/10.1074/jbc.R800048200) Journal of biological chemistry 284, no. 9 (2009): 5457-5461."
      ]
    },
    {
      "cell_type": "markdown",
      "metadata": {
        "id": "dpn2LsGIIpTV"
      },
      "source": [
        "## The GeomScale project"
      ]
    },
    {
      "cell_type": "markdown",
      "metadata": {
        "id": "qjgmQMNcItsV"
      },
      "source": [
        "[Geomscale](https://geomscale.github.io/) is a research and development \n",
        "project that delivers open source code for state-of-the-art algorithms at the intersection of data science, optimization, geometric, and statistical computing. \n",
        "\n",
        "`dingo` is based on the [`volesti` package](https://github.com/GeomScale/volesti), an open source C++ library for volume approximation and sampling of convex bodies.\n",
        "\n",
        "GeomScale is part of [NumFOCUS](https://numfocus.org/) and is a Google Summer of Code [(GSoC) organization](https://summerofcode.withgoogle.com/organizations/5553085268623360/). \n",
        "\n",
        "<br/>\n",
        "\n",
        "<img src=\"https://drive.google.com/uc?id=1PTSnQi7ev1Dv0BwffvFWz4jT5zdtCmqL\" height=200>"
      ]
    }
  ],
  "metadata": {
    "colab": {
      "collapsed_sections": [],
      "include_colab_link": true,
      "name": "dingo-tutorial.ipynb",
      "provenance": [],
      "toc_visible": true
    },
    "kernelspec": {
      "display_name": "Python 3.10.6 64-bit",
      "language": "python",
      "name": "python3"
    },
    "language_info": {
      "codemirror_mode": {
        "name": "ipython",
        "version": 3
      },
      "file_extension": ".py",
      "mimetype": "text/x-python",
      "name": "python",
      "nbconvert_exporter": "python",
      "pygments_lexer": "ipython3",
      "version": "3.10.6"
    },
    "vscode": {
      "interpreter": {
        "hash": "e7370f93d1d0cde622a1f8e1c04877d8463912d04d973331ad4851f04de6915a"
      }
    }
  },
  "nbformat": 4,
  "nbformat_minor": 0
}
