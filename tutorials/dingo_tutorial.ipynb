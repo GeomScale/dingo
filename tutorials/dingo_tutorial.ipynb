{
  "cells": [
    {
      "cell_type": "markdown",
      "metadata": {
        "colab_type": "text",
        "id": "view-in-github"
      },
      "source": [
        "<a href=\"https://colab.research.google.com/github/GeomScale/dingo/blob/develop/tutorials/dingo_tutorial.ipynb\" target=\"_parent\"><img src=\"https://colab.research.google.com/assets/colab-badge.svg\" alt=\"Open In Colab\"/></a>"
      ]
    },
    {
      "cell_type": "markdown",
      "metadata": {
        "id": "XsGorJWn4Q6U"
      },
      "source": [
        "#  `dingo` : A python library for metabolic networks sampling and analysis"
      ]
    },
    {
      "cell_type": "markdown",
      "metadata": {
        "id": "04-ezSozK3QT"
      },
      "source": [
        "\n",
        "## About this Colab notebook "
      ]
    },
    {
      "cell_type": "markdown",
      "metadata": {
        "id": "-IBI5DoLMDCn"
      },
      "source": [
        "The aim of this notebook is to highlight the importance of metabolic networks analysis and the insight it may provide, as well as to demonstrate how to use the `dingo` Python library for the analysis of metabolic networks.  \n"
      ]
    },
    {
      "cell_type": "markdown",
      "metadata": {
        "id": "L-pK94S-GPYG"
      },
      "source": [
        "For your convenience, we suggest making a copy of the notebook on your Google Drive \n",
        "\n",
        "(`File > Save a copy in Drive`). \n",
        "\n",
        "This way you can change things on the notebook and make your own experiments as you like!"
      ]
    },
    {
      "cell_type": "markdown",
      "metadata": {
        "id": "zUpwu6ue1MEG"
      },
      "source": [
        "* The `&> /dev/null` in the end of a command is so you do not see all the messages returned when the command is executed.\n",
        "* The `%%capture` flag is so Google Colab does not print the output of the chunk of code in a cell. We have used it in some cases to avoid long warning messages. "
      ]
    },
    {
      "cell_type": "markdown",
      "metadata": {
        "id": "8CKAQaoN1ORJ"
      },
      "source": [
        "In case an error comes up when running a notebook's command, you may click \n",
        "\n",
        "`Runtime > Factory reset runtime` \n",
        "\n",
        "and run the notebook from scratch."
      ]
    },
    {
      "cell_type": "markdown",
      "metadata": {
        "id": "3MVGIeyfFItc"
      },
      "source": [
        "### Installation "
      ]
    },
    {
      "cell_type": "markdown",
      "metadata": {
        "id": "WrAMCM444ZIX"
      },
      "source": [
        "Regarding installation of `dingo`, you may either follow the instructions described above or those described on [GitHub](https://github.com/GeomScale/dingo). In the latter, we use the [`poetry`](https://github.com/GeomScale/dingo) tool for dependency management and packaging of Python packages.\n",
        "Here we don't. "
      ]
    },
    {
      "cell_type": "markdown",
      "metadata": {
        "id": "oDTOu161Fz_d"
      },
      "source": [
        "If you follow the instructions here, you need to remember that when working on a normal console (terminal) you will have to remove any `!` and `%` characters from the beginning of the following commands; these allow Google Colab to work as a terminal console. "
      ]
    },
    {
      "cell_type": "markdown",
      "metadata": {
        "id": "ADo6JEHHcQGc"
      },
      "source": [
        "**Requirements:**\n",
        "\n",
        "* a Unix-like environment, e.g Linux, MacOS etc.\n",
        "* a computer machine with at least 4GB of RAM; `dingo` requires about 4GB to compile "
      ]
    },
    {
      "cell_type": "markdown",
      "metadata": {
        "id": "7CwAe0jxD5aB"
      },
      "source": [
        "## Introduction"
      ]
    },
    {
      "cell_type": "markdown",
      "metadata": {
        "id": "nzzDw-EJKZpy"
      },
      "source": [
        "### Genome scale metabolic network reconstruction"
      ]
    },
    {
      "cell_type": "markdown",
      "metadata": {
        "id": "UdP-wtlwHdpZ"
      },
      "source": [
        "🧬 🧬 Over the last decades, vast amounts of data have been gathered mostly thanks to the High Throughput technologies developed. \n",
        "\n",
        "As a result, the complete sequencing of a bacterial (strain) **genome** is now considered trivial. \n",
        "\n",
        "Global efforts have lead to large databases supporting the **annotation** of the genes found in a genome."
      ]
    },
    {
      "cell_type": "markdown",
      "metadata": {
        "id": "H2UE0ORSS_sQ"
      },
      "source": [
        "<img src='https://drive.google.com/uc?id=1v-BnN3Rsnc8_UuLTUo2rwGvP9oUWvcYW' height=350>\n",
        "<img src='https://drive.google.com/uc?id=1D62Xxc_X5DRW5naMfY6rCyLm4v98FXMC' height=350>"
      ]
    },
    {
      "cell_type": "markdown",
      "metadata": {
        "id": "6ZG3nbgBN34k"
      },
      "source": [
        "From the genome annotation we can now get the **enzymes** and therefore, the **reactions** that potentially take place in our strain (along with their stoichiometry)."
      ]
    },
    {
      "cell_type": "markdown",
      "metadata": {
        "id": "ZwJEvcTfY_fC"
      },
      "source": [
        "<img src='https://drive.google.com/uc?id=1_vuamqeEzjvJMw5_hR4XuLnjj0KJn1x0' height=200 width=300>\n",
        "<img src='https://drive.google.com/uc?id=1sw7nCeVJQfIc6oiDCGvfKFIqXg_so3Eb' height=\"200\" width=250>"
      ]
    },
    {
      "cell_type": "markdown",
      "metadata": {
        "id": "hKPc6n9Xd5PK"
      },
      "source": [
        "And from the sum of the reactions present, along with their corresponding constraints, we can now get the metabolic network of the species. \n",
        "Thus, we have now software tools that enable automatic genome-scale reconstructions (e.g. [carveme](https://carveme.readthedocs.io/en/latest/))"
      ]
    },
    {
      "cell_type": "markdown",
      "metadata": {
        "id": "QWnL4ZQxOcTb"
      },
      "source": [
        "The corresponding metabolic model is the *mathematical representation* of what happens in the organism along with the interactions between it and its environment. Here is a toy example:"
      ]
    },
    {
      "cell_type": "markdown",
      "metadata": {
        "id": "l7YlhJjSPFRo"
      },
      "source": [
        "<img src='https://drive.google.com/uc?id=1x20oGpf8ACikdAR7lxAORNfw8QFPwCom'>"
      ]
    },
    {
      "cell_type": "markdown",
      "metadata": {
        "id": "8V56ZZCY7aic"
      },
      "source": [
        "And here is what metabolic networks allow us to see! "
      ]
    },
    {
      "cell_type": "code",
      "execution_count": 33,
      "metadata": {
        "colab": {
          "base_uri": "https://localhost:8080/",
          "height": 357
        },
        "id": "G5m2-7t7fUkf",
        "outputId": "92a79a5d-ac6d-4732-ba7a-f6c4da7ad375"
      },
      "outputs": [
        {
          "data": {
            "text/html": [
              "<video width=\"40%\" height=\"25%\" loop autoplay><source src=\"https://gibbons-lab.github.io/isb_course_2020/micom/assets/fluxes.mp4\" type=\"video/mp4\"></video>"
            ],
            "text/plain": [
              "<IPython.core.display.HTML object>"
            ]
          },
          "execution_count": 33,
          "metadata": {},
          "output_type": "execute_result"
        }
      ],
      "source": [
        "#@title Pathway reactions fluxes representation{ display-mode: \"form\" }\n",
        "from IPython.display import HTML\n",
        "HTML('<video width=\"40%\" height=\"25%\" loop autoplay><source src=\"https://gibbons-lab.github.io/isb_course_2020/micom/assets/fluxes.mp4\" type=\"video/mp4\"></video>')\n",
        "\n"
      ]
    },
    {
      "cell_type": "markdown",
      "metadata": {
        "id": "nKY2gxKcf_zg"
      },
      "source": [
        "This GIF is from a [presentation](https://gibbons-lab.github.io/isb_course_2020/micom/) from Christian Diener at Gibbons Lab!\n",
        "  🤓 "
      ]
    },
    {
      "cell_type": "markdown",
      "metadata": {
        "id": "DrikcKuf7hjt"
      },
      "source": [
        "### Metabolic networks analysis"
      ]
    },
    {
      "cell_type": "markdown",
      "metadata": {
        "id": "N5elFWq-7q6p"
      },
      "source": [
        "Now that we do have a metabolic model, the question is *how could someone investigate its properties?*"
      ]
    },
    {
      "cell_type": "markdown",
      "metadata": {
        "id": "v8cgveHyHdmq"
      },
      "source": [
        "So, from each metabolic model we can get a stoichiometric matrix ($S$) of the reactions that take place in the organism along with their corresponding constraints. \n",
        "As you can guess, $S$ is nothing but a matrix with $m$ metabolites and $n$ reactions!"
      ]
    },
    {
      "cell_type": "markdown",
      "metadata": {
        "id": "e4rCPCwghY_6"
      },
      "source": [
        "$S_{m,n} =\n",
        " \\begin{pmatrix}\n",
        "  a_{1,1} & a_{1,2} & \\cdots & a_{1,n} \\\\\n",
        "  a_{2,1} & a_{2,2} & \\cdots & a_{2,n} \\\\\n",
        "  \\vdots  & \\vdots  & \\ddots & \\vdots  \\\\\n",
        "  a_{m,1} & a_{m,2} & \\cdots & a_{m,n}\n",
        " \\end{pmatrix}$"
      ]
    },
    {
      "cell_type": "markdown",
      "metadata": {
        "id": "BSXWJ5U8hdUK"
      },
      "source": [
        "Where each line is a **metabolite** and each column a **reaction**. "
      ]
    },
    {
      "cell_type": "markdown",
      "metadata": {
        "id": "K5-JGM6jeend"
      },
      "source": [
        "Considering our system is at steady state, the flux through each reaction is given by the following equation: \n",
        "\n",
        "$Sv = 0$ \n",
        "\n",
        "which defines a system of linear equations. "
      ]
    },
    {
      "cell_type": "markdown",
      "metadata": {
        "id": "y76vXL78oEKP"
      },
      "source": [
        "The solution space for that system is a **polytope**; a geometric object with \"flat\" sides that lives in a large number of dimensions. \n",
        "\n",
        "<img src=\"https://drive.google.com/uc?id=1CF_XbO5w89E6hXDXotNuApQXylfWRW5P\" height=350>\n"
      ]
    },
    {
      "cell_type": "markdown",
      "metadata": {
        "id": "n6NZrAVttexG"
      },
      "source": [
        "**Flux Balance Analysis (FBA)** is commonly used to identify an optimal flux distribution by optimizing a linear objective function; e.g the biomass value of the organism. You may see more about FBA [here](https://www.nature.com/articles/nbt.1614/).\n",
        "\n",
        "\n",
        "<img src=\"https://drive.google.com/uc?id=1gxKIvpFOpfHdJ4YCA5OlMzDmgyEU72KU\">\n",
        "\n",
        "Figure from: [Libourel, I. G., & Shachar-Hill, Y.. Annu. Rev. Plant Biol. 59 (2008)](10.1146/annurev.arplant.58.032806.103822)\n"
      ]
    },
    {
      "cell_type": "markdown",
      "metadata": {
        "id": "Ywwrs7BOtkYY"
      },
      "source": [
        "**Flux Variability Analysis (FVA)** evaluates the minimum and maximum range of each reaction flux that can still satisfy the constraints of the metabolic model. \n",
        "\n",
        "To this end FVA uses a double linear programming problem, a maximization and a subsequent minimization for each reaction.\n",
        "\n",
        "<img src=\"https://drive.google.com/uc?id=1xL66uYMTxRvM4qjrqYbQhxGqrvOLn27z\" height=300>\n",
        "\n",
        "Figure by a presentation of [Lizbeth Hampton](https://slideplayer.com/slide/13509212/)."
      ]
    },
    {
      "cell_type": "markdown",
      "metadata": {
        "id": "3CvfTpQw44FT"
      },
      "source": [
        "Both FBA and FVA are biased methods as they require an objective function and they return either a single or a pair of flux values respectively. \n",
        "**Flux sampling** on the other hand is an unbiased method for metabolic network analysis, providing a thorough description of the potential values a flux might get, along with the probability to get it. "
      ]
    },
    {
      "cell_type": "markdown",
      "metadata": {
        "id": "meBkuCBUogRJ"
      },
      "source": [
        "Our goal is to perform **uniform sampling** on this solution space (also called **flux space**) to gain an unbiased overview of the model's global features but also to investigate how the model responses in various situations. "
      ]
    },
    {
      "cell_type": "markdown",
      "metadata": {
        "id": "CRPoqy2jpvIa"
      },
      "source": [
        "However, sampling can be a rather challenging task both from the computational and the geometical point of view. \n",
        "\n",
        "💪 To this end, `dingo` makes use of the [Multiphase Monte Carlo Sampling algorithm (MMCS)](https://drops.dagstuhl.de/opus/volltexte/2021/13798/pdf/lipics-vol189-socg2021-complete.pdf) developed by the [GeomScale Org.](https://geomscale.github.io/) too. \n",
        "\n",
        "💪 Our method splits sampling in phases and makes use of **rounding** steps; this way it is both efficient and returns high quality samples. \n",
        "\n",
        "\n",
        "<img src=\"https://drive.google.com/uc?id=1QsrAuRc3f7KpldevzqHy4I1-7y_Lx6Vn\">\n",
        "  "
      ]
    },
    {
      "cell_type": "markdown",
      "metadata": {
        "id": "2XOkRFcXsm6u"
      },
      "source": [
        "In addition, the MMCS algorithm uses an optimized variant of Billiard Walk with faster arithmetic complexity per step. \n",
        "\n",
        "Here is an example of how a new point is found. "
      ]
    },
    {
      "cell_type": "markdown",
      "metadata": {
        "id": "WX5_VagweffU"
      },
      "source": [
        "<img src=\"https://drive.google.com/uc?id=15M4J6qiJnFl7T-WgUTentVdyhoeN4_85\" height= 200>\n",
        "\n",
        "<img src=\"https://drive.google.com/uc?id=1ApFtNGqEpe3lWugJnbZ9SL4pGPnOD6zj\" height= 200>\n",
        "\n",
        "<img src=\"https://drive.google.com/uc?id=1adYF5SUZMDbFTrj0zet-kMeqFgsVqfWA\" height= 200>\n",
        "\n",
        "\n",
        "<img src=\"https://drive.google.com/uc?id=1v3zcJQ4Nj4jdUpKESDdmP-zrOBxGOJpf\" height= 200>\n",
        "\n",
        "<img src=\"https://drive.google.com/uc?id=1HU30rfJoC8nmrlv_Ibblmygh_ZL6KoHN\" height= 200>\n",
        "\n",
        "\n",
        "\n",
        "<img src=\"https://drive.google.com/uc?id=1MmuZgNMQajqSufiHRUgJh3x--L77jAd4\" height= 200>"
      ]
    },
    {
      "cell_type": "markdown",
      "metadata": {
        "id": "0pGWGH9Yefhx"
      },
      "source": [
        "Finally, the modular design of the method enables the use of any random walk.\n"
      ]
    },
    {
      "cell_type": "markdown",
      "metadata": {
        "id": "akAjYEubCrTY"
      },
      "source": [
        "-------------------------------------------------"
      ]
    },
    {
      "cell_type": "markdown",
      "metadata": {
        "id": "PqWGwdr9Cs-H"
      },
      "source": [
        "## Get and install *dingo*"
      ]
    },
    {
      "cell_type": "markdown",
      "metadata": {
        "id": "UkdSbnJQwJSm"
      },
      "source": [
        "Here we will see how to install `dingo` and all its dependencies manually. \n",
        "However, you can also install `dingo` via `poetry`; for more you may see [here](https://github.com/GeomScale/dingo)."
      ]
    },
    {
      "cell_type": "markdown",
      "metadata": {
        "id": "dqa089jFDXaH"
      },
      "source": [
        "Install the dependencies for PySPQR library; for Debian/Ubuntu Linux, run"
      ]
    },
    {
      "cell_type": "code",
      "execution_count": null,
      "metadata": {
        "id": "0eBtFIaIzZ66"
      },
      "outputs": [],
      "source": [
        "!apt-get install libsuitesparse-dev &> /dev/null\n",
        "!pip install sparseqr &> /dev/null\n",
        "!pip install Cython &> /dev/null"
      ]
    },
    {
      "cell_type": "markdown",
      "metadata": {
        "id": "yYqOnx7_4ZRN"
      },
      "source": [
        "Get the `dingo` repo."
      ]
    },
    {
      "cell_type": "code",
      "execution_count": 43,
      "metadata": {
        "colab": {
          "base_uri": "https://localhost:8080/"
        },
        "id": "A6Mcqrqt3_Sa",
        "outputId": "a1f1a4e7-9acb-44b3-f168-c28192f04180"
      },
      "outputs": [
        {
          "name": "stdout",
          "output_type": "stream",
          "text": [
            "Cloning into 'dingo'...\n",
            "remote: Enumerating objects: 212, done.\u001b[K\n",
            "remote: Counting objects: 100% (7/7), done.\u001b[K\n",
            "remote: Compressing objects: 100% (6/6), done.\u001b[K\n",
            "remote: Total 212 (delta 1), reused 4 (delta 1), pack-reused 205\u001b[K\n",
            "Receiving objects: 100% (212/212), 512.96 KiB | 2.34 MiB/s, done.\n",
            "Resolving deltas: 100% (98/98), done.\n"
          ]
        }
      ],
      "source": [
        "!git clone https://github.com/GeomScale/dingo.git"
      ]
    },
    {
      "cell_type": "markdown",
      "metadata": {
        "id": "qePKvNyVFrHG"
      },
      "source": [
        "To load the submodules that `dingo` uses, run:"
      ]
    },
    {
      "cell_type": "code",
      "execution_count": null,
      "metadata": {
        "colab": {
          "base_uri": "https://localhost:8080/"
        },
        "id": "n-zpDmAy9V-8",
        "outputId": "c3587cfd-2462-44ed-91fc-ece5c585f71c"
      },
      "outputs": [],
      "source": [
        "%cd dingo/\n",
        "!git submodule update --init"
      ]
    },
    {
      "cell_type": "markdown",
      "metadata": {
        "id": "jb6XxVcbF0h3"
      },
      "source": [
        "Then, download and unzip the `boost` library:"
      ]
    },
    {
      "cell_type": "code",
      "execution_count": null,
      "metadata": {
        "id": "vkjI-YD69dkw"
      },
      "outputs": [],
      "source": [
        "!wget -O boost_1_76_0.tar.bz2 https://boostorg.jfrog.io/artifactory/main/release/1.76.0/source/boost_1_76_0.tar.bz2 &> /dev/null\n",
        "!tar xjf boost_1_76_0.tar.bz2 &> /dev/null\n",
        "!rm boost_1_76_0.tar.bz2 &> /dev/null"
      ]
    },
    {
      "cell_type": "markdown",
      "metadata": {
        "id": "RK_xgnsYAfOr"
      },
      "source": [
        "Install `dingo`"
      ]
    },
    {
      "cell_type": "markdown",
      "metadata": {
        "id": "Gu9E7fidgjnW"
      },
      "source": [
        "The following command will install `dingo` and it will take a while to compile. \n",
        "\n",
        "Remember that about 4GB of RAM are required to do so. "
      ]
    },
    {
      "cell_type": "code",
      "execution_count": null,
      "metadata": {
        "colab": {
          "base_uri": "https://localhost:8080/"
        },
        "id": "hMNc6tbiwhG1",
        "outputId": "ada3f6cc-c938-4afb-d08a-479972d29258"
      },
      "outputs": [
        {
          "name": "stdout",
          "output_type": "stream",
          "text": [
            "dingo is ready to go!\n"
          ]
        }
      ],
      "source": [
        "!python setup.py install --user &> /dev/null\n",
        "print('dingo is ready to go!')"
      ]
    },
    {
      "cell_type": "markdown",
      "metadata": {
        "id": "PLCBCsYiGEXz"
      },
      "source": [
        "We have made some tests for you so you can make sure `dingo` has been installed properly.\n",
        "\n",
        "You may have a look at these [test files](https://github.com/GeomScale/dingo/tree/develop/tests) so you can run `dingo` from your terminal."
      ]
    },
    {
      "cell_type": "code",
      "execution_count": 2,
      "metadata": {
        "id": "f7q8A5TDxtOS"
      },
      "outputs": [],
      "source": [
        "%%capture\n",
        "!python -m unittest discover tests \"*.py\""
      ]
    },
    {
      "cell_type": "markdown",
      "metadata": {
        "id": "rWJ00dGySfol"
      },
      "source": [
        "If you look at the output of that command, you should see that every test passed, with the possible exception of `fast_implementation_test` if you haven't installed Gurobi.\n",
        "\n",
        "To make that test pass, and, as a bonus, allow `dingo` to perform optimally, get the solver by running:\n",
        "\n",
        "`\n",
        "pip3 install -i https://pypi.gurobi.com gurobipy\n",
        "`\n",
        "\n",
        "and download a (academic) [license](https://www.gurobi.com/downloads/end-user-license-agreement-academic/). "
      ]
    },
    {
      "cell_type": "markdown",
      "metadata": {
        "id": "iwZEvB6tC6jc"
      },
      "source": [
        "--------------------------------------------------------------------------"
      ]
    },
    {
      "cell_type": "markdown",
      "metadata": {
        "id": "rLfOQgaQuULC"
      },
      "source": [
        "The following command is to make Colab have access to the `dingo` library that was just compiled. \n",
        "There will probably be **no need for you to do this**. \n",
        "In case Python does not find `dingo`, just check the \n",
        "semifinal line of the compilation step, in this case:\n",
        "\n",
        "`Writing /root/.local/lib/python3.7/site-packages/dingo-0.1.0.egg-info`\n",
        "\n",
        "This is the path where `dingo` was compiled. "
      ]
    },
    {
      "cell_type": "code",
      "execution_count": 6,
      "metadata": {
        "id": "ojsTmKVZYocZ"
      },
      "outputs": [],
      "source": [
        "import sys\n",
        "_ = (sys.path.append(\"/root/.local/lib/python3.7/site-packages/\"))"
      ]
    },
    {
      "cell_type": "markdown",
      "metadata": {
        "id": "Ua5lGNc8C8QE"
      },
      "source": [
        "-------------------------------------------------------------------------------"
      ]
    },
    {
      "cell_type": "markdown",
      "metadata": {
        "id": "2dtcobmYQOWp"
      },
      "source": [
        "## Run `dingo` to analyse your metabolic network"
      ]
    },
    {
      "cell_type": "markdown",
      "metadata": {
        "id": "AiFwL4lRugVC"
      },
      "source": [
        "Now we know that our Python console has been installed fine, we may import `dingo`! "
      ]
    },
    {
      "cell_type": "code",
      "execution_count": 1,
      "metadata": {
        "id": "FahzUpQFommK"
      },
      "outputs": [],
      "source": [
        "import dingo"
      ]
    },
    {
      "cell_type": "markdown",
      "metadata": {
        "id": "AzFd-qTWryBW"
      },
      "source": [
        "Let us now have a look at how we can use `dingo`"
      ]
    },
    {
      "cell_type": "markdown",
      "metadata": {
        "id": "Hdx3hl-aw6sF"
      },
      "source": [
        "The `ess` stands for the effective sample size (ESS) (default value is `1000`) and the `psrf` is a flag to request an upper bound equal to `1.1` for the value of the *potential scale reduction factor* (PSRF) of each marginal flux (default option is `False`)."
      ]
    },
    {
      "cell_type": "code",
      "execution_count": 3,
      "metadata": {
        "id": "ppBskvLpr22w"
      },
      "outputs": [],
      "source": [
        "from dingo import MetabolicNetwork\n",
        "model = MetabolicNetwork.from_json('ext_data/e_coli_core.json')"
      ]
    },
    {
      "cell_type": "markdown",
      "metadata": {
        "id": "8BU8YYL9PC-z"
      },
      "source": [
        "Let's see what the model comprises. "
      ]
    },
    {
      "cell_type": "markdown",
      "metadata": {
        "id": "jxLug5xuPMcB"
      },
      "source": [
        "First of all, let's see the metabolites ($m$) included in our model. \n",
        "Here is the first 10 of them. "
      ]
    },
    {
      "cell_type": "code",
      "execution_count": 4,
      "metadata": {
        "colab": {
          "base_uri": "https://localhost:8080/"
        },
        "id": "_1r63O_AXzTO",
        "outputId": "ed5bce3b-9431-4df7-d360-9ee0e73d33dd"
      },
      "outputs": [
        {
          "name": "stdout",
          "output_type": "stream",
          "text": [
            "Number of metabolites in my model:  72\n",
            "Here are the first 10 metabolites in your model:  ['adp_c', 'atp_c', 'f6p_c', 'fdp_c', 'h_c', 'accoa_c', 'coa_c', 'for_c', 'pyr_c']\n"
          ]
        }
      ],
      "source": [
        "print('Number of metabolites in my model: ', len(model.metabolites))\n",
        "print('Here are the first 10 metabolites in your model: ', model.metabolites[:9])"
      ]
    },
    {
      "cell_type": "markdown",
      "metadata": {
        "id": "sxaWOTJ-Paoq"
      },
      "source": [
        "And now, let us have a look in the reactions ($n$) that occur. \n",
        "Again, here is the first 10 reactions. "
      ]
    },
    {
      "cell_type": "code",
      "execution_count": 5,
      "metadata": {
        "colab": {
          "base_uri": "https://localhost:8080/"
        },
        "id": "oEYN_hbeXjpy",
        "outputId": "c74f2ff7-f358-43c6-c4cf-2e654fdd4db4"
      },
      "outputs": [
        {
          "name": "stdout",
          "output_type": "stream",
          "text": [
            "Number of reactions in my model:  95\n",
            "Here are the first 10 reactions in your model:  ['PFK', 'PFL', 'PGI', 'PGK', 'PGL', 'ACALD', 'AKGt2r', 'PGM', 'PIt2r']\n"
          ]
        }
      ],
      "source": [
        "print('Number of reactions in my model: ', len(model.reactions))\n",
        "print('Here are the first 10 reactions in your model: ', model.reactions[:9])"
      ]
    },
    {
      "cell_type": "markdown",
      "metadata": {
        "id": "qZk9H2aBPrFj"
      },
      "source": [
        "Moreover, let us see the stoichiometrix matrix ($S$) of our model."
      ]
    },
    {
      "cell_type": "code",
      "execution_count": 6,
      "metadata": {
        "colab": {
          "base_uri": "https://localhost:8080/"
        },
        "id": "DurJhomTPzO1",
        "outputId": "9f8de1cc-0a17-4070-e449-1e468a456ac9"
      },
      "outputs": [
        {
          "data": {
            "text/plain": [
              "array([[ 1.,  0.,  0., ...,  0.,  0.,  0.],\n",
              "       [-1.,  0.,  0., ...,  0.,  0.,  0.],\n",
              "       [-1.,  0.,  1., ...,  0.,  0.,  0.],\n",
              "       ...,\n",
              "       [ 0.,  0.,  0., ...,  0.,  0.,  0.],\n",
              "       [ 0.,  0.,  0., ...,  1.,  0.,  0.],\n",
              "       [ 0.,  0.,  0., ...,  0.,  0.,  0.]])"
            ]
          },
          "execution_count": 6,
          "metadata": {},
          "output_type": "execute_result"
        }
      ],
      "source": [
        "model.S"
      ]
    },
    {
      "cell_type": "markdown",
      "metadata": {
        "id": "wHkrYqfTemnW"
      },
      "source": [
        "And its dimensions are of course $m*n$."
      ]
    },
    {
      "cell_type": "code",
      "execution_count": 7,
      "metadata": {
        "colab": {
          "base_uri": "https://localhost:8080/"
        },
        "id": "Tl52cmuaenlY",
        "outputId": "56c6abb2-cad6-4e3e-e1ba-37e6b581fae2"
      },
      "outputs": [
        {
          "data": {
            "text/plain": [
              "(72, 95)"
            ]
          },
          "execution_count": 7,
          "metadata": {},
          "output_type": "execute_result"
        }
      ],
      "source": [
        "model.S.shape"
      ]
    },
    {
      "cell_type": "markdown",
      "metadata": {
        "id": "nsGLu7c0d3Ra"
      },
      "source": [
        "Last but not least, let us have a look at the **biomass** or **objective function** of our model. "
      ]
    },
    {
      "cell_type": "code",
      "execution_count": 8,
      "metadata": {
        "colab": {
          "base_uri": "https://localhost:8080/"
        },
        "id": "hpnbfsBVeCFK",
        "outputId": "4b190abb-6bcf-4c33-ebab-869fef66d33c"
      },
      "outputs": [
        {
          "data": {
            "text/plain": [
              "array([0., 0., 0., 0., 0., 0., 0., 0., 0., 0., 0., 0., 0., 0., 0., 0., 0.,\n",
              "       0., 0., 0., 0., 0., 0., 0., 1., 0., 0., 0., 0., 0., 0., 0., 0., 0.,\n",
              "       0., 0., 0., 0., 0., 0., 0., 0., 0., 0., 0., 0., 0., 0., 0., 0., 0.,\n",
              "       0., 0., 0., 0., 0., 0., 0., 0., 0., 0., 0., 0., 0., 0., 0., 0., 0.,\n",
              "       0., 0., 0., 0., 0., 0., 0., 0., 0., 0., 0., 0., 0., 0., 0., 0., 0.,\n",
              "       0., 0., 0., 0., 0., 0., 0., 0., 0., 0.])"
            ]
          },
          "execution_count": 8,
          "metadata": {},
          "output_type": "execute_result"
        }
      ],
      "source": [
        "model.biomass_function"
      ]
    },
    {
      "cell_type": "markdown",
      "metadata": {
        "id": "MLXZt3umeGJm"
      },
      "source": [
        "As you can see, this array has only a single `1` in index `24`.\n",
        "Let's see which function is this. "
      ]
    },
    {
      "cell_type": "code",
      "execution_count": 9,
      "metadata": {
        "colab": {
          "base_uri": "https://localhost:8080/",
          "height": 35
        },
        "id": "-04jUh1veQNt",
        "outputId": "30122bce-5847-4e7f-a82c-94c7f1109bd4"
      },
      "outputs": [
        {
          "data": {
            "text/plain": [
              "'BIOMASS_Ecoli_core_w_GAM'"
            ]
          },
          "execution_count": 9,
          "metadata": {},
          "output_type": "execute_result"
        }
      ],
      "source": [
        "model.reactions[24]"
      ]
    },
    {
      "cell_type": "markdown",
      "metadata": {
        "id": "dLi2HZWTjS0e"
      },
      "source": [
        "Ok, so what exactly is the biomass function? 🤔 \n",
        "\n",
        "Let's print the `24` column of our $S$ matrix to see what we have there."
      ]
    },
    {
      "cell_type": "code",
      "execution_count": 10,
      "metadata": {
        "id": "1c93OKZ7eUPX"
      },
      "outputs": [
        {
          "data": {
            "text/plain": [
              "array([ 59.81  , -59.81  ,  -0.0709,   0.    ,  59.81  ,  -3.7478,\n",
              "         3.7478,   0.    ,  -2.8328,  -0.205 ,   0.    ,  -1.496 ,\n",
              "         0.    ,   0.    , -59.81  ,   0.    ,  -3.547 ,   3.547 ,\n",
              "         4.1182,   0.    ,   0.    ,   0.    ,  59.81  ,   0.    ,\n",
              "         0.    ,   0.    ,   0.    ,   0.    ,   0.    ,  -1.7867,\n",
              "        -0.5191,   0.    ,   0.    ,   0.    ,   0.    ,   0.    ,\n",
              "         0.    ,  -0.361 ,  -0.129 ,  -0.2557,  -4.9414,  13.0279,\n",
              "       -13.0279,  -0.8977,   0.    ,   0.    ,   0.    ,   0.    ,\n",
              "         0.    ,   0.    ,   0.    ,   0.    ,   0.    ,   0.    ,\n",
              "         0.    ,   0.    ,   0.    ,   0.    ,   0.    ,   0.    ,\n",
              "         0.    ,   0.    ,   0.    ,   0.    ,   0.    ,   0.    ,\n",
              "         0.    ,   0.    ,   0.    ,   0.    ,   0.    ,   0.    ])"
            ]
          },
          "execution_count": 10,
          "metadata": {},
          "output_type": "execute_result"
        }
      ],
      "source": [
        "# We import numpy and set the threshold parameter to max to enable the display of all the elements of the array\n",
        "import numpy\n",
        "numpy.set_printoptions(threshold=sys.maxsize)\n",
        "model.S[:,24]"
      ]
    },
    {
      "cell_type": "markdown",
      "metadata": {
        "id": "iJa3YQr7jq2-"
      },
      "source": [
        "And just to make sure, let's print the length of this array too. "
      ]
    },
    {
      "cell_type": "code",
      "execution_count": 11,
      "metadata": {
        "colab": {
          "base_uri": "https://localhost:8080/"
        },
        "id": "wFTLZewLiAH-",
        "outputId": "eddc1adb-461f-4b27-ac2c-6e9a48567d38"
      },
      "outputs": [
        {
          "data": {
            "text/plain": [
              "(72,)"
            ]
          },
          "execution_count": 11,
          "metadata": {},
          "output_type": "execute_result"
        }
      ],
      "source": [
        "model.S[:,24].shape"
      ]
    },
    {
      "cell_type": "markdown",
      "metadata": {
        "id": "6TlgVCJijyCO"
      },
      "source": [
        "As expected, the length of the biomass array equals to the number of the metabolites of our model. "
      ]
    },
    {
      "cell_type": "code",
      "execution_count": 12,
      "metadata": {
        "colab": {
          "base_uri": "https://localhost:8080/"
        },
        "id": "EjD7uBgfhYu0",
        "outputId": "91ef3109-04d5-4734-dcf4-6cc4578f4f58"
      },
      "outputs": [
        {
          "data": {
            "text/plain": [
              "72"
            ]
          },
          "execution_count": 12,
          "metadata": {},
          "output_type": "execute_result"
        }
      ],
      "source": [
        "len(model.metabolites)"
      ]
    },
    {
      "cell_type": "markdown",
      "metadata": {
        "id": "Pq0IOSSdkECR"
      },
      "source": [
        "Moreover, you need to remember that the indexes of those 2 arrays are in order, meaning that the actual biomass function would be as follows:"
      ]
    },
    {
      "cell_type": "markdown",
      "metadata": {
        "id": "oQ6GhgTblIND"
      },
      "source": [
        "$ 59.81*adp\\_c - 59.81*atp\\_c -0.0709*f6p\\_c + ...  -0.8977*r5p\\_c$"
      ]
    },
    {
      "cell_type": "markdown",
      "metadata": {
        "id": "NmVjo47VP8xj"
      },
      "source": [
        "You can also have a look at the `dingo` related parameters of the model you just built."
      ]
    },
    {
      "cell_type": "code",
      "execution_count": 13,
      "metadata": {
        "colab": {
          "base_uri": "https://localhost:8080/"
        },
        "id": "NuVrc64WYJbJ",
        "outputId": "4c275328-795d-4b83-9d53-f5524b325fec"
      },
      "outputs": [
        {
          "data": {
            "text/plain": [
              "{'opt_percentage': 100,\n",
              " 'distribution': 'uniform',\n",
              " 'nullspace_method': 'sparseQR',\n",
              " 'fast_computations': False}"
            ]
          },
          "execution_count": 13,
          "metadata": {},
          "output_type": "execute_result"
        }
      ],
      "source": [
        "model.parameters"
      ]
    },
    {
      "cell_type": "markdown",
      "metadata": {
        "id": "Bzol1NZmTAco"
      },
      "source": [
        "### Run `dingo` to sample the flux space of your model"
      ]
    },
    {
      "cell_type": "markdown",
      "metadata": {
        "id": "gH3q_ImwT8H_"
      },
      "source": [
        "Once your `model` is set, you can go sampling using the [`PolytopeSampler`](https://github.com/GeomScale/dingo/blob/a76b4be22f33feac86dff38746c7f2706afb2b67/dingo/PolytopeSampler.py#L28) class of `dingo`. \n",
        "\n",
        "So, you first build an instance of this class based on your `model`"
      ]
    },
    {
      "cell_type": "code",
      "execution_count": 14,
      "metadata": {
        "id": "HHXSrEelXh4o"
      },
      "outputs": [],
      "source": [
        "from dingo import PolytopeSampler\n",
        "sampler = PolytopeSampler(model)"
      ]
    },
    {
      "cell_type": "markdown",
      "metadata": {
        "id": "ALKDxEMXUVgk"
      },
      "source": [
        "and then you call its `generate_steady_states` method. "
      ]
    },
    {
      "cell_type": "markdown",
      "metadata": {
        "id": "TqJZftR1kMgC"
      },
      "source": [
        "The [`generate_steady_states`](https://github.com/GeomScale/dingo/blob/a76b4be22f33feac86dff38746c7f2706afb2b67/dingo/PolytopeSampler.py#L119) method can be used with no arguments, i.e.\n",
        "\n",
        "`steady_states = sampler.generate_steady_states()`\n",
        "\n",
        "In the command we run in the following cell though, we use both the two parameters the method can get: \n",
        "\n",
        "* the **effective sample size (ESS)** asked (by default `ESS = 1000`). ESS is the number of effectively independent draws from the posterior distribution that the Markov chain is equivalent to.\n",
        " \n",
        "* the **Potential Scale Reduction Factor (PSRF)** of each marginal flux to  \n",
        " get an upper bound equal to 1.1 (by default that is set as `False`)"
      ]
    },
    {
      "cell_type": "code",
      "execution_count": 15,
      "metadata": {
        "id": "0y_TOtcGUmAW"
      },
      "outputs": [
        {
          "name": "stdout",
          "output_type": "stream",
          "text": [
            "phase 1: number of correlated samples = 500, effective sample size = 4, ratio of the maximum singilar value over the minimum singular value = 1729.7\n",
            "phase 2: number of correlated samples = 500, effective sample size = 3, ratio of the maximum singilar value over the minimum singular value = 475.262\n",
            "phase 3: number of correlated samples = 500, effective sample size = 125, ratio of the maximum singilar value over the minimum singular value = 2.3556\n",
            "phase 4: number of correlated samples = 1900, effective sample size = 940\n",
            "[4]total ess 1072: number of correlated samples = 3400\n",
            "\n",
            "\n"
          ]
        },
        {
          "name": "stderr",
          "output_type": "stream",
          "text": [
            "[4]maximum marginal PSRF: 1.00098\n"
          ]
        }
      ],
      "source": [
        "%%capture\n",
        "steady_states = sampler.generate_steady_states(ess = 1000, psrf = True) # this took a little bit more than 5 minutes"
      ]
    },
    {
      "cell_type": "markdown",
      "metadata": {
        "id": "gy25rKbHUsVS"
      },
      "source": [
        "Now that we have our samples, let's have a closer look at some of them!\n",
        "\n",
        "What we actually did is that we computed a great number of values of the flux of each reaction given that our system is always at a steady state. \n",
        "\n",
        "That means that we now have a **flux distribution** (all the values computed for the flux of a specific reaction) for each reaction of our model!"
      ]
    },
    {
      "cell_type": "markdown",
      "metadata": {
        "id": "P-qbALhEY7lu"
      },
      "source": [
        "Obviously, we have as many flux distributions as the reactions of our model:"
      ]
    },
    {
      "cell_type": "code",
      "execution_count": 16,
      "metadata": {
        "colab": {
          "base_uri": "https://localhost:8080/"
        },
        "id": "5F1MNZZHZCU0",
        "outputId": "a312c4e9-5279-41d1-8638-7d0426679b15"
      },
      "outputs": [
        {
          "name": "stdout",
          "output_type": "stream",
          "text": [
            "Number of reactions in my model:  95\n",
            "Number of flux distributions sampled:  95\n"
          ]
        }
      ],
      "source": [
        "print('Number of reactions in my model: ', len(model.reactions))\n",
        "print('Number of flux distributions sampled: ', steady_states.shape[0])"
      ]
    },
    {
      "cell_type": "markdown",
      "metadata": {
        "id": "MOG6YGueZzpO"
      },
      "source": [
        "And each flux distribution has as many flux values as `dingo` required to reach the ESS asked. "
      ]
    },
    {
      "cell_type": "code",
      "execution_count": 17,
      "metadata": {
        "id": "767f9ouRagU5"
      },
      "outputs": [
        {
          "name": "stdout",
          "output_type": "stream",
          "text": [
            "Number of flux values of the flux distributions returned:  3400\n"
          ]
        }
      ],
      "source": [
        "print('Number of flux values of the flux distributions returned: ', steady_states.shape[1])"
      ]
    },
    {
      "cell_type": "markdown",
      "metadata": {
        "id": "svc47hxNbo6L"
      },
      "source": [
        "Let us now assume that we are interested in a certain reaction of our model, for example the last reaction of the glycolysis which is catalyzed by the Pyruvate kinase (PYK) enzyme. \n",
        "\n",
        "We first need to look in the `model.reactions` list and find the index of the `PYK` reaction; the enzyme is usually the name of reaction. "
      ]
    },
    {
      "cell_type": "code",
      "execution_count": 18,
      "metadata": {
        "colab": {
          "base_uri": "https://localhost:8080/"
        },
        "id": "-im2Cgq5b3oS",
        "outputId": "a0b24427-8368-49b0-ef8a-40d6d5af0f61"
      },
      "outputs": [
        {
          "data": {
            "text/plain": [
              "23"
            ]
          },
          "execution_count": 18,
          "metadata": {},
          "output_type": "execute_result"
        }
      ],
      "source": [
        "model.reactions.index('PYK')"
      ]
    },
    {
      "cell_type": "markdown",
      "metadata": {
        "id": "k6uheDpHfiHq"
      },
      "source": [
        "Now that we know the index of the reaction of our interest, we can use the [`plot_histogram`](https://github.com/GeomScale/dingo/blob/a76b4be22f33feac86dff38746c7f2706afb2b67/dingo/utils.py#L177) function of `dingo` to plot its corresponding flux distribution. "
      ]
    },
    {
      "cell_type": "code",
      "execution_count": 19,
      "metadata": {
        "colab": {
          "base_uri": "https://localhost:8080/",
          "height": 467
        },
        "id": "-n2HKr82yKyh",
        "outputId": "b4d6e8ff-6f7e-4c45-a478-9f7208db57a9"
      },
      "outputs": [
        {
          "data": {
            "image/png": "[encoded data removed]",
            "text/plain": [
              "<Figure size 504x504 with 1 Axes>"
            ]
          },
          "metadata": {
            "needs_background": "light"
          },
          "output_type": "display_data"
        }
      ],
      "source": [
        "from dingo import plot_histogram\n",
        "\n",
        "reactions = model.reactions\n",
        "plot_histogram(\n",
        "        steady_states[23],  # here we set which reaction's flux we need to get \n",
        "        reactions[23],      # here we provide the name of the reaction\n",
        "        n_bins = 60,\n",
        ")"
      ]
    },
    {
      "cell_type": "markdown",
      "metadata": {
        "id": "jl7tJ-ObS6L3"
      },
      "source": [
        "From the flux distribution of PYK we can that most values fall between 1.7 and 1.9 and that it looks approximately normal, with a mean value at 1.775 mmol/gDW/h (millimoles per gram dry weight per hour).\n"
      ]
    },
    {
      "cell_type": "markdown",
      "metadata": {
        "id": "IFsATtLyl6ak"
      },
      "source": [
        "Applications of flux sampling can provide great insight in many ways. \n",
        "\n",
        "Based on the [iAB-AMØ-1410](https://doi.org/10.1038/msb.2010.68) genome-scale metabolic model of human alveolar macrophages and the SARS-CoV-2 virus biomass objective function (VBOF) they built, [Renz et al. (2020)](https://doi.org/10.1093/bioinformatics/btaa813) investigated for alterations in the metabolism to come up with potential antiviral targets. "
      ]
    },
    {
      "cell_type": "markdown",
      "metadata": {
        "id": "EgImVdw8sFk_"
      },
      "source": [
        "In line with the findings of Renz et al. (2020), flux sampling in the metabolic model built from the macrophage model and the VBOF using `dingo` indicates **guanylate kinase (GK1)** as a potential antiviral target. \n",
        "Flux sampling was perfored first with no objective function for the virus and then after maximizing the VBOF built by Renz et al. (2020). \n",
        "\n",
        "<img src=\"https://drive.google.com/uc?id=1IOdSscVP0HoTRctQuSCywgIXokUNE-_v\" height=400>\n",
        "\n"
      ]
    },
    {
      "cell_type": "markdown",
      "metadata": {
        "id": "ctpZFRndQGrb"
      },
      "source": [
        "### Run FBA with `dingo`"
      ]
    },
    {
      "cell_type": "markdown",
      "metadata": {
        "id": "uccGKr_hSJCM"
      },
      "source": [
        "Again, to perform FBA with `dingo`, you just need to call the according method ([`fba`](https://github.com/GeomScale/dingo/blob/a76b4be22f33feac86dff38746c7f2706afb2b67/dingo/MetabolicNetwork.py#L107)) of the `model` you built using the [`MetabolicNetwork`](https://github.com/GeomScale/dingo/blob/a76b4be22f33feac86dff38746c7f2706afb2b67/dingo/MetabolicNetwork.py#L21) class. \n",
        "\n",
        "FBA is a lot easier both from the computational and the geometical point of view and it takes much less time. "
      ]
    },
    {
      "cell_type": "code",
      "execution_count": 20,
      "metadata": {
        "id": "kWFbcJumShgh"
      },
      "outputs": [],
      "source": [
        "%%capture\n",
        "fba_output = model.fba()"
      ]
    },
    {
      "cell_type": "markdown",
      "metadata": {
        "id": "Ql-cIs8JxLuJ"
      },
      "source": [
        "As already mentioned, FBA identifies an **optimal** flux distribution by optimizing a linear **objective function**.\n",
        "\n",
        "So the output of FBA can be considered as a single sample of the flux sampling method described above. Thus, if we check on the output this time we will see that it has 2 attributes:\n",
        "* the **flux vector** (meaning the set of the reactions flux values in the same solution) which maximizes the objective function.\n",
        "* the **flux value** that the objective function achieves at the maximum"
      ]
    },
    {
      "cell_type": "code",
      "execution_count": 21,
      "metadata": {
        "id": "Nxk0qI0ISmOB"
      },
      "outputs": [
        {
          "name": "stdout",
          "output_type": "stream",
          "text": [
            "This is the optimal flux vector according to the biomass objective function:  [ 7.47738196e+00  2.61061012e-09  4.86086115e+00 -1.60235261e+01\n",
            "  4.95998494e+00 -2.37832865e-10 -1.21531230e-10 -1.47161396e+01\n",
            "  3.21489505e+00 -6.17546903e-10 -1.24828148e-10 -2.28737917e-10\n",
            "  2.50430948e+00  6.00724958e+00  6.00724958e+00  8.39000000e+00\n",
            "  1.88578149e-09 -4.66798156e-10  7.98572822e-10  7.78413778e-10\n",
            "  5.06437566e+00  4.55140098e+01 -4.93400876e-11  1.75817744e+00\n",
            "  8.73921507e-01 -1.46883394e-10 -2.28098333e+01  2.67848185e+00\n",
            "  6.00724958e+00 -2.28150309e+00  3.14926878e-09  4.35989853e+01\n",
            " -2.30329533e-10  1.47161396e+01  3.39986105e-09 -1.09355369e-09\n",
            "  5.02532184e+02 -5.06437566e+00  1.49698376e+00  3.82850289e-09\n",
            "  1.49698376e+00  1.18149809e+00  7.47738196e+00  2.29543566e-10\n",
            "  2.14940813e-10  2.22980563e-10  2.28098333e+01  5.84082610e-10\n",
            "  2.61214982e-09  1.38343383e-14  1.32597210e-14 -1.00000000e+01\n",
            "  9.10164212e-15  1.03044393e-10  1.75308654e+01  2.91758271e+01\n",
            "  3.12188089e-10  1.20269317e-14 -4.76531919e+00 -2.17994927e+01\n",
            " -3.21489505e+00  3.61314241e-10  2.50601869e-10  7.47738196e+00\n",
            "  1.00209506e-09  1.39489044e-08 -1.65622396e-08  4.97467808e+02\n",
            "  5.36595474e-15  5.06437566e+00  5.94057209e-15  4.95998494e+00\n",
            "  1.60235261e+01  1.00000000e+01  2.23461729e-01  1.00986510e-14\n",
            " -4.54185746e+00  4.41199983e-11  3.04000780e-11 -3.93811206e-10\n",
            "  4.95998494e+00 -2.91758271e+01  6.00724958e+00  9.04491711e-10\n",
            " -3.01497494e-10  9.04491711e-10  7.17336134e-15  5.06437566e+00\n",
            "  1.84331531e-09  2.33062620e-09  3.85346096e+01  2.73175322e-09\n",
            "  4.76531919e+00  2.17994927e+01  9.28253260e+00]\n",
            "----------\n",
            "This is the value of that optimal solution of the objective function:  0.8739215067366994\n"
          ]
        }
      ],
      "source": [
        "numpy.set_printoptions(threshold=None)\n",
        "\n",
        "max_biomass_flux_vector = fba_output[0]\n",
        "max_biomass_objective = fba_output[1]\n",
        "\n",
        "print('This is the optimal flux vector according to the biomass objective function: ', max_biomass_flux_vector)\n",
        "print('----------')\n",
        "print('This is the value of that optimal solution of the objective function: ', max_biomass_objective)"
      ]
    },
    {
      "cell_type": "markdown",
      "metadata": {
        "id": "rKBVhQI9SlbO"
      },
      "source": [
        "💪 Even it is quite common that the objective function is the biomass function of a model, **you can change your objective function** as you wish and use any reaction as your objective function.\n",
        "\n",
        "For example, to maximize the 1st reaction of the model, we first build an array with the number of reactions of our model with `0`s and then we set only its first elemet equal to `1`:"
      ]
    },
    {
      "cell_type": "code",
      "execution_count": 22,
      "metadata": {
        "id": "fdLlAbhA0Ylg"
      },
      "outputs": [],
      "source": [
        "import numpy as np\n",
        "n = model.num_of_reactions()\n",
        "obj_fun = np.zeros(n)\n",
        "obj_fun[0] = 1"
      ]
    },
    {
      "cell_type": "markdown",
      "metadata": {
        "id": "jWEhcWmJm1Qu"
      },
      "source": [
        "Now we can replace the `biomass_function` parameter of our model with our new objective function"
      ]
    },
    {
      "cell_type": "code",
      "execution_count": 23,
      "metadata": {
        "id": "jrASE_SS2Nst"
      },
      "outputs": [],
      "source": [
        "model.biomass_function = obj_fun"
      ]
    },
    {
      "cell_type": "markdown",
      "metadata": {
        "id": "YXt-5pFlnCcm"
      },
      "source": [
        "And if we now ask to see our new objective function: "
      ]
    },
    {
      "cell_type": "code",
      "execution_count": 24,
      "metadata": {
        "id": "Lf8jpTrU1dEr"
      },
      "outputs": [
        {
          "data": {
            "text/plain": [
              "array([1., 0., 0., 0., 0., 0., 0., 0., 0., 0., 0., 0., 0., 0., 0., 0., 0.,\n",
              "       0., 0., 0., 0., 0., 0., 0., 0., 0., 0., 0., 0., 0., 0., 0., 0., 0.,\n",
              "       0., 0., 0., 0., 0., 0., 0., 0., 0., 0., 0., 0., 0., 0., 0., 0., 0.,\n",
              "       0., 0., 0., 0., 0., 0., 0., 0., 0., 0., 0., 0., 0., 0., 0., 0., 0.,\n",
              "       0., 0., 0., 0., 0., 0., 0., 0., 0., 0., 0., 0., 0., 0., 0., 0., 0.,\n",
              "       0., 0., 0., 0., 0., 0., 0., 0., 0., 0.])"
            ]
          },
          "execution_count": 24,
          "metadata": {},
          "output_type": "execute_result"
        }
      ],
      "source": [
        "model.biomass_function"
      ]
    },
    {
      "cell_type": "markdown",
      "metadata": {
        "id": "_63UO5TqnMlp"
      },
      "source": [
        "You see that the `1` is now not in the `24` index but in the first. 🎉"
      ]
    },
    {
      "cell_type": "markdown",
      "metadata": {
        "id": "YTd07QyGnZwX"
      },
      "source": [
        "So if we run now a FBA here is what we will get. "
      ]
    },
    {
      "cell_type": "code",
      "execution_count": 25,
      "metadata": {
        "id": "f11M0AClnfhZ"
      },
      "outputs": [],
      "source": [
        "%%capture\n",
        "fba_output_new_obj = model.fba()"
      ]
    },
    {
      "cell_type": "code",
      "execution_count": 26,
      "metadata": {
        "id": "80op83f4noZK"
      },
      "outputs": [
        {
          "name": "stdout",
          "output_type": "stream",
          "text": [
            "This is the optimal flux vector according to my objective function:  [ 1.76609999e+02  8.45802920e-08  9.99999983e+00 -2.00000000e+01\n",
            "  1.27369426e-07 -5.85285989e-08 -4.44566695e-08 -2.00000000e+01\n",
            " -2.95295877e-08 -5.37268079e-08 -4.39526957e-08 -4.52805580e-08\n",
            "  6.91854979e-08  1.99999998e+01  1.99999998e+01  8.39000001e+00\n",
            "  2.67218421e-09 -4.52589575e-08  1.55310582e-08 -2.31774493e-08\n",
            "  1.99999998e+01  1.34999999e+02 -3.29224576e-08  9.99999989e+00\n",
            "  1.36307012e-09 -4.85997589e-08 -5.99999997e+01  4.52299673e-08\n",
            "  1.99999999e+01 -8.32709475e-08  5.29623166e-08  1.19999999e+02\n",
            " -4.69055976e-08  1.99999999e+01  5.94661422e-08 -5.29099680e-08\n",
            "  5.10000000e+02 -1.99999999e+01  2.21814389e-09  2.00437108e-08\n",
            "  3.34421202e-09  1.46621915e-09  9.99999991e+00  6.10338063e-09\n",
            "  4.88547130e-09  5.52021812e-09  5.99999996e+01  1.35697661e-08\n",
            "  8.46001018e-08  6.03059831e-11  5.77318542e-11 -1.00000000e+01\n",
            "  3.41232331e-11  2.50465332e-09  1.14233217e-07  5.99999997e+01\n",
            "  7.95937900e-09  5.17513413e-11 -4.83528311e-08 -5.99999998e+01\n",
            " -4.86520548e-08  9.88983995e-09  6.54291260e-09  9.99999991e+00\n",
            "  1.66609999e+02  2.56162158e-07 -3.79712219e-07  4.90000000e+02\n",
            "  1.78680142e-11  1.99999998e+01  2.04421431e-11  8.82045015e-08\n",
            "  1.99999999e+01  1.00000000e+01  7.63037868e-08  4.40507643e-11\n",
            " -4.98152986e-09  3.34927614e-08  4.25165337e-08 -4.12084091e-08\n",
            "  1.27369426e-07 -5.99999997e+01  1.99999998e+01  3.56439382e-08\n",
            " -4.61751597e-08  3.56439382e-08  2.64226561e-11  1.99999998e+01\n",
            "  6.80400249e-08  2.03091436e-08  9.99999996e+01  2.00000001e+01\n",
            " -2.97426368e-08  5.99999997e+01  1.99999999e+01]\n",
            "----------\n",
            "This is the value of that optimal solution of the new objective function:  176.6099987031807\n"
          ]
        }
      ],
      "source": [
        "max_biomass_flux_vector_new_obj = fba_output_new_obj[0]\n",
        "max_biomass_objective_new_obj = fba_output_new_obj[1]\n",
        "print('This is the optimal flux vector according to my objective function: ', max_biomass_flux_vector_new_obj)\n",
        "print('----------')\n",
        "print('This is the value of that optimal solution of the new objective function: ', max_biomass_objective_new_obj)"
      ]
    },
    {
      "cell_type": "markdown",
      "metadata": {
        "id": "b1ZAlpHY6Ifm"
      },
      "source": [
        "### Run FVA with `dingo` "
      ]
    },
    {
      "cell_type": "markdown",
      "metadata": {
        "id": "ex3H0OXtpGr1"
      },
      "source": [
        "As we said earlier, FVA gets the min and max value of each reaction flux that can still satisfy the constraints of the metabolic model.\n",
        "\n",
        "**Remember!** \n",
        "\n",
        "In the previous step, we replaced the `biomass_function` of our model. So if we run FVA in our current model, then the first reaction of our model "
      ]
    },
    {
      "cell_type": "code",
      "execution_count": 27,
      "metadata": {
        "id": "OaxWPyakpriX"
      },
      "outputs": [
        {
          "data": {
            "text/plain": [
              "'PFK'"
            ]
          },
          "execution_count": 27,
          "metadata": {},
          "output_type": "execute_result"
        }
      ],
      "source": [
        "model.reactions[0]"
      ]
    },
    {
      "cell_type": "markdown",
      "metadata": {
        "id": "qE-x4hitp4H-"
      },
      "source": [
        "will be used as the objective function!\n",
        "\n",
        "Let's run FVA using that; this will take a while 😉"
      ]
    },
    {
      "cell_type": "code",
      "execution_count": 28,
      "metadata": {
        "id": "AK5OdFU4yZZL"
      },
      "outputs": [],
      "source": [
        "%%capture\n",
        "# Run FVA\n",
        "fva_output = model.fva()\n",
        "\n",
        "# Get min and max flux values\n",
        "pfk_min_fluxes = fva_output[0]\n",
        "pfk_max_fluxes = fva_output[1]\n",
        "\n",
        "# Get the max flux distribution and the max biomass value when the objective function is maximum\n",
        "pfk_max_biomass_flux_vector = fva_output[2]\n",
        "pfk_max_biomass_objective = fva_output[3]"
      ]
    },
    {
      "cell_type": "markdown",
      "metadata": {
        "id": "qGVto8ckp7LS"
      },
      "source": [
        "We can go with that or if we need to go back in using the actual biomass function of our model, we can either do the same process as before to change again the `biomass_function` or we can just build a new instance of the `MetabolicNetwork` class. "
      ]
    },
    {
      "cell_type": "code",
      "execution_count": 29,
      "metadata": {
        "id": "Mk-CtSOJLWo8"
      },
      "outputs": [],
      "source": [
        "%%capture\n",
        "# Build new instance of the model\n",
        "new_model = MetabolicNetwork.from_json('ext_data/e_coli_core.json')\n",
        "\n",
        "# Run FVA\n",
        "fva_output = new_model.fva()\n",
        "\n",
        "# Get min and max flux values\n",
        "min_fluxes = fva_output[0]\n",
        "max_fluxes = fva_output[1]\n",
        "\n",
        "# Get the max flux distribution and the max biomass value when the objective function is maximum\n",
        "max_biomass_flux_vector = fva_output[2]\n",
        "max_biomass_objective = fva_output[3]"
      ]
    },
    {
      "cell_type": "markdown",
      "metadata": {
        "id": "UuztyngJ3tr_"
      },
      "source": [
        "Let's see how they're different!"
      ]
    },
    {
      "cell_type": "code",
      "execution_count": 30,
      "metadata": {
        "id": "SqkFPgCyQoHZ"
      },
      "outputs": [
        {
          "name": "stdout",
          "output_type": "stream",
          "text": [
            "This is the flux vector with the minimum values of each flux when the PFK reaction gets maximum:  [ 1.76609000e+02  0.00000000e+00 -1.00000000e+03 -1.00000000e+03\n",
            "  1.48061232e-12 -1.00000000e+03 -1.00000000e+03 -1.00000000e+03\n",
            " -1.00000000e+03 -1.00000000e+03 -1.00000000e+03 -1.00000000e+03\n",
            "  0.00000000e+00 -1.00000000e+03 -1.00000000e+03  8.39000000e+00\n",
            "  0.00000000e+00 -1.00000000e+03  0.00000000e+00 -1.00000000e+03\n",
            "  0.00000000e+00 -1.00000000e+03 -1.00000000e+03  0.00000000e+00\n",
            "  5.66497992e-10 -1.00000000e+03 -1.00000000e+03 -1.00000000e+03\n",
            "  0.00000000e+00  1.03433010e-05  1.42367859e-07  0.00000000e+00\n",
            " -1.00000000e+03 -1.00000000e+03  3.87689885e-11 -1.00000000e+03\n",
            "  0.00000000e+00 -1.00000000e+03 -1.00000000e+03  0.00000000e+00\n",
            " -1.00000000e+03 -1.00000000e+03 -1.00000000e+03  0.00000000e+00\n",
            "  0.00000000e+00  0.00000000e+00 -1.00000000e+03  0.00000000e+00\n",
            "  0.00000000e+00  0.00000000e+00  1.25051749e-14 -1.00000000e+01\n",
            "  0.00000000e+00  4.52871894e-09 -1.00000000e+03 -1.00000000e+03\n",
            "  1.23960037e-09  0.00000000e+00 -1.00000000e+03 -1.00000000e+03\n",
            " -1.00000000e+03  2.46991846e-08  1.20616300e-13 -1.00000000e+03\n",
            "  1.66608938e+02  0.00000000e+00 -1.00000000e+03  0.00000000e+00\n",
            "  2.07007414e-15 -1.00000000e+03  0.00000000e+00 -1.00000000e+03\n",
            " -1.00000000e+03  0.00000000e+00  0.00000000e+00  0.00000000e+00\n",
            " -1.00000000e+03  1.29326073e-12  8.01984492e-13 -1.00000000e+03\n",
            "  0.00000000e+00 -1.00000000e+03 -1.00000000e+03  0.00000000e+00\n",
            " -1.00000000e+03  0.00000000e+00  0.00000000e+00 -1.00000000e+03\n",
            "  0.00000000e+00  0.00000000e+00  0.00000000e+00  1.99989930e+01\n",
            " -1.00000000e+03 -1.00000000e+03  0.00000000e+00]\n",
            "This is the flux vector with the minimum values of each flux when the biomass function gets maximum:  [ 7.33949639e+00  1.67841968e-08  4.44464336e+00 -1.61766992e+01\n",
            "  4.50781220e+00 -2.67751168e-02 -1.50795068e-02 -1.48706911e+01\n",
            "  3.21150415e+00 -2.33489291e-02 -2.68080208e-02 -4.02120057e-02\n",
            "  1.77785205e+00  5.88146006e+00  5.88146018e+00  8.39000000e+00\n",
            "  5.33230287e-10 -4.02120154e-02  3.66328991e-10  4.26214262e-06\n",
            "  4.21576119e+00  4.51347196e+01  1.14375486e-05  1.57806829e+00\n",
            "  8.73000000e-01 -2.68080514e-02 -2.28490343e+01  2.37769613e+00\n",
            "  5.88146022e+00 -2.41964300e+00  2.64862847e-11  4.35186962e+01\n",
            " -2.26192578e-02  1.45811658e+01  2.76750932e-11 -2.33489108e-02\n",
            "  0.00000000e+00 -5.22910440e+00  1.34642521e+00  4.77247768e-11\n",
            "  1.34642517e+00  1.03127217e+00  7.33824767e+00  9.25482346e-10\n",
            "  1.83359337e-09  3.90239954e-12  2.27284122e+01  2.95792314e-12\n",
            "  3.25460819e-08  1.62509366e-14  7.24275923e-15 -1.00000000e+01\n",
            "  7.80973378e-16  1.24272379e-08  1.75123787e+01  2.90877339e+01\n",
            "  1.41319806e-08  3.38288107e-15 -4.77369808e+00 -2.18397804e+01\n",
            " -3.21489471e+00  7.09633505e-09  4.98246027e-09  7.33949645e+00\n",
            "  2.59810863e-10  1.26719353e-14 -7.22958983e-01  5.67986000e-10\n",
            "  7.72231792e-15  4.93958000e+00  8.23528596e-15  4.50781215e+00\n",
            "  1.58871738e+01  9.98994704e+00  2.23226100e-01  1.40436423e-14\n",
            " -4.55047205e+00  1.03250482e-10  1.90996209e-10 -1.34039883e-02\n",
            "  4.50781167e+00 -2.92083248e+01  5.15764093e+00  5.19531003e-10\n",
            " -2.26192602e-02  5.29407097e-10  1.19332148e-14  4.89132472e+00\n",
            "  3.05148960e-10  7.86610060e-11  3.84504561e+01  9.88737120e-10\n",
            "  4.76029409e+00  2.17593722e+01  9.15328987e+00]\n",
            "----------\n",
            "This is the flux vector with the maximum values of each flux when the PFK reaction gets maximum:  [ 1.00000000e+03  6.66649481e-04  1.00000000e+03  1.00000000e+03\n",
            "  1.00000000e+03  1.00000000e+03  1.00000000e+03  1.00000000e+03\n",
            "  1.00000000e+03  1.00000000e+03  1.00000000e+03  1.00000000e+03\n",
            "  6.33701368e-07  1.00000000e+03  1.00000000e+03  8.39100000e+00\n",
            "  1.00000221e-03  1.00000000e+03  1.00000000e+03  1.00000000e+03\n",
            "  1.00000000e+03  1.00000000e+03  1.00000000e+03  1.00010107e+01\n",
            "  1.00000000e+03  1.00000000e+03  1.00000000e+03  1.00000000e+03\n",
            "  1.00000000e+03  1.00000000e+03  1.33333333e-03  1.00000000e+03\n",
            "  1.00000000e+03  1.00000000e+03  1.00000000e+03  1.00000000e+03\n",
            "  1.00000000e+03  1.00000000e+03  1.00000000e+03  2.00000441e-03\n",
            "  5.11236101e-06  1.00000000e+03  1.00000000e+03  2.29407911e-04\n",
            "  6.00428697e-08  6.90372529e-08  1.00000000e+03  1.31345416e-04\n",
            "  6.66669486e-04  1.00000000e+03  1.00000000e+03 -1.00000000e+01\n",
            "  3.60348291e-09  2.49243953e-09  1.00000000e+03  1.00000000e+03\n",
            "  1.29032284e-04  1.00000000e+03  1.00000000e+03  1.00000000e+03\n",
            "  1.00000000e+03  4.23590713e-08  2.09685428e-08  1.00000000e+03\n",
            "  1.66609061e+02  4.00000076e-03  0.00000000e+00  1.00000000e+03\n",
            "  1.00000000e+03  1.00000000e+03  1.00000000e+03  1.00000000e+03\n",
            "  1.00000000e+03  9.99999991e+00  9.99999983e-04  1.00000000e+03\n",
            "  1.00000000e+03  9.99489562e-04  9.98956380e-04  1.00000000e+03\n",
            "  1.00000000e+03  1.00000000e+03  1.00000000e+03  1.00000000e+03\n",
            "  1.00000000e+03  9.99999804e-04  1.03340101e-08  1.00000000e+03\n",
            "  1.00000000e+03  1.00082827e-03  1.00000000e+03  2.00022279e+01\n",
            "  1.00000000e+03  1.00000000e+03  2.00010000e+01]\n",
            "This is the flux vector with the maximum values of each flux when the biomass function gets maximum:  [ 7.66521399e+00  1.20636049e-01  5.31322274e+00 -1.58871737e+01\n",
            "  5.37639165e+00 -2.01154307e-07 -1.04796300e-07 -1.45811658e+01\n",
            "  3.21489479e+00 -6.18730382e-08 -8.85961526e-10 -2.91846025e-05\n",
            "  2.74294113e+00  6.17098356e+00  6.17098360e+00  8.57095423e+00\n",
            "  1.80954220e-01 -2.84034498e-05  1.80954223e-01  1.80623962e-01\n",
            "  5.22910458e+00  4.57137752e+01  4.02120447e-02  2.35013944e+00\n",
            "  8.73921489e-01 -1.28127340e-08 -2.27284123e+01  2.95674863e+00\n",
            "  6.17098363e+00 -2.13011745e+00  2.41272314e-01  4.36795464e+01\n",
            " -2.33352466e-08  1.48706909e+01  2.41272333e-01 -8.32261549e-08\n",
            "  1.00000000e+03 -4.21576263e+00  1.63595078e+00  7.23817001e-01\n",
            "  1.63595587e+00  1.32079779e+00  7.62902181e+00  4.02120050e-02\n",
            "  2.68080112e-02  1.50795071e-02  2.28490297e+01  2.33489191e-02\n",
            "  1.20636054e-01  7.43034659e-15  6.58938846e-15 -9.98994704e+00\n",
            "  1.54446190e-15  1.34039862e-02  1.76330160e+01  2.92083063e+01\n",
            "  2.26192600e-02  3.68534210e-15 -4.76029531e+00 -2.17593747e+01\n",
            " -3.21150605e+00  2.68080388e-02  1.76540731e-02  7.62902185e+00\n",
            "  1.80954237e-01  7.23816953e-01 -6.79449386e-09  9.95060067e+02\n",
            "  3.14127325e-15  5.22910380e+00  8.53014356e-15  5.37639157e+00\n",
            "  1.61766990e+01  9.99999995e+00  4.04180347e-01  1.41796867e-14\n",
            " -4.35636002e+00  1.80954228e-01  1.80954220e-01 -1.96436076e-08\n",
            "  5.37639160e+00 -2.90877297e+01  6.17098514e+00  7.23816993e-01\n",
            " -2.51525307e-08  7.23816900e-01  1.20770954e-14  5.66339425e+00\n",
            "  1.80954240e-01  2.41272304e-01  3.87399661e+01  7.23817003e-01\n",
            "  4.77369804e+00  2.18397669e+01  9.87710504e+00]\n"
          ]
        }
      ],
      "source": [
        "print('This is the flux vector with the minimum values of each flux when the PFK reaction gets maximum: ', pfk_min_fluxes)\n",
        "print('This is the flux vector with the minimum values of each flux when the biomass function gets maximum: ', min_fluxes)\n",
        "\n",
        "print('----------')\n",
        "\n",
        "print('This is the flux vector with the maximum values of each flux when the PFK reaction gets maximum: ', pfk_max_fluxes)\n",
        "print('This is the flux vector with the maximum values of each flux when the biomass function gets maximum: ', max_fluxes)"
      ]
    },
    {
      "cell_type": "markdown",
      "metadata": {
        "id": "TS1Q31NLrdiU"
      },
      "source": [
        "Apparently (and obviously) they are quite different!\n",
        "\n",
        "The same thing is with the flux vector and the max biomass objective."
      ]
    },
    {
      "cell_type": "code",
      "execution_count": 31,
      "metadata": {
        "id": "MtJSpgIXrbpJ"
      },
      "outputs": [
        {
          "name": "stdout",
          "output_type": "stream",
          "text": [
            "This is the optimal flux vector according to the PFK reaction as objective function: \n",
            " [ 1.76609999e+02  8.45802920e-08  9.99999983e+00 -2.00000000e+01\n",
            "  1.27369426e-07 -5.85285989e-08 -4.44566695e-08 -2.00000000e+01\n",
            " -2.95295877e-08 -5.37268079e-08 -4.39526957e-08 -4.52805580e-08\n",
            "  6.91854979e-08  1.99999998e+01  1.99999998e+01  8.39000001e+00\n",
            "  2.67218421e-09 -4.52589575e-08  1.55310582e-08 -2.31774493e-08\n",
            "  1.99999998e+01  1.34999999e+02 -3.29224576e-08  9.99999989e+00\n",
            "  1.36307012e-09 -4.85997589e-08 -5.99999997e+01  4.52299673e-08\n",
            "  1.99999999e+01 -8.32709475e-08  5.29623166e-08  1.19999999e+02\n",
            " -4.69055976e-08  1.99999999e+01  5.94661422e-08 -5.29099680e-08\n",
            "  5.10000000e+02 -1.99999999e+01  2.21814389e-09  2.00437108e-08\n",
            "  3.34421202e-09  1.46621915e-09  9.99999991e+00  6.10338063e-09\n",
            "  4.88547130e-09  5.52021812e-09  5.99999996e+01  1.35697661e-08\n",
            "  8.46001018e-08  6.03059831e-11  5.77318542e-11 -1.00000000e+01\n",
            "  3.41232331e-11  2.50465332e-09  1.14233217e-07  5.99999997e+01\n",
            "  7.95937900e-09  5.17513413e-11 -4.83528311e-08 -5.99999998e+01\n",
            " -4.86520548e-08  9.88983995e-09  6.54291260e-09  9.99999991e+00\n",
            "  1.66609999e+02  2.56162158e-07 -3.79712219e-07  4.90000000e+02\n",
            "  1.78680142e-11  1.99999998e+01  2.04421431e-11  8.82045015e-08\n",
            "  1.99999999e+01  1.00000000e+01  7.63037868e-08  4.40507643e-11\n",
            " -4.98152986e-09  3.34927614e-08  4.25165337e-08 -4.12084091e-08\n",
            "  1.27369426e-07 -5.99999997e+01  1.99999998e+01  3.56439382e-08\n",
            " -4.61751597e-08  3.56439382e-08  2.64226561e-11  1.99999998e+01\n",
            "  6.80400249e-08  2.03091436e-08  9.99999996e+01  2.00000001e+01\n",
            " -2.97426368e-08  5.99999997e+01  1.99999999e+01]\n",
            "This is the optimal flux vector according to the biomass as objective function: \n",
            " [ 7.47738196e+00  2.61061012e-09  4.86086115e+00 -1.60235261e+01\n",
            "  4.95998494e+00 -2.37832865e-10 -1.21531230e-10 -1.47161396e+01\n",
            "  3.21489505e+00 -6.17546903e-10 -1.24828148e-10 -2.28737917e-10\n",
            "  2.50430948e+00  6.00724958e+00  6.00724958e+00  8.39000000e+00\n",
            "  1.88578149e-09 -4.66798156e-10  7.98572822e-10  7.78413778e-10\n",
            "  5.06437566e+00  4.55140098e+01 -4.93400876e-11  1.75817744e+00\n",
            "  8.73921507e-01 -1.46883394e-10 -2.28098333e+01  2.67848185e+00\n",
            "  6.00724958e+00 -2.28150309e+00  3.14926878e-09  4.35989853e+01\n",
            " -2.30329533e-10  1.47161396e+01  3.39986105e-09 -1.09355369e-09\n",
            "  5.02532184e+02 -5.06437566e+00  1.49698376e+00  3.82850289e-09\n",
            "  1.49698376e+00  1.18149809e+00  7.47738196e+00  2.29543566e-10\n",
            "  2.14940813e-10  2.22980563e-10  2.28098333e+01  5.84082610e-10\n",
            "  2.61214982e-09  1.38343383e-14  1.32597210e-14 -1.00000000e+01\n",
            "  9.10164212e-15  1.03044393e-10  1.75308654e+01  2.91758271e+01\n",
            "  3.12188089e-10  1.20269317e-14 -4.76531919e+00 -2.17994927e+01\n",
            " -3.21489505e+00  3.61314241e-10  2.50601869e-10  7.47738196e+00\n",
            "  1.00209506e-09  1.39489044e-08 -1.65622396e-08  4.97467808e+02\n",
            "  5.36595474e-15  5.06437566e+00  5.94057209e-15  4.95998494e+00\n",
            "  1.60235261e+01  1.00000000e+01  2.23461729e-01  1.00986510e-14\n",
            " -4.54185746e+00  4.41199983e-11  3.04000780e-11 -3.93811206e-10\n",
            "  4.95998494e+00 -2.91758271e+01  6.00724958e+00  9.04491711e-10\n",
            " -3.01497494e-10  9.04491711e-10  7.17336134e-15  5.06437566e+00\n",
            "  1.84331531e-09  2.33062620e-09  3.85346096e+01  2.73175322e-09\n",
            "  4.76531919e+00  2.17994927e+01  9.28253260e+00]\n",
            "\n",
            "----------\n",
            "\n",
            "This is value of the optimal solution when PFK is the objective function:  176.6099987031807\n",
            "This is value of the optimal solution when biomass is the objective function:  0.8739215067366994\n"
          ]
        }
      ],
      "source": [
        "print('This is the optimal flux vector according to the PFK reaction as objective function: \\n', pfk_max_biomass_flux_vector)\n",
        "print('This is the optimal flux vector according to the biomass as objective function: \\n', max_biomass_flux_vector)\n",
        "\n",
        "\n",
        "print('\\n----------\\n')\n",
        "\n",
        "print('This is value of the optimal solution when PFK is the objective function: ', pfk_max_biomass_objective)\n",
        "print('This is value of the optimal solution when biomass is the objective function: ', max_biomass_objective)"
      ]
    },
    {
      "cell_type": "markdown",
      "metadata": {
        "id": "VJNLNLsw9sup"
      },
      "source": [
        "This way, someone can investigate how a metabolic network responds under different circumstances. \n",
        "\n",
        "We hope you will find `dingo` useful and easy-to-use! \n",
        "\n",
        "For anything which might be needed, don't hesitate to [open an issue](https://github.com/GeomScale/dingo/issues) on the project's GitHub repo!"
      ]
    },
    {
      "cell_type": "markdown",
      "metadata": {
        "id": "B_PX14fFqdBy"
      },
      "source": [
        "## References"
      ]
    },
    {
      "cell_type": "markdown",
      "metadata": {
        "id": "jYNJd6K9qgHB"
      },
      "source": [
        "* Palsson Bernhard. [Systems biology](https://www.cambridge.org/core/books/systems-biology/7F8445BC87019806B3625DFC4B5C27D4). Cambridge university press, 2015. \n",
        "\n",
        "* Orth Jeffrey D., Ines Thiele, and Bernhard Ø. Palsson. [\"What is flux balance analysis?.\"](https://doi.org/10.1038/nbt.1614) Nature biotechnology 28.3 (2010): 245-248.\n",
        "\n",
        "*  Chalkis Apostolos, Fisikopoulos Vissarion, Tsigaridas Elias and Zafeiropoulos Haris [\"Geometric Algorithms for Sampling the Flux Space of Metabolic Networks\"](https://drops.dagstuhl.de/opus/volltexte/2021/13820/pdf/LIPIcs-SoCG-2021-21.pdf)\n",
        "\n",
        "* Schellenberger, Jan, and Bernhard Ø. Palsson. [\"Use of randomized sampling for analysis of metabolic networks.\"](https://doi.org/10.1074/jbc.R800048200) Journal of biological chemistry 284, no. 9 (2009): 5457-5461."
      ]
    },
    {
      "cell_type": "markdown",
      "metadata": {
        "id": "dpn2LsGIIpTV"
      },
      "source": [
        "## The GeomScale project"
      ]
    },
    {
      "cell_type": "markdown",
      "metadata": {
        "id": "qjgmQMNcItsV"
      },
      "source": [
        "[Geomscale](https://geomscale.github.io/) is a research and development \n",
        "project that delivers open source code for state-of-the-art algorithms at the intersection of data science, optimization, geometric, and statistical computing. \n",
        "\n",
        "`dingo` is based on the [`volesti` package](https://github.com/GeomScale/volesti), an open source C++ library for volume approximation and sampling of convex bodies.\n",
        "\n",
        "GeomScale is part of [NumFOCUS](https://numfocus.org/) and is a Google Summer of Code [(GSoC) organization](https://summerofcode.withgoogle.com/organizations/5553085268623360/). \n",
        "\n",
        "<br/>\n",
        "\n",
        "<img src=\"https://drive.google.com/uc?id=1PTSnQi7ev1Dv0BwffvFWz4jT5zdtCmqL\" height=200>"
      ]
    }
  ],
  "metadata": {
    "colab": {
      "collapsed_sections": [],
      "include_colab_link": true,
      "name": "dingo-tutorial.ipynb",
      "provenance": [],
      "toc_visible": true
    },
    "kernelspec": {
      "display_name": "Python 3.8.10 ('dingo-pbyk38gE-py3.8')",
      "language": "python",
      "name": "python3"
    },
    "language_info": {
      "codemirror_mode": {
        "name": "ipython",
        "version": 3
      },
      "file_extension": ".py",
      "mimetype": "text/x-python",
      "name": "python",
      "nbconvert_exporter": "python",
      "pygments_lexer": "ipython3",
      "version": "3.8.10"
    },
    "vscode": {
      "interpreter": {
        "hash": "e20e28477bf95e9bf50b9367f4568ba62d5e79c5dbce591c0a04d685735e4ca6"
      }
    }
  },
  "nbformat": 4,
  "nbformat_minor": 0
}
