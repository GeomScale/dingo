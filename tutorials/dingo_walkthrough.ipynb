{
 "cells": [
  {
   "cell_type": "markdown",
   "metadata": {},
   "source": [
    "#  `dingo` : A python library for metabolic networks sampling and analysis"
   ]
  },
  {
   "cell_type": "markdown",
   "metadata": {},
   "source": [
    "This tutorial is designed to showcase a few key functionalities of the Dingo project after complete installation.\n",
    "\n",
    "For complete overview please check `dingo_tutorial.ipynb`"
   ]
  },
  {
   "cell_type": "code",
   "execution_count": 1,
   "metadata": {},
   "outputs": [],
   "source": [
    "import os\n",
    "import numpy as np"
   ]
  },
  {
   "cell_type": "markdown",
   "metadata": {},
   "source": [
    "And import the `MetabolicNetwork` class of `dingo`! "
   ]
  },
  {
   "cell_type": "code",
   "execution_count": 2,
   "metadata": {},
   "outputs": [],
   "source": [
    "from dingo import MetabolicNetwork"
   ]
  },
  {
   "cell_type": "markdown",
   "metadata": {},
   "source": [
    "Now, you can load a metabolic model. \n",
    "Currently, `dingo` gets a `.json` model format."
   ]
  },
  {
   "cell_type": "markdown",
   "metadata": {},
   "source": [
    "Ensure that the current working directory is set to `dingo`"
   ]
  },
  {
   "cell_type": "code",
   "execution_count": 3,
   "metadata": {},
   "outputs": [
    {
     "data": {
      "text/plain": [
       "'/home/lightmate/Desktop/dingo/tutorials'"
      ]
     },
     "execution_count": 3,
     "metadata": {},
     "output_type": "execute_result"
    }
   ],
   "source": [
    "import os\n",
    "os.getcwd()"
   ]
  },
  {
   "cell_type": "code",
   "execution_count": 4,
   "metadata": {},
   "outputs": [
    {
     "name": "stdout",
     "output_type": "stream",
     "text": [
      "/home/lightmate/Desktop/dingo\n"
     ]
    }
   ],
   "source": [
    "%cd .."
   ]
  },
  {
   "cell_type": "code",
   "execution_count": 5,
   "metadata": {},
   "outputs": [
    {
     "data": {
      "text/plain": [
       "'/home/lightmate/Desktop/dingo'"
      ]
     },
     "execution_count": 5,
     "metadata": {},
     "output_type": "execute_result"
    }
   ],
   "source": [
    "os.getcwd()"
   ]
  },
  {
   "cell_type": "markdown",
   "metadata": {},
   "source": [
    "tutorial"
   ]
  },
  {
   "cell_type": "code",
   "execution_count": 6,
   "metadata": {},
   "outputs": [],
   "source": [
    "model = MetabolicNetwork.from_json('ext_data/e_coli_core.json')"
   ]
  },
  {
   "cell_type": "markdown",
   "metadata": {},
   "source": [
    "Let's see what the model comprises. "
   ]
  },
  {
   "cell_type": "markdown",
   "metadata": {},
   "source": [
    "First of all, let's see the metabolites ($m$) included in our model. \n",
    "Here is the first 10 of them. "
   ]
  },
  {
   "cell_type": "code",
   "execution_count": 7,
   "metadata": {},
   "outputs": [
    {
     "name": "stdout",
     "output_type": "stream",
     "text": [
      "Number of metabolites in my model:  72\n",
      "Here are the first 10 metabolites in your model:  ['glc__D_e', 'gln__L_c', 'gln__L_e', 'glu__L_c', 'glu__L_e', 'glx_c', 'h2o_c', 'h2o_e', 'h_c']\n"
     ]
    }
   ],
   "source": [
    "print('Number of metabolites in my model: ', len(model.metabolites))\n",
    "print('Here are the first 10 metabolites in your model: ', model.metabolites[:9])"
   ]
  },
  {
   "cell_type": "markdown",
   "metadata": {},
   "source": [
    "And now, let us have a look in the reactions ($n$) that occur. \n",
    "Again, here is the first 10 reactions. "
   ]
  },
  {
   "cell_type": "code",
   "execution_count": 8,
   "metadata": {},
   "outputs": [
    {
     "name": "stdout",
     "output_type": "stream",
     "text": [
      "Number of reactions in my model:  95\n",
      "Here are the first 10 reactions in your model:  ['PFK', 'PFL', 'PGI', 'PGK', 'PGL', 'ACALD', 'AKGt2r', 'PGM', 'PIt2r']\n"
     ]
    }
   ],
   "source": [
    "print('Number of reactions in my model: ', len(model.reactions))\n",
    "print('Here are the first 10 reactions in your model: ', model.reactions[:9])"
   ]
  },
  {
   "cell_type": "markdown",
   "metadata": {},
   "source": [
    "Moreover, let us see the stoichiometrix matrix ($S$) of our model."
   ]
  },
  {
   "cell_type": "code",
   "execution_count": 9,
   "metadata": {},
   "outputs": [
    {
     "data": {
      "text/plain": [
       "array([[ 0.,  0.,  0., ...,  0.,  0.,  0.],\n",
       "       [ 0.,  0.,  0., ...,  0.,  0.,  0.],\n",
       "       [ 0.,  0.,  0., ...,  0.,  0.,  0.],\n",
       "       ...,\n",
       "       [ 0.,  0.,  0., ...,  0.,  0.,  0.],\n",
       "       [ 0.,  0.,  0., ...,  0.,  0.,  0.],\n",
       "       [ 0.,  0., -1., ...,  0.,  0.,  0.]])"
      ]
     },
     "execution_count": 9,
     "metadata": {},
     "output_type": "execute_result"
    }
   ],
   "source": [
    "model.S"
   ]
  },
  {
   "cell_type": "markdown",
   "metadata": {},
   "source": [
    "And its dimensions are of course $m*n$."
   ]
  },
  {
   "cell_type": "code",
   "execution_count": 10,
   "metadata": {},
   "outputs": [
    {
     "data": {
      "text/plain": [
       "(72, 95)"
      ]
     },
     "execution_count": 10,
     "metadata": {},
     "output_type": "execute_result"
    }
   ],
   "source": [
    "model.S.shape"
   ]
  },
  {
   "cell_type": "markdown",
   "metadata": {},
   "source": [
    "Last but not least, let us have a look at the **biomass** or **objective function** of our model. "
   ]
  },
  {
   "cell_type": "code",
   "execution_count": 11,
   "metadata": {},
   "outputs": [
    {
     "data": {
      "text/plain": [
       "array([0., 0., 0., 0., 0., 0., 0., 0., 0., 0., 0., 0., 0., 0., 0., 0., 0.,\n",
       "       0., 0., 0., 0., 0., 0., 0., 1., 0., 0., 0., 0., 0., 0., 0., 0., 0.,\n",
       "       0., 0., 0., 0., 0., 0., 0., 0., 0., 0., 0., 0., 0., 0., 0., 0., 0.,\n",
       "       0., 0., 0., 0., 0., 0., 0., 0., 0., 0., 0., 0., 0., 0., 0., 0., 0.,\n",
       "       0., 0., 0., 0., 0., 0., 0., 0., 0., 0., 0., 0., 0., 0., 0., 0., 0.,\n",
       "       0., 0., 0., 0., 0., 0., 0., 0., 0., 0.])"
      ]
     },
     "execution_count": 11,
     "metadata": {},
     "output_type": "execute_result"
    }
   ],
   "source": [
    "model.biomass_function"
   ]
  },
  {
   "cell_type": "markdown",
   "metadata": {},
   "source": [
    "As you can see, this array has only a single `1` in index `24`.\n",
    "Let's see which function is this. "
   ]
  },
  {
   "cell_type": "code",
   "execution_count": 12,
   "metadata": {},
   "outputs": [
    {
     "data": {
      "text/plain": [
       "'BIOMASS_Ecoli_core_w_GAM'"
      ]
     },
     "execution_count": 12,
     "metadata": {},
     "output_type": "execute_result"
    }
   ],
   "source": [
    "model.reactions[24]"
   ]
  },
  {
   "cell_type": "markdown",
   "metadata": {},
   "source": [
    "Ok, so what exactly is the biomass function? 🤔 \n",
    "\n",
    "Let's print the `24` column of our $S$ matrix to see what we have there."
   ]
  },
  {
   "cell_type": "code",
   "execution_count": 13,
   "metadata": {},
   "outputs": [],
   "source": [
    "import sys"
   ]
  },
  {
   "cell_type": "code",
   "execution_count": 14,
   "metadata": {},
   "outputs": [
    {
     "data": {
      "text/plain": [
       "array([  0.    ,  -0.2557,   0.    ,  -4.9414,   0.    ,   0.    ,\n",
       "       -59.81  ,   0.    ,  59.81  ,   0.    ,   0.    ,   0.    ,\n",
       "         0.    ,   0.    ,   0.    ,  -3.547 ,   3.547 ,  13.0279,\n",
       "       -13.0279,   0.    ,   0.    ,   0.    ,   0.    ,   0.    ,\n",
       "         0.    ,  -1.496 ,  -1.7867,  -0.5191,   0.    ,  59.81  ,\n",
       "         0.    ,   0.    ,   0.    ,  -2.8328,   0.    ,   0.    ,\n",
       "         0.    ,  -0.8977,   0.    ,   0.    ,   0.    ,   0.    ,\n",
       "         0.    ,  -3.7478,   0.    ,   0.    ,   0.    ,   0.    ,\n",
       "         0.    ,   0.    ,  59.81  ,   4.1182,   0.    ,   0.    ,\n",
       "       -59.81  ,   0.    ,   0.    ,   0.    ,   3.7478,   0.    ,\n",
       "        -0.361 ,   0.    ,   0.    ,  -0.0709,   0.    ,   0.    ,\n",
       "         0.    ,   0.    ,   0.    ,   0.    ,  -0.129 ,  -0.205 ])"
      ]
     },
     "execution_count": 14,
     "metadata": {},
     "output_type": "execute_result"
    }
   ],
   "source": [
    "# We import numpy and set the threshold parameter to max to enable the display of all the elements of the array\n",
    "np.set_printoptions(threshold=sys.maxsize)\n",
    "model.S[:,24]"
   ]
  },
  {
   "cell_type": "markdown",
   "metadata": {},
   "source": [
    "And just to make sure, let's print the length of this array too. "
   ]
  },
  {
   "cell_type": "code",
   "execution_count": 15,
   "metadata": {},
   "outputs": [
    {
     "data": {
      "text/plain": [
       "(72,)"
      ]
     },
     "execution_count": 15,
     "metadata": {},
     "output_type": "execute_result"
    }
   ],
   "source": [
    "model.S[:,24].shape"
   ]
  },
  {
   "cell_type": "markdown",
   "metadata": {},
   "source": [
    "As expected, the length of the biomass array equals to the number of the metabolites of our model. "
   ]
  },
  {
   "cell_type": "code",
   "execution_count": 16,
   "metadata": {},
   "outputs": [
    {
     "data": {
      "text/plain": [
       "72"
      ]
     },
     "execution_count": 16,
     "metadata": {},
     "output_type": "execute_result"
    }
   ],
   "source": [
    "len(model.metabolites)"
   ]
  },
  {
   "cell_type": "markdown",
   "metadata": {},
   "source": [
    "Moreover, you need to remember that the indexes of those 2 arrays are in order, meaning that the actual biomass function would be as follows:"
   ]
  },
  {
   "cell_type": "markdown",
   "metadata": {},
   "source": [
    "$ 59.81*adp\\_c - 59.81*atp\\_c -0.0709*f6p\\_c + ...  -0.8977*r5p\\_c$"
   ]
  },
  {
   "cell_type": "markdown",
   "metadata": {},
   "source": [
    "You can also have a look at the `dingo` related parameters of the model you just built."
   ]
  },
  {
   "cell_type": "code",
   "execution_count": 17,
   "metadata": {},
   "outputs": [
    {
     "data": {
      "text/plain": [
       "{'opt_percentage': 100,\n",
       " 'distribution': 'uniform',\n",
       " 'nullspace_method': 'sparseQR',\n",
       " 'fast_computations': True}"
      ]
     },
     "execution_count": 17,
     "metadata": {},
     "output_type": "execute_result"
    }
   ],
   "source": [
    "model.parameters"
   ]
  },
  {
   "cell_type": "markdown",
   "metadata": {},
   "source": [
    "### ..to optimize an objective function (FBA)"
   ]
  },
  {
   "cell_type": "markdown",
   "metadata": {},
   "source": [
    "To perform FBA with `dingo`, you just need to call the according method ([`fba`](https://github.com/GeomScale/dingo/blob/a76b4be22f33feac86dff38746c7f2706afb2b67/dingo/MetabolicNetwork.py#L107)) of the `model` you built using the [`MetabolicNetwork`](https://github.com/GeomScale/dingo/blob/a76b4be22f33feac86dff38746c7f2706afb2b67/dingo/MetabolicNetwork.py#L21) class. \n",
    "\n",
    "FBA is a lot easier both from the computational and the geometical point of view and it takes much less time. "
   ]
  },
  {
   "cell_type": "code",
   "execution_count": 18,
   "metadata": {},
   "outputs": [],
   "source": [
    "%%capture\n",
    "fba_output = model.fba()"
   ]
  },
  {
   "cell_type": "markdown",
   "metadata": {},
   "source": [
    "As already mentioned, FBA identifies an **optimal** flux distribution by optimizing a linear **objective function**.\n",
    "\n",
    "So the output of FBA can be considered as a single sample of the flux sampling method described above. Thus, if we check on the output this time we will see that it has 2 attributes:\n",
    "* the **flux vector** (meaning the set of the reactions flux values in the same solution) which maximizes the objective function.\n",
    "* the **flux value** that the objective function achieves at the maximum"
   ]
  },
  {
   "cell_type": "code",
   "execution_count": 19,
   "metadata": {},
   "outputs": [
    {
     "name": "stdout",
     "output_type": "stream",
     "text": [
      "This is the optimal flux vector according to the biomass objective function:  [ 7.47738196e+00  0.00000000e+00  4.86086115e+00 -1.60235261e+01\n",
      "  4.95998494e+00  0.00000000e+00  0.00000000e+00 -1.47161396e+01\n",
      "  3.21489505e+00  0.00000000e+00  0.00000000e+00  0.00000000e+00\n",
      "  2.50430947e+00  6.00724958e+00  6.00724958e+00  8.39000000e+00\n",
      "  0.00000000e+00  0.00000000e+00  0.00000000e+00  0.00000000e+00\n",
      "  5.06437566e+00  4.55140098e+01  0.00000000e+00  1.75817744e+00\n",
      "  8.73921507e-01  0.00000000e+00 -2.28098333e+01  2.67848185e+00\n",
      "  6.00724958e+00 -2.28150309e+00  0.00000000e+00  4.35989853e+01\n",
      "  0.00000000e+00  1.47161396e+01  0.00000000e+00  0.00000000e+00\n",
      "  1.00000000e+03 -5.06437566e+00  1.49698376e+00  0.00000000e+00\n",
      "  1.49698376e+00  1.18149809e+00  7.47738196e+00  0.00000000e+00\n",
      "  0.00000000e+00  0.00000000e+00  2.28098333e+01  0.00000000e+00\n",
      "  0.00000000e+00  0.00000000e+00  0.00000000e+00 -1.00000000e+01\n",
      "  0.00000000e+00  0.00000000e+00  1.75308654e+01  2.91758271e+01\n",
      "  0.00000000e+00  0.00000000e+00 -4.76531919e+00 -2.17994927e+01\n",
      " -3.21489505e+00  0.00000000e+00  0.00000000e+00  7.47738196e+00\n",
      "  0.00000000e+00  0.00000000e+00  0.00000000e+00  9.94935624e+02\n",
      "  0.00000000e+00  5.06437566e+00  0.00000000e+00  4.95998494e+00\n",
      "  1.60235261e+01  1.00000000e+01  2.23461729e-01  0.00000000e+00\n",
      " -4.54185746e+00  0.00000000e+00  0.00000000e+00  0.00000000e+00\n",
      "  4.95998494e+00 -2.91758271e+01  6.00724958e+00  0.00000000e+00\n",
      "  0.00000000e+00  0.00000000e+00  0.00000000e+00  5.06437566e+00\n",
      "  0.00000000e+00  0.00000000e+00  3.85346097e+01  0.00000000e+00\n",
      "  4.76531919e+00  2.17994927e+01  9.28253260e+00]\n",
      "----------\n",
      "This is the value of that optimal solution of the objective function:  0.8739215069684305\n"
     ]
    }
   ],
   "source": [
    "np.set_printoptions(threshold=None)\n",
    "\n",
    "max_biomass_flux_vector = fba_output[0]\n",
    "max_biomass_objective = fba_output[1]\n",
    "\n",
    "print('This is the optimal flux vector according to the biomass objective function: ', max_biomass_flux_vector)\n",
    "print('----------')\n",
    "print('This is the value of that optimal solution of the objective function: ', max_biomass_objective)"
   ]
  },
  {
   "cell_type": "markdown",
   "metadata": {},
   "source": [
    "💪 Even it is quite common that the objective function is the biomass function of a model, **you can change your objective function** as you wish and use any reaction as your objective function.\n",
    "\n",
    "For example, to maximize the 1st reaction of the model, we first build an array with the number of reactions of our model with `0`s and then we set only its first elemet equal to `1`:"
   ]
  },
  {
   "cell_type": "code",
   "execution_count": 20,
   "metadata": {},
   "outputs": [],
   "source": [
    "n = model.num_of_reactions()\n",
    "obj_fun = np.zeros(n)\n",
    "obj_fun[0] = 1"
   ]
  },
  {
   "cell_type": "markdown",
   "metadata": {},
   "source": [
    "Now we can replace the `biomass_function` parameter of our model with our new objective function"
   ]
  },
  {
   "cell_type": "code",
   "execution_count": 21,
   "metadata": {},
   "outputs": [],
   "source": [
    "model.biomass_function = obj_fun"
   ]
  },
  {
   "cell_type": "markdown",
   "metadata": {},
   "source": [
    "And if we now ask to see our new objective function: "
   ]
  },
  {
   "cell_type": "code",
   "execution_count": 22,
   "metadata": {},
   "outputs": [
    {
     "data": {
      "text/plain": [
       "array([1., 0., 0., 0., 0., 0., 0., 0., 0., 0., 0., 0., 0., 0., 0., 0., 0.,\n",
       "       0., 0., 0., 0., 0., 0., 0., 0., 0., 0., 0., 0., 0., 0., 0., 0., 0.,\n",
       "       0., 0., 0., 0., 0., 0., 0., 0., 0., 0., 0., 0., 0., 0., 0., 0., 0.,\n",
       "       0., 0., 0., 0., 0., 0., 0., 0., 0., 0., 0., 0., 0., 0., 0., 0., 0.,\n",
       "       0., 0., 0., 0., 0., 0., 0., 0., 0., 0., 0., 0., 0., 0., 0., 0., 0.,\n",
       "       0., 0., 0., 0., 0., 0., 0., 0., 0., 0.])"
      ]
     },
     "execution_count": 22,
     "metadata": {},
     "output_type": "execute_result"
    }
   ],
   "source": [
    "model.biomass_function"
   ]
  },
  {
   "cell_type": "markdown",
   "metadata": {},
   "source": [
    "You see that the `1` is now not in the `24` index but in the first. 🎉\n",
    "\n",
    "So if we run now a FBA here is what we will get. "
   ]
  },
  {
   "cell_type": "code",
   "execution_count": 23,
   "metadata": {},
   "outputs": [],
   "source": [
    "%%capture\n",
    "fba_output_new_obj = model.fba()"
   ]
  },
  {
   "cell_type": "code",
   "execution_count": 24,
   "metadata": {},
   "outputs": [
    {
     "name": "stdout",
     "output_type": "stream",
     "text": [
      "This is the optimal flux vector according to my objective function:  [ 176.61    0.     10.    -20.      0.      0.      0.    -20.      0.\n",
      "    0.      0.      0.      0.     20.     20.      8.39    0.      0.\n",
      "    0.      0.     20.    135.      0.     10.      0.      0.    -60.\n",
      "    0.     20.      0.      0.    120.      0.     20.      0.      0.\n",
      " 1000.    -20.      0.      0.      0.      0.     10.      0.      0.\n",
      "    0.     60.      0.      0.      0.      0.    -10.      0.      0.\n",
      "    0.     60.      0.      0.      0.    -60.      0.      0.      0.\n",
      "   10.    166.61    0.      0.    980.      0.     20.      0.      0.\n",
      "   20.     10.      0.      0.      0.      0.      0.      0.      0.\n",
      "  -60.     20.      0.      0.      0.      0.     20.      0.      0.\n",
      "  100.     20.      0.     60.     20.  ]\n",
      "----------\n",
      "This is the value of that optimal solution of the new objective function:  176.60999999999996\n"
     ]
    }
   ],
   "source": [
    "max_biomass_flux_vector_new_obj = fba_output_new_obj[0]\n",
    "max_biomass_objective_new_obj = fba_output_new_obj[1]\n",
    "print('This is the optimal flux vector according to my objective function: ', max_biomass_flux_vector_new_obj)\n",
    "print('----------')\n",
    "print('This is the value of that optimal solution of the new objective function: ', max_biomass_objective_new_obj)"
   ]
  },
  {
   "cell_type": "markdown",
   "metadata": {},
   "source": [
    "### ..to find the minimum and maximum flux for each reaction (FVA)\n",
    "\n",
    "Let's run FVA using that; this will take a while 😉"
   ]
  },
  {
   "cell_type": "code",
   "execution_count": 25,
   "metadata": {},
   "outputs": [
    {
     "data": {
      "text/plain": [
       "'PFK'"
      ]
     },
     "execution_count": 25,
     "metadata": {},
     "output_type": "execute_result"
    }
   ],
   "source": [
    "model.reactions[0]"
   ]
  },
  {
   "cell_type": "markdown",
   "metadata": {},
   "source": [
    "As we said earlier, FVA gets the min and max value of each reaction flux that can still satisfy the constraints of the metabolic model.\n",
    "\n",
    "**Remember!** \n",
    "\n",
    "In the previous step, we replaced the `biomass_function` of our model. So if we run FVA in our current model, then the first reaction of our model "
   ]
  },
  {
   "cell_type": "code",
   "execution_count": 26,
   "metadata": {},
   "outputs": [],
   "source": [
    "%%capture\n",
    "# Run FVA\n",
    "fva_output = model.fva()\n",
    "\n",
    "# Get min and max flux values\n",
    "pfk_min_fluxes = fva_output[0]\n",
    "pfk_max_fluxes = fva_output[1]\n",
    "\n",
    "# Get the max flux distribution and the max biomass value when the objective function is maximum\n",
    "pfk_max_biomass_flux_vector = fva_output[2]\n",
    "pfk_max_biomass_objective = fva_output[3]"
   ]
  },
  {
   "cell_type": "markdown",
   "metadata": {},
   "source": [
    "We can go with that or if we need to go back in using the actual biomass function of our model, we can either do the same process as before to change again the `biomass_function` or we can just build a new instance of the `MetabolicNetwork` class. "
   ]
  },
  {
   "cell_type": "code",
   "execution_count": 27,
   "metadata": {},
   "outputs": [],
   "source": [
    "%%capture\n",
    "# Build new instance of the model\n",
    "model = MetabolicNetwork.from_json('ext_data/e_coli_core.json')\n",
    "\n",
    "# Run FVA\n",
    "fva_output = model.fva()\n",
    "\n",
    "# Get min and max flux values\n",
    "min_fluxes = fva_output[0]\n",
    "max_fluxes = fva_output[1]\n",
    "\n",
    "# Get the max flux distribution and the max biomass value when the objective function is maximum\n",
    "max_biomass_flux_vector = fva_output[2]\n",
    "max_biomass_objective = fva_output[3]"
   ]
  },
  {
   "cell_type": "markdown",
   "metadata": {},
   "source": [
    "Let's see how they're different!"
   ]
  },
  {
   "cell_type": "code",
   "execution_count": 28,
   "metadata": {},
   "outputs": [
    {
     "name": "stdout",
     "output_type": "stream",
     "text": [
      "This is the flux vector with the minimum values of each flux when the PFK reaction gets maximum:  [ 1.76609999e+02  0.00000000e+00  9.99999867e+00 -2.00000000e+01\n",
      "  0.00000000e+00 -1.53846148e-07 -9.30232495e-08 -2.00000000e+01\n",
      "  0.00000000e+00 -1.33333325e-07 -1.53846148e-07 -2.35294110e-07\n",
      "  0.00000000e+00  1.99999996e+01  1.99999996e+01  8.39000000e+00\n",
      "  0.00000000e+00 -2.35294110e-07  0.00000000e+00  0.00000000e+00\n",
      "  1.99999990e+01  1.34999999e+02  0.00000000e+00  9.99999900e+00\n",
      "  0.00000000e+00 -1.53846148e-07 -6.00000000e+01 -3.86129825e-09\n",
      "  1.99999996e+01 -4.44444426e-07  0.00000000e+00  1.19999999e+02\n",
      " -1.29032255e-07  1.99999996e+01  0.00000000e+00 -1.33333325e-07\n",
      "  1.99999996e+01 -2.00000000e+01 -9.46457589e-10  0.00000000e+00\n",
      " -9.61027051e-10 -2.85630235e-09  9.99999956e+00  0.00000000e+00\n",
      "  0.00000000e+00  0.00000000e+00  5.99999993e+01  0.00000000e+00\n",
      "  0.00000000e+00  0.00000000e+00  0.00000000e+00 -1.00000000e+01\n",
      "  0.00000000e+00  0.00000000e+00  0.00000000e+00  5.99999993e+01\n",
      "  0.00000000e+00  0.00000000e+00 -1.63265300e-07 -6.00000000e+01\n",
      " -1.97614973e-08  0.00000000e+00  0.00000000e+00  9.99999956e+00\n",
      "  1.66609999e+02  0.00000000e+00 -3.99999999e-06  0.00000000e+00\n",
      " -5.40540555e-08  1.99999996e+01 -1.14285793e-07  0.00000000e+00\n",
      "  1.99999996e+01  9.99999995e+00  0.00000000e+00 -8.16326509e-08\n",
      " -7.69230795e-08  0.00000000e+00  0.00000000e+00 -8.33333260e-08\n",
      "  0.00000000e+00 -6.00000000e+01  1.99999990e+01  0.00000000e+00\n",
      " -1.29032255e-07  0.00000000e+00 -1.14285854e-07  1.99999990e+01\n",
      "  0.00000000e+00  0.00000000e+00  9.99999993e+01  1.99999990e+01\n",
      "  0.00000000e+00  5.99999995e+01  1.99999993e+01]\n",
      "This is the flux vector with the minimum values of each flux when the biomass function gets maximum:  [ 7.47730610e+00  0.00000000e+00  4.86063216e+00 -1.60236104e+01\n",
      "  4.95973618e+00 -1.47484815e-05 -8.29602083e-06 -1.47162246e+01\n",
      "  3.21489318e+00 -1.28454516e-05 -1.47484815e-05 -2.21227222e-05\n",
      "  2.50390981e+00  6.00718037e+00  6.00718037e+00  8.39000000e+00\n",
      "  0.00000000e+00 -2.21227222e-05  0.00000000e+00  0.00000000e+00\n",
      "  5.06390880e+00  4.55138011e+01  0.00000000e+00  1.75807836e+00\n",
      "  8.73921000e-01 -1.47484815e-05 -2.28098549e+01  2.67831637e+00\n",
      "  6.00718037e+00 -2.28157909e+00  0.00000000e+00  4.35989411e+01\n",
      " -1.24440312e-05  1.47160653e+01  0.00000000e+00 -1.28454516e-05\n",
      "  5.06430700e+00 -5.06446629e+00  1.49690093e+00  0.00000000e+00\n",
      "  1.49690093e+00  1.18141545e+00  7.47730610e+00  0.00000000e+00\n",
      "  0.00000000e+00  0.00000000e+00  2.28097885e+01  0.00000000e+00\n",
      "  0.00000000e+00  0.00000000e+00  0.00000000e+00 -1.00000000e+01\n",
      "  0.00000000e+00  0.00000000e+00  1.75308553e+01  2.91757786e+01\n",
      "  0.00000000e+00  0.00000000e+00 -4.76532380e+00 -2.17995148e+01\n",
      " -3.21489505e+00  0.00000000e+00  0.00000000e+00  7.47730610e+00\n",
      "  0.00000000e+00  0.00000000e+00 -3.98209000e-04  0.00000000e+00\n",
      "  0.00000000e+00  5.06430700e+00  0.00000000e+00  4.95973618e+00\n",
      "  1.60234511e+01  9.99999447e+00  2.23461600e-01  0.00000000e+00\n",
      " -4.54186220e+00  0.00000000e+00  0.00000000e+00 -7.37424074e-06\n",
      "  4.95973618e+00 -2.91758450e+01  6.00678216e+00  0.00000000e+00\n",
      " -1.24440312e-05  0.00000000e+00  0.00000000e+00  5.06428046e+00\n",
      "  0.00000000e+00  0.00000000e+00  3.85345633e+01  0.00000000e+00\n",
      "  4.76531643e+00  2.17994706e+01  9.28246150e+00]\n",
      "----------\n",
      "This is the flux vector with the maximum values of each flux when the PFK reaction gets maximum:  [ 1.76610000e+02  6.66666651e-07  1.00000000e+01 -1.99999996e+01\n",
      "  1.33333331e-06 -0.00000000e+00 -0.00000000e+00 -1.99999996e+01\n",
      "  1.97615009e-08 -0.00000000e+00 -0.00000000e+00 -0.00000000e+00\n",
      "  9.99999969e-07  2.00000000e+01  2.00000000e+01  8.39000100e+00\n",
      "  1.00000003e-06 -0.00000000e+00  9.99999969e-07  9.99999969e-07\n",
      "  2.00000000e+01  1.35000000e+02  2.35294110e-07  1.00000010e+01\n",
      "  5.37186734e-09 -0.00000000e+00 -5.99999993e+01  8.88888870e-07\n",
      "  2.00000000e+01 -0.00000000e+00  1.33333329e-06  1.20000000e+02\n",
      " -0.00000000e+00  2.00000000e+01  1.33333329e-06 -0.00000000e+00\n",
      "  1.00000000e+03 -1.99999990e+01  4.44444435e-07  1.99999999e-06\n",
      "  4.44444435e-07  4.44444435e-07  1.00000000e+01  2.35294110e-07\n",
      "  1.53846148e-07  9.30232531e-08  6.00000000e+01  1.33333332e-07\n",
      "  6.66666665e-07  5.40540537e-08 -0.00000000e+00 -9.99999995e+00\n",
      " -0.00000000e+00  8.33333331e-08  6.66666665e-07  6.00000000e+01\n",
      "  1.29032259e-07 -0.00000000e+00 -0.00000000e+00 -5.99999995e+01\n",
      " -0.00000000e+00  1.53846152e-07  1.11111110e-07  1.00000000e+01\n",
      "  1.66610000e+02  3.99999999e-06 -0.00000000e+00  9.80000000e+02\n",
      " -0.00000000e+00  2.00000000e+01 -0.00000000e+00  1.33333331e-06\n",
      "  2.00000000e+01  1.00000000e+01  9.99999969e-07 -0.00000000e+00\n",
      "  9.99999969e-07  9.99999969e-07  9.99999997e-07 -0.00000000e+00\n",
      "  1.33333326e-06 -5.99999992e+01  2.00000000e+01  9.99999914e-07\n",
      " -0.00000000e+00  9.99999914e-07 -0.00000000e+00  2.00000010e+01\n",
      "  1.00000003e-06  1.00000003e-06  1.00000000e+02  2.00000022e+01\n",
      "  1.77777771e-07  6.00000000e+01  2.00000010e+01]\n",
      "This is the flux vector with the maximum values of each flux when the biomass function gets maximum:  [ 7.47748530e+00  6.63681666e-05  4.86111001e+00 -1.60234511e+01\n",
      "  4.96021403e+00 -0.00000000e+00 -0.00000000e+00 -1.47160653e+01\n",
      "  3.21489505e+00 -0.00000000e+00 -0.00000000e+00 -0.00000000e+00\n",
      "  2.50444075e+00  6.00733965e+00  6.00733965e+00  8.39009955e+00\n",
      "  9.95522498e-05 -0.00000000e+00  9.95522498e-05  9.95522500e-05\n",
      "  5.06446629e+00  4.55141197e+01  2.21227222e-05  1.75850311e+00\n",
      "  8.73921507e-01 -0.00000000e+00 -2.28097885e+01  2.67863494e+00\n",
      "  6.00733965e+00 -2.28141981e+00  1.32736333e-04  4.35990296e+01\n",
      " -0.00000000e+00  1.47162246e+01  1.32736333e-04 -0.00000000e+00\n",
      "  1.00000000e+03 -5.06390880e+00  1.49706021e+00  3.98208999e-04\n",
      "  1.49706021e+00  1.18157473e+00  7.47746539e+00  2.21227222e-05\n",
      "  1.47484815e-05  8.29602083e-06  2.28098549e+01  1.28454516e-05\n",
      "  6.63681666e-05 -0.00000000e+00 -0.00000000e+00 -9.99999447e+00\n",
      " -0.00000000e+00  7.37424074e-06  1.75309216e+01  2.91758450e+01\n",
      "  1.24440312e-05 -0.00000000e+00 -4.76531643e+00 -2.17994706e+01\n",
      " -3.21489318e+00  1.47484815e-05  9.71241457e-06  7.47746539e+00\n",
      "  9.95522500e-05  3.98209000e-04 -0.00000000e+00  9.94935693e+02\n",
      " -0.00000000e+00  5.06446629e+00 -0.00000000e+00  4.96021403e+00\n",
      "  1.60236104e+01  1.00000000e+01  2.23561152e-01 -0.00000000e+00\n",
      " -4.54175528e+00  9.95522500e-05  9.95522500e-05 -0.00000000e+00\n",
      "  4.96021403e+00 -2.91757786e+01  6.00733965e+00  3.98209000e-04\n",
      " -0.00000000e+00  3.98209000e-04 -0.00000000e+00  5.06470521e+00\n",
      "  9.95522500e-05  1.32736333e-04  3.85347226e+01  3.98209000e-04\n",
      "  4.76532380e+00  2.17995148e+01  9.28285970e+00]\n"
     ]
    }
   ],
   "source": [
    "print('This is the flux vector with the minimum values of each flux when the PFK reaction gets maximum: ', pfk_min_fluxes)\n",
    "print('This is the flux vector with the minimum values of each flux when the biomass function gets maximum: ', min_fluxes)\n",
    "\n",
    "print('----------')\n",
    "\n",
    "print('This is the flux vector with the maximum values of each flux when the PFK reaction gets maximum: ', pfk_max_fluxes)\n",
    "print('This is the flux vector with the maximum values of each flux when the biomass function gets maximum: ', max_fluxes)"
   ]
  },
  {
   "cell_type": "markdown",
   "metadata": {},
   "source": [
    "Apparently (and obviously) they are quite different!\n",
    "\n",
    "The same thing is with the flux vector and the max biomass objective.\n",
    "\n",
    "### ..to sample the flux space of your model\n",
    "\n",
    "Finally, one may sample the model's flux space using the [`PolytopeSampler`](https://github.com/GeomScale/dingo/blob/a76b4be22f33feac86dff38746c7f2706afb2b67/dingo/PolytopeSampler.py#L28) class of `dingo`. \n",
    "\n",
    "To do so, you first build an instance of this class based on your `model`:"
   ]
  },
  {
   "cell_type": "code",
   "execution_count": 29,
   "metadata": {},
   "outputs": [],
   "source": [
    "from dingo import PolytopeSampler\n",
    "sampler = PolytopeSampler(model)"
   ]
  },
  {
   "cell_type": "markdown",
   "metadata": {},
   "source": [
    "Then, the [`generate_steady_states()`](https://github.com/GeomScale/dingo/blob/a76b4be22f33feac86dff38746c7f2706afb2b67/dingo/PolytopeSampler.py#L119) method can be used for flux sampling. \n",
    "\n",
    "This method optionally gets as arguments the following: \n",
    "\n",
    "* the **effective sample size (ESS)** asked (by default `ESS = 1000`). ESS is the number of effectively independent draws from the posterior distribution that the Markov chain is equivalent to.\n",
    " \n",
    "* the **Potential Scale Reduction Factor (PSRF)** of each marginal flux to  get an upper bound equal to 1.1 (by default that is set as `False`)\n",
    "\n",
    "So, let's sample!"
   ]
  },
  {
   "cell_type": "code",
   "execution_count": 30,
   "metadata": {},
   "outputs": [
    {
     "name": "stdout",
     "output_type": "stream",
     "text": [
      "phase 1: number of correlated samples = 500, effective sample size = 4, ratio of the maximum singilar value over the minimum singular value = 1935.12\n",
      "phase 2: number of correlated samples = 500, effective sample size = 5, ratio of the maximum singilar value over the minimum singular value = 171.436\n",
      "phase 3: number of correlated samples = 500, effective sample size = 27, ratio of the maximum singilar value over the minimum singular value = 133.184\n",
      "phase 4: number of correlated samples = 500, effective sample size = 84, ratio of the maximum singilar value over the minimum singular value = 57.8386\n",
      "phase 5: number of correlated samples = 500, effective sample size = 147, ratio of the maximum singilar value over the minimum singular value = 2.95199\n",
      "phase 6: number of correlated samples = 1800, effective sample size = 755"
     ]
    },
    {
     "name": "stderr",
     "output_type": "stream",
     "text": [
      "\n",
      " [1]maximum marginal PSRF: 1.38012\n",
      "[2]maximum marginal PSRF: 1.19941\n",
      "[2]total ess: 1018\n",
      "[2]maximum marginal PSRF: 1.07896\n",
      "[2]total ess: 1013\n"
     ]
    }
   ],
   "source": [
    "%%capture\n",
    "steady_states = sampler.generate_steady_states(ess = 1000, psrf = True) # this took a little bit more than 5 minutes"
   ]
  },
  {
   "cell_type": "markdown",
   "metadata": {},
   "source": [
    "Above, a great number of values of the flux of each reaction is computed, given that the system is always at a steady state. \n",
    "\n",
    "That means that we now have a **flux distribution** (all the values computed for the flux of a specific reaction) for each reaction of our model!\n",
    "\n",
    "Obviously, we have as many flux distributions as the reactions of our model:"
   ]
  },
  {
   "cell_type": "code",
   "execution_count": 31,
   "metadata": {},
   "outputs": [
    {
     "name": "stdout",
     "output_type": "stream",
     "text": [
      "Number of reactions in my model:  95\n",
      "Number of flux distributions sampled:  95\n"
     ]
    }
   ],
   "source": [
    "print('Number of reactions in my model: ', len(model.reactions))\n",
    "print('Number of flux distributions sampled: ', steady_states.shape[0])"
   ]
  },
  {
   "cell_type": "markdown",
   "metadata": {},
   "source": [
    "And each flux distribution has as many flux values as `dingo` required to reach the ESS asked. "
   ]
  },
  {
   "cell_type": "code",
   "execution_count": 32,
   "metadata": {},
   "outputs": [
    {
     "name": "stdout",
     "output_type": "stream",
     "text": [
      "Number of flux values of the flux distributions returned:  3300\n"
     ]
    }
   ],
   "source": [
    "print('Number of flux values of the flux distributions returned: ', steady_states.shape[1])"
   ]
  },
  {
   "cell_type": "markdown",
   "metadata": {},
   "source": [
    "Let us now assume that we are interested in a certain reaction of our model, for example the last reaction of the glycolysis which is catalyzed by the Pyruvate kinase (PYK) enzyme. \n",
    "\n",
    "We first need to look in the `model.reactions` list and find the index of the `PYK` reaction; the enzyme is usually the name of reaction. "
   ]
  },
  {
   "cell_type": "code",
   "execution_count": 33,
   "metadata": {},
   "outputs": [
    {
     "data": {
      "text/plain": [
       "23"
      ]
     },
     "execution_count": 33,
     "metadata": {},
     "output_type": "execute_result"
    }
   ],
   "source": [
    "model.reactions.index('PYK')"
   ]
  },
  {
   "cell_type": "markdown",
   "metadata": {},
   "source": [
    "Now that we know the index of the reaction of our interest, we can use the [`plot_histogram`](https://github.com/GeomScale/dingo/blob/a76b4be22f33feac86dff38746c7f2706afb2b67/dingo/utils.py#L177) function of `dingo` to plot its corresponding flux distribution. "
   ]
  },
  {
   "cell_type": "code",
   "execution_count": 34,
   "metadata": {},
   "outputs": [
    {
     "data": {
      "image/png": "[encoded data removed]",
      "text/plain": [
       "<Figure size 700x700 with 1 Axes>"
      ]
     },
     "metadata": {},
     "output_type": "display_data"
    }
   ],
   "source": [
    "from dingo import plot_histogram\n",
    "\n",
    "reactions = model.reactions\n",
    "plot_histogram(\n",
    "        steady_states[23],  # here we set which reaction's flux we need to get \n",
    "        reactions[23],      # here we provide the name of the reaction\n",
    "        n_bins = 60,\n",
    ")"
   ]
  },
  {
   "cell_type": "markdown",
   "metadata": {},
   "source": [
    "From the flux distribution of PYK we can that most values fall between 1.7 and 1.9 and that it looks approximately normal, with a mean value at 1.775 mmol/gDW/h (millimoles per gram dry weight per hour).\n"
   ]
  },
  {
   "cell_type": "code",
   "execution_count": 35,
   "metadata": {},
   "outputs": [
    {
     "name": "stdout",
     "output_type": "stream",
     "text": [
      "Requirement already satisfied: nbformat in /home/lightmate/.cache/pypoetry/virtualenvs/dingo-LjuFnYZa-py3.8/lib/python3.8/site-packages (5.9.2)\n",
      "Requirement already satisfied: fastjsonschema in /home/lightmate/.cache/pypoetry/virtualenvs/dingo-LjuFnYZa-py3.8/lib/python3.8/site-packages (from nbformat) (2.19.1)\n",
      "Requirement already satisfied: jsonschema>=2.6 in /home/lightmate/.cache/pypoetry/virtualenvs/dingo-LjuFnYZa-py3.8/lib/python3.8/site-packages (from nbformat) (4.21.1)\n",
      "Requirement already satisfied: jupyter-core in /home/lightmate/.cache/pypoetry/virtualenvs/dingo-LjuFnYZa-py3.8/lib/python3.8/site-packages (from nbformat) (5.7.1)\n",
      "Requirement already satisfied: traitlets>=5.1 in /home/lightmate/.cache/pypoetry/virtualenvs/dingo-LjuFnYZa-py3.8/lib/python3.8/site-packages (from nbformat) (5.14.1)\n",
      "Requirement already satisfied: attrs>=22.2.0 in /home/lightmate/.cache/pypoetry/virtualenvs/dingo-LjuFnYZa-py3.8/lib/python3.8/site-packages (from jsonschema>=2.6->nbformat) (23.2.0)\n",
      "Requirement already satisfied: importlib-resources>=1.4.0 in /home/lightmate/.cache/pypoetry/virtualenvs/dingo-LjuFnYZa-py3.8/lib/python3.8/site-packages (from jsonschema>=2.6->nbformat) (5.10.1)\n",
      "Requirement already satisfied: jsonschema-specifications>=2023.03.6 in /home/lightmate/.cache/pypoetry/virtualenvs/dingo-LjuFnYZa-py3.8/lib/python3.8/site-packages (from jsonschema>=2.6->nbformat) (2023.12.1)\n",
      "Requirement already satisfied: pkgutil-resolve-name>=1.3.10 in /home/lightmate/.cache/pypoetry/virtualenvs/dingo-LjuFnYZa-py3.8/lib/python3.8/site-packages (from jsonschema>=2.6->nbformat) (1.3.10)\n",
      "Requirement already satisfied: referencing>=0.28.4 in /home/lightmate/.cache/pypoetry/virtualenvs/dingo-LjuFnYZa-py3.8/lib/python3.8/site-packages (from jsonschema>=2.6->nbformat) (0.33.0)\n",
      "Requirement already satisfied: rpds-py>=0.7.1 in /home/lightmate/.cache/pypoetry/virtualenvs/dingo-LjuFnYZa-py3.8/lib/python3.8/site-packages (from jsonschema>=2.6->nbformat) (0.18.0)\n",
      "Requirement already satisfied: platformdirs>=2.5 in /home/lightmate/.cache/pypoetry/virtualenvs/dingo-LjuFnYZa-py3.8/lib/python3.8/site-packages (from jupyter-core->nbformat) (4.2.0)\n",
      "Requirement already satisfied: zipp>=3.1.0 in /home/lightmate/.cache/pypoetry/virtualenvs/dingo-LjuFnYZa-py3.8/lib/python3.8/site-packages (from importlib-resources>=1.4.0->jsonschema>=2.6->nbformat) (3.11.0)\n",
      "\n",
      "\u001b[1m[\u001b[0m\u001b[34;49mnotice\u001b[0m\u001b[1;39;49m]\u001b[0m\u001b[39;49m A new release of pip is available: \u001b[0m\u001b[31;49m23.1\u001b[0m\u001b[39;49m -> \u001b[0m\u001b[32;49m24.0\u001b[0m\n",
      "\u001b[1m[\u001b[0m\u001b[34;49mnotice\u001b[0m\u001b[1;39;49m]\u001b[0m\u001b[39;49m To update, run: \u001b[0m\u001b[32;49mpip install --upgrade pip\u001b[0m\n"
     ]
    }
   ],
   "source": [
    "!pip install --upgrade nbformat"
   ]
  },
  {
   "cell_type": "code",
   "execution_count": 36,
   "metadata": {},
   "outputs": [
    {
     "data": {
      "application/vnd.plotly.v1+json": {
       "config": {
        "plotlyServerURL": "https://plot.ly"
       },
       "data": [
        {
         "type": "surface",
         "z": [
          [
           0.018787878787878787,
           0.040606060606060604,
           0.04666666666666667,
           0.044848484848484846,
           0.04909090909090909
          ],
          [
           0.045454545454545456,
           0.04909090909090909,
           0.04303030303030303,
           0.03303030303030303,
           0.029393939393939392
          ],
          [
           0.04909090909090909,
           0.04606060606060606,
           0.037575757575757575,
           0.04151515151515151,
           0.025757575757575757
          ],
          [
           0.051515151515151514,
           0.03787878787878788,
           0.04151515151515151,
           0.04,
           0.02909090909090909
          ],
          [
           0.03515151515151515,
           0.026363636363636363,
           0.031212121212121212,
           0.040606060606060604,
           0.06666666666666667
          ]
         ]
        }
       ],
       "layout": {
        "height": 600,
        "margin": {
         "b": 30,
         "l": 30,
         "r": 30,
         "t": 50
        },
        "scene": {
         "xaxis": {
          "title": {
           "text": "PYK"
          }
         },
         "yaxis": {
          "title": {
           "text": "ATPS4r"
          }
         },
         "zaxis": {
          "title": {
           "text": "prob, mass"
          }
         }
        },
        "title": {
         "text": "Copula between PYK and ATPS4r"
        },
        "width": 900
       }
      }
     },
     "metadata": {},
     "output_type": "display_data"
    }
   ],
   "source": [
    "from dingo.illustrations import plot_copula\n",
    "\n",
    "reaction_1 = [steady_states[23], reactions[23]]\n",
    "reaction_2 = [steady_states[21], reactions[21]]\n",
    "\n",
    "plot_copula(reaction_1, reaction_2, n = 5, width = 900 , height = 600, export_format = \"svg\")\n"
   ]
  },
  {
   "cell_type": "markdown",
   "metadata": {},
   "source": [
    "Applications of flux sampling can provide great insight in many ways. \n",
    "\n",
    "Based on the [iAB-AMØ-1410](https://doi.org/10.1038/msb.2010.68) genome-scale metabolic model of human alveolar macrophages and the SARS-CoV-2 virus biomass objective function (VBOF) they built, [Renz et al. (2020)](https://doi.org/10.1093/bioinformatics/btaa813) investigated for alterations in the metabolism to come up with potential antiviral targets. "
   ]
  },
  {
   "cell_type": "markdown",
   "metadata": {},
   "source": [
    "In line with the findings of Renz et al. (2020), flux sampling in the metabolic model built from the macrophage model and the VBOF using `dingo` indicates **guanylate kinase (GK1)** as a potential antiviral target. \n",
    "Flux sampling was perfored first with no objective function for the virus and then after maximizing the VBOF built by Renz et al. (2020). \n",
    "\n",
    "<img src=\"https://drive.google.com/uc?id=1IOdSscVP0HoTRctQuSCywgIXokUNE-_v\" height=400>\n",
    "\n"
   ]
  },
  {
   "cell_type": "markdown",
   "metadata": {},
   "source": [
    "\n",
    "------\n",
    "\n",
    "We hope you will find dingo useful and easy-to-use!\n",
    "\n",
    "For anything which might be needed, don't hesitate to open an issue on the project's GitHub repo!\n",
    "\n",
    "\n",
    "---"
   ]
  },
  {
   "cell_type": "markdown",
   "metadata": {},
   "source": [
    "## References"
   ]
  },
  {
   "cell_type": "markdown",
   "metadata": {},
   "source": [
    "* Palsson Bernhard. [Systems biology](https://www.cambridge.org/core/books/systems-biology/7F8445BC87019806B3625DFC4B5C27D4). Cambridge university press, 2015. \n",
    "\n",
    "* Orth Jeffrey D., Ines Thiele, and Bernhard Ø. Palsson. [\"What is flux balance analysis?.\"](https://doi.org/10.1038/nbt.1614) Nature biotechnology 28.3 (2010): 245-248.\n",
    "\n",
    "*  Chalkis Apostolos, Fisikopoulos Vissarion, Tsigaridas Elias and Zafeiropoulos Haris [\"Geometric Algorithms for Sampling the Flux Space of Metabolic Networks\"](https://drops.dagstuhl.de/opus/volltexte/2021/13820/pdf/LIPIcs-SoCG-2021-21.pdf)\n",
    "\n",
    "* Schellenberger, Jan, and Bernhard Ø. Palsson. [\"Use of randomized sampling for analysis of metabolic networks.\"](https://doi.org/10.1074/jbc.R800048200) Journal of biological chemistry 284, no. 9 (2009): 5457-5461."
   ]
  },
  {
   "cell_type": "markdown",
   "metadata": {},
   "source": [
    "## The GeomScale project"
   ]
  },
  {
   "cell_type": "markdown",
   "metadata": {},
   "source": [
    "[Geomscale](https://geomscale.github.io/) is a research and development \n",
    "project that delivers open source code for state-of-the-art algorithms at the intersection of data science, optimization, geometric, and statistical computing. \n",
    "\n",
    "`dingo` is based on the [`volesti` package](https://github.com/GeomScale/volesti), an open source C++ library for volume approximation and sampling of convex bodies.\n",
    "\n",
    "GeomScale is part of [NumFOCUS](https://numfocus.org/) and is a Google Summer of Code [(GSoC) organization](https://summerofcode.withgoogle.com/organizations/5553085268623360/). \n",
    "\n",
    "<br/>\n",
    "\n",
    "<img src=\"https://drive.google.com/uc?id=1PTSnQi7ev1Dv0BwffvFWz4jT5zdtCmqL\" height=200>"
   ]
  },
  {
   "cell_type": "markdown",
   "metadata": {},
   "source": []
  }
 ],
 "metadata": {
  "kernelspec": {
   "display_name": "dingo-LjuFnYZa-py3.8",
   "language": "python",
   "name": "python3"
  },
  "language_info": {
   "codemirror_mode": {
    "name": "ipython",
    "version": 3
   },
   "file_extension": ".py",
   "mimetype": "text/x-python",
   "name": "python",
   "nbconvert_exporter": "python",
   "pygments_lexer": "ipython3",
   "version": "3.8.0"
  }
 },
 "nbformat": 4,
 "nbformat_minor": 2
}
